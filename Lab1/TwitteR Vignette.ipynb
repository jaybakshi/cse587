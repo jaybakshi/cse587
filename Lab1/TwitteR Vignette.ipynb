{
 "cells": [
  {
   "cell_type": "markdown",
   "metadata": {
    "collapsed": true
   },
   "source": [
    "---\n",
    "<h1> JAY BAKSHI : 50206954 </h1>\n",
    "<br/><mark>TwitteR client for R, using the tutorial by the Jeff Gentry.</mark>\n",
    "\n",
    "---"
   ]
  },
  {
   "cell_type": "code",
   "execution_count": 1,
   "metadata": {
    "collapsed": false
   },
   "outputs": [
    {
     "name": "stderr",
     "output_type": "stream",
     "text": [
      "Installing package into 'C:/Users/Jay/Documents/R/win-library/3.3'\n",
      "(as 'lib' is unspecified)\n"
     ]
    },
    {
     "name": "stdout",
     "output_type": "stream",
     "text": [
      "package 'twitteR' successfully unpacked and MD5 sums checked\n",
      "\n",
      "The downloaded binary packages are in\n",
      "\tC:\\Users\\Jay\\AppData\\Local\\Temp\\RtmpcdDt6C\\downloaded_packages\n"
     ]
    }
   ],
   "source": [
    "install.packages('twitteR', repos='https://cran.r-project.org')"
   ]
  },
  {
   "cell_type": "code",
   "execution_count": 3,
   "metadata": {
    "collapsed": false
   },
   "outputs": [
    {
     "name": "stderr",
     "output_type": "stream",
     "text": [
      "Installing package into 'C:/Users/Jay/Documents/R/win-library/3.3'\n",
      "(as 'lib' is unspecified)\n",
      "Warning message:\n",
      "\"package 'roauth' is not available (for R version 3.3.2)\"Warning message:\n",
      "\"Perhaps you meant 'ROAuth' ?\""
     ]
    }
   ],
   "source": [
    "install.packages('roauth', repos = 'https://cran.r-project.org')"
   ]
  },
  {
   "cell_type": "markdown",
   "metadata": {},
   "source": [
    "---\n",
    "<mark>Library import statements. To be ran everytime the notebook/kernel is restarted.</mark>\n",
    "\n",
    "---"
   ]
  },
  {
   "cell_type": "code",
   "execution_count": 4,
   "metadata": {
    "collapsed": true
   },
   "outputs": [],
   "source": [
    "library(twitteR)"
   ]
  },
  {
   "cell_type": "markdown",
   "metadata": {},
   "source": [
    "-------------------------------------------------------------------------------------------\n",
    "<b>Authentication with OAuth.</b>\n",
    "<br/>Twitter Credentials.\n",
    "<br/>Will need to run this for authenticating the session everytime notebook is restarted.\n",
    "\n",
    "-------------------------------------------------------------------------------------------"
   ]
  },
  {
   "cell_type": "code",
   "execution_count": 5,
   "metadata": {
    "collapsed": false
   },
   "outputs": [
    {
     "name": "stdout",
     "output_type": "stream",
     "text": [
      "[1] \"Using direct authentication\"\n"
     ]
    }
   ],
   "source": [
    "appname <- \"jbcse587\"\n",
    "apikey <- \"yCwDe8rI6TbRgKGmREZsWWsha\"\n",
    "apisecret <- \"U2P6fhWFI4wk0PJFwDkhGDieRfxiA4QO0o4xPXHo0brDxl5dfF\"\n",
    "token <- \"2573201196-eKJFxzeu6QfdsaDkYHdidF37682TIJX61eP6hHI\"\n",
    "tokensecret <- \"mU2SxcTYzjNzXi51MX0tg2B2eQcDinANFjSsCLFnO3iw9\"\n",
    "setup_twitter_oauth(apikey,apisecret,token,tokensecret)"
   ]
  },
  {
   "cell_type": "markdown",
   "metadata": {},
   "source": [
    "---\n",
    "<b>Getting started with the Twitter search using API</b>\n",
    "\n",
    "---"
   ]
  },
  {
   "cell_type": "code",
   "execution_count": 6,
   "metadata": {
    "collapsed": false
   },
   "outputs": [
    {
     "data": {
      "text/plain": [
       "[[1]]\n",
       "[1] \"TradeArcher: RT @KirkDBorne: How to Install #Microsoft R Server for Windows: https://t.co/1VPRKYFL9r #Rstats #BigData #MachineLearning #DataScience http",
       "\"\n",
       "\n",
       "[[2]]\n",
       "[1] \"EClassHosting: RT @KirkDBorne: How to Install #Microsoft R Server for Windows: https://t.co/1VPRKYFL9r #Rstats #BigData #MachineLearning #DataScience http",
       "\"\n",
       "\n",
       "[[3]]\n",
       "[1] \"DataScienceTH: RT @KirkDBorne: How to Install #Microsoft R Server for Windows: https://t.co/1VPRKYFL9r #Rstats #BigData #MachineLearning #DataScience http",
       "\"\n",
       "\n",
       "[[4]]\n",
       "[1] \"TheDonquixotic: RT @micahstubbs: #WebVR Grammar of Graphics \\nbuilt on #aframevr #shiny #gglplot2 #rstats\\n<ed><U+00A0><U+00BC><ed><U+00BC><U+0090> @Datatitian \\n<ed><U+00A0><U+00BD><ed><U+00B3><U+008A> https://t.co/mOgW4y0796 \\n<ed><U+00A0><U+00BD><ed><U+00B4><U+0080> https:",
       "\"\n",
       "\n",
       "[[5]]\n",
       "[1] \"krimuthu: RT @KirkDBorne: How to Install #Microsoft R Server for Windows: https://t.co/1VPRKYFL9r #Rstats #BigData #MachineLearning #DataScience http",
       "\"\n",
       "\n",
       "[[6]]\n",
       "[1] \"dushyantgadewal: RT @KirkDBorne: How to Install #Microsoft R Server for Windows: https://t.co/1VPRKYFL9r #Rstats #BigData #MachineLearning #DataScience http",
       "\"\n"
      ]
     },
     "metadata": {},
     "output_type": "display_data"
    }
   ],
   "source": [
    "tweets <- searchTwitter('#rstats', n=50)\n",
    "head(tweets)"
   ]
  },
  {
   "cell_type": "code",
   "execution_count": 7,
   "metadata": {
    "collapsed": false
   },
   "outputs": [
    {
     "data": {
      "text/plain": [
       "[[1]]\n",
       "[1] \"millard_joe: Experimenting with #python and #rstats integration - managed to successfully build a species spell checking #Shiny app!\"\n",
       "\n",
       "[[2]]\n",
       "[1] \"sellorm: @xieyihui Know of any others? https://t.co/4vuO4bRT6r #blogdown #rstats\"\n",
       "\n",
       "[[3]]\n",
       "[1] \"dasaptaerwin: @BiswapriyaMisra thanks. Need to dig deeper into this #rstats packages. PS: if I have time :). Have a pleasant Sunday.\"\n",
       "\n",
       "[[4]]\n",
       "[1] \"jonmcalder: It's been an unforgettable 3 days of collaborative investment into the #rstats community for #satRdayCapeTown - so many new friends made :-)\"\n",
       "\n",
       "[[5]]\n",
       "[1] \"SteffLocke: Use your .Rprofile to give you important notifications https://t.co/aDqKSXXfPr #bestpractices #hibpwned #rstats\"\n",
       "\n",
       "[[6]]\n",
       "[1] \"pjs_228: When you're watching rstudio::conf talks and think about that most of your colleagues still do gui / non tidy data analysis :/ #rstats\"\n"
      ]
     },
     "metadata": {},
     "output_type": "display_data"
    }
   ],
   "source": [
    "head(strip_retweets(tweets, strip_manual=TRUE, strip_mt=TRUE))"
   ]
  },
  {
   "cell_type": "markdown",
   "metadata": {},
   "source": [
    "---\n",
    "<b>Looking at users.</b>\n",
    "\n",
    "---"
   ]
  },
  {
   "cell_type": "code",
   "execution_count": 8,
   "metadata": {
    "collapsed": false
   },
   "outputs": [
    {
     "data": {
      "text/html": [
       "'I like some things, and I dislike everything else.'"
      ],
      "text/latex": [
       "'I like some things, and I dislike everything else.'"
      ],
      "text/markdown": [
       "'I like some things, and I dislike everything else.'"
      ],
      "text/plain": [
       "[1] \"I like some things, and I dislike everything else.\""
      ]
     },
     "metadata": {},
     "output_type": "display_data"
    }
   ],
   "source": [
    "crantastic <- getUser('crantastic')\n",
    "crantastic$getDescription()"
   ]
  },
  {
   "cell_type": "code",
   "execution_count": 9,
   "metadata": {
    "collapsed": false
   },
   "outputs": [
    {
     "data": {
      "text/html": [
       "32"
      ],
      "text/latex": [
       "32"
      ],
      "text/markdown": [
       "32"
      ],
      "text/plain": [
       "[1] 32"
      ]
     },
     "metadata": {},
     "output_type": "display_data"
    }
   ],
   "source": [
    "crantastic$getFollowersCount()"
   ]
  },
  {
   "cell_type": "code",
   "execution_count": 10,
   "metadata": {
    "collapsed": false
   },
   "outputs": [
    {
     "data": {
      "text/plain": [
       "$`35985504`\n",
       "[1] \"MisElizaJane\"\n",
       "\n",
       "$`90472293`\n",
       "[1] \"emtothea\"\n",
       "\n",
       "$`30987732`\n",
       "[1] \"MelanieScrofano\"\n",
       "\n",
       "$`4709232802`\n",
       "[1] \"WynonnaEarp\"\n"
      ]
     },
     "metadata": {},
     "output_type": "display_data"
    }
   ],
   "source": [
    "crantastic$getFriends(n=5)"
   ]
  },
  {
   "cell_type": "code",
   "execution_count": 11,
   "metadata": {
    "collapsed": false
   },
   "outputs": [
    {
     "data": {
      "text/plain": [
       "[[1]]\n",
       "[1] \"erictcarrasco: That \\\"Black lung\\\" line was a @Chy_Leigh joke. Loved it so much we made her keep saying it. #Supergirl #SupergirlLives #Sanvers\"\n",
       "\n",
       "[[2]]\n",
       "[1] \"MelanieScrofano: I shall be INSUFFERABLE when the @WynonnaEarp comic I'm co-writing with @BeauSmithRanch comes out. \\\"The Earp Sister",
       " https://t.co/h0Q6XrE1dV\"\n",
       "\n",
       "[[3]]\n",
       "[1] \"katevoegele: just casually throwing my white gold hoops in the ring to play #GretchenWieners in this https://t.co/0l9FSGjTuD\"\n",
       "\n",
       "[[4]]\n",
       "[1] \"boglesthemind: Here we go, QSO - female writer, female director, female producer, female editor, female lead, female first ad #PersonOfInterest #toofemale\"\n",
       "\n",
       "[[5]]\n",
       "[1] \"ohnikkers: @keithkurson naw they did two shows in london and i went to both.  i made hannah fall in love with the scottish accent tho so NEXT TIME\"\n"
      ]
     },
     "metadata": {},
     "output_type": "display_data"
    }
   ],
   "source": [
    "crantastic$getFavorites(n=5)"
   ]
  },
  {
   "cell_type": "markdown",
   "metadata": {},
   "source": [
    "---\n",
    "<b>Conversion to data.frames</b>\n",
    "\n",
    "---"
   ]
  },
  {
   "cell_type": "code",
   "execution_count": 12,
   "metadata": {
    "collapsed": false
   },
   "outputs": [
    {
     "data": {
      "text/html": [
       "<table>\n",
       "<thead><tr><th scope=col>text</th><th scope=col>favorited</th><th scope=col>favoriteCount</th><th scope=col>replyToSN</th><th scope=col>created</th><th scope=col>truncated</th><th scope=col>replyToSID</th><th scope=col>id</th><th scope=col>replyToUID</th><th scope=col>statusSource</th><th scope=col>screenName</th><th scope=col>retweetCount</th><th scope=col>isRetweet</th><th scope=col>retweeted</th><th scope=col>longitude</th><th scope=col>latitude</th></tr></thead>\n",
       "<tbody>\n",
       "\t<tr><td><span style=white-space:pre-wrap>RT @KirkDBorne: How to Install #Microsoft R Server for Windows: https://t.co/1VPRKYFL9r #Rstats #BigData #MachineLearning #DataScience http…                                                                                                                         </span></td><td>FALSE                                                                                                                                                                                                                                                                                                        </td><td>0                                                                                                                                                                                                                                                                                                            </td><td>NA                                                                                                                                                                                                                                                                                                           </td><td>2017-02-19 00:21:37                                                                                                                                                                                                                                                                                          </td><td>FALSE                                                                                                                                                                                                                                                                                                        </td><td>NA                                                                                                                                                                                                                                                                                                           </td><td>833109244735950848                                                                                                                                                                                                                                                                                           </td><td>NA                                                                                                                                                                                                                                                                                                           </td><td><span style=white-space:pre-wrap>&lt;a href=\"http://twitter.com/download/iphone\" rel=\"nofollow\"&gt;Twitter for iPhone&lt;/a&gt;  </span>                                                                                                                                                                     </td><td><span style=white-space:pre-wrap>TradeArcher    </span>                                                                                                                                                                                                                                                      </td><td> 20                                                                                                                                                                                                                                                                                                          </td><td>TRUE                                                                                                                                                                                                                                                                                                         </td><td>FALSE                                                                                                                                                                                                                                                                                                        </td><td>NA                                                                                                                                                                                                                                                                                                           </td><td>NA                                                                                                                                                                                                                                                                                                           </td></tr>\n",
       "\t<tr><td><span style=white-space:pre-wrap>RT @KirkDBorne: How to Install #Microsoft R Server for Windows: https://t.co/1VPRKYFL9r #Rstats #BigData #MachineLearning #DataScience http…                                                                                                                         </span></td><td>FALSE                                                                                                                                                                                                                                                                                                        </td><td>0                                                                                                                                                                                                                                                                                                            </td><td>NA                                                                                                                                                                                                                                                                                                           </td><td>2017-02-19 00:21:16                                                                                                                                                                                                                                                                                          </td><td>FALSE                                                                                                                                                                                                                                                                                                        </td><td>NA                                                                                                                                                                                                                                                                                                           </td><td>833109158794764288                                                                                                                                                                                                                                                                                           </td><td>NA                                                                                                                                                                                                                                                                                                           </td><td><span style=white-space:pre-wrap>&lt;a href=\"http://EClassHosting.com\" rel=\"nofollow\"&gt;EClassHosting finder&lt;/a&gt;          </span>                                                                                                                                                                     </td><td><span style=white-space:pre-wrap>EClassHosting  </span>                                                                                                                                                                                                                                                      </td><td> 20                                                                                                                                                                                                                                                                                                          </td><td>TRUE                                                                                                                                                                                                                                                                                                         </td><td>FALSE                                                                                                                                                                                                                                                                                                        </td><td>NA                                                                                                                                                                                                                                                                                                           </td><td>NA                                                                                                                                                                                                                                                                                                           </td></tr>\n",
       "\t<tr><td><span style=white-space:pre-wrap>RT @KirkDBorne: How to Install #Microsoft R Server for Windows: https://t.co/1VPRKYFL9r #Rstats #BigData #MachineLearning #DataScience http…                                                                                                                         </span></td><td>FALSE                                                                                                                                                                                                                                                                                                        </td><td>0                                                                                                                                                                                                                                                                                                            </td><td>NA                                                                                                                                                                                                                                                                                                           </td><td>2017-02-19 00:20:50                                                                                                                                                                                                                                                                                          </td><td>FALSE                                                                                                                                                                                                                                                                                                        </td><td>NA                                                                                                                                                                                                                                                                                                           </td><td>833109047985348608                                                                                                                                                                                                                                                                                           </td><td>NA                                                                                                                                                                                                                                                                                                           </td><td><span style=white-space:pre-wrap>&lt;a href=\"http://twitter.com/download/iphone\" rel=\"nofollow\"&gt;Twitter for iPhone&lt;/a&gt;  </span>                                                                                                                                                                     </td><td><span style=white-space:pre-wrap>DataScienceTH  </span>                                                                                                                                                                                                                                                      </td><td> 20                                                                                                                                                                                                                                                                                                          </td><td>TRUE                                                                                                                                                                                                                                                                                                         </td><td>FALSE                                                                                                                                                                                                                                                                                                        </td><td>NA                                                                                                                                                                                                                                                                                                           </td><td>NA                                                                                                                                                                                                                                                                                                           </td></tr>\n",
       "\t<tr><td>RT @micahstubbs: #WebVR Grammar of Graphics \n",
       "built on #aframevr #shiny #gglplot2 #rstats\n",
       "&lt;ed&gt;&lt;U+00A0&gt;&lt;U+00BC&gt;&lt;ed&gt;&lt;U+00BC&gt;&lt;U+0090&gt; @Datatitian \n",
       "&lt;ed&gt;&lt;U+00A0&gt;&lt;U+00BD&gt;&lt;ed&gt;&lt;U+00B3&gt;&lt;U+008A&gt; https://t.co/mOgW4y0796 \n",
       "&lt;ed&gt;&lt;U+00A0&gt;&lt;U+00BD&gt;&lt;ed&gt;&lt;U+00B4&gt;&lt;U+0080&gt; https:…</td><td>FALSE                                                                                                                                                                                                                                                                                                                                                                            </td><td>0                                                                                                                                                                                                                                                                                                                                                                                </td><td>NA                                                                                                                                                                                                                                                                                                                                                                               </td><td>2017-02-19 00:18:17                                                                                                                                                                                                                                                                                                                                                              </td><td>FALSE                                                                                                                                                                                                                                                                                                                                                                            </td><td>NA                                                                                                                                                                                                                                                                                                                                                                               </td><td>833108408496693248                                                                                                                                                                                                                                                                                                                                                               </td><td>NA                                                                                                                                                                                                                                                                                                                                                                               </td><td>&lt;a href=\"http://twitter.com/download/android\" rel=\"nofollow\"&gt;Twitter for Android&lt;/a&gt;                                                                                                                                                                                                                                                                                 </td><td>TheDonquixotic                                                                                                                                                                                                                                                                                                                                                                   </td><td>256                                                                                                                                                                                                                                                                                                                                                                              </td><td>TRUE                                                                                                                                                                                                                                                                                                                                                                             </td><td>FALSE                                                                                                                                                                                                                                                                                                                                                                            </td><td>NA                                                                                                                                                                                                                                                                                                                                                                               </td><td>NA                                                                                                                                                                                                                                                                                                                                                                               </td></tr>\n",
       "\t<tr><td><span style=white-space:pre-wrap>RT @KirkDBorne: How to Install #Microsoft R Server for Windows: https://t.co/1VPRKYFL9r #Rstats #BigData #MachineLearning #DataScience http…                                                                                                                         </span></td><td>FALSE                                                                                                                                                                                                                                                                                                        </td><td>0                                                                                                                                                                                                                                                                                                            </td><td>NA                                                                                                                                                                                                                                                                                                           </td><td>2017-02-19 00:17:01                                                                                                                                                                                                                                                                                          </td><td>FALSE                                                                                                                                                                                                                                                                                                        </td><td>NA                                                                                                                                                                                                                                                                                                           </td><td>833108090895663104                                                                                                                                                                                                                                                                                           </td><td>NA                                                                                                                                                                                                                                                                                                           </td><td><span style=white-space:pre-wrap>&lt;a href=\"http://muthu.co\" rel=\"nofollow\"&gt;MuthuBot&lt;/a&gt;                               </span>                                                                                                                                                                     </td><td><span style=white-space:pre-wrap>krimuthu       </span>                                                                                                                                                                                                                                                      </td><td> 20                                                                                                                                                                                                                                                                                                          </td><td>TRUE                                                                                                                                                                                                                                                                                                         </td><td>FALSE                                                                                                                                                                                                                                                                                                        </td><td>NA                                                                                                                                                                                                                                                                                                           </td><td>NA                                                                                                                                                                                                                                                                                                           </td></tr>\n",
       "\t<tr><td><span style=white-space:pre-wrap>RT @KirkDBorne: How to Install #Microsoft R Server for Windows: https://t.co/1VPRKYFL9r #Rstats #BigData #MachineLearning #DataScience http…                                                                                                                         </span></td><td>FALSE                                                                                                                                                                                                                                                                                                        </td><td>0                                                                                                                                                                                                                                                                                                            </td><td>NA                                                                                                                                                                                                                                                                                                           </td><td>2017-02-19 00:14:06                                                                                                                                                                                                                                                                                          </td><td>FALSE                                                                                                                                                                                                                                                                                                        </td><td>NA                                                                                                                                                                                                                                                                                                           </td><td>833107355134865409                                                                                                                                                                                                                                                                                           </td><td>NA                                                                                                                                                                                                                                                                                                           </td><td><span style=white-space:pre-wrap>&lt;a href=\"https://www.arctoplabs.com\" rel=\"nofollow\"&gt;Dushyant Tweet&lt;/a&gt;              </span>                                                                                                                                                                     </td><td>dushyantgadewal                                                                                                                                                                                                                                                                                              </td><td> 20                                                                                                                                                                                                                                                                                                          </td><td>TRUE                                                                                                                                                                                                                                                                                                         </td><td>FALSE                                                                                                                                                                                                                                                                                                        </td><td>NA                                                                                                                                                                                                                                                                                                           </td><td>NA                                                                                                                                                                                                                                                                                                           </td></tr>\n",
       "</tbody>\n",
       "</table>\n"
      ],
      "text/latex": [
       "\\begin{tabular}{r|llllllllllllllll}\n",
       " text & favorited & favoriteCount & replyToSN & created & truncated & replyToSID & id & replyToUID & statusSource & screenName & retweetCount & isRetweet & retweeted & longitude & latitude\\\\\n",
       "\\hline\n",
       "\t RT @KirkDBorne: How to Install \\#Microsoft R Server for Windows: https://t.co/1VPRKYFL9r \\#Rstats \\#BigData \\#MachineLearning \\#DataScience http…                                                                                                                          & FALSE                                                                                                                                                                                                                                                                           & 0                                                                                                                                                                                                                                                                               & NA                                                                                                                                                                                                                                                                              & 2017-02-19 00:21:37                                                                                                                                                                                                                                                             & FALSE                                                                                                                                                                                                                                                                           & NA                                                                                                                                                                                                                                                                              & 833109244735950848                                                                                                                                                                                                                                                              & NA                                                                                                                                                                                                                                                                              & <a href=\"http://twitter.com/download/iphone\" rel=\"nofollow\">Twitter for iPhone</a>                                                                                                                                                                                              & TradeArcher                                                                                                                                                                                                                                                                     &  20                                                                                                                                                                                                                                                                             & TRUE                                                                                                                                                                                                                                                                            & FALSE                                                                                                                                                                                                                                                                           & NA                                                                                                                                                                                                                                                                              & NA                                                                                                                                                                                                                                                                             \\\\\n",
       "\t RT @KirkDBorne: How to Install \\#Microsoft R Server for Windows: https://t.co/1VPRKYFL9r \\#Rstats \\#BigData \\#MachineLearning \\#DataScience http…                                                                                                                          & FALSE                                                                                                                                                                                                                                                                           & 0                                                                                                                                                                                                                                                                               & NA                                                                                                                                                                                                                                                                              & 2017-02-19 00:21:16                                                                                                                                                                                                                                                             & FALSE                                                                                                                                                                                                                                                                           & NA                                                                                                                                                                                                                                                                              & 833109158794764288                                                                                                                                                                                                                                                              & NA                                                                                                                                                                                                                                                                              & <a href=\"http://EClassHosting.com\" rel=\"nofollow\">EClassHosting finder</a>                                                                                                                                                                                                      & EClassHosting                                                                                                                                                                                                                                                                   &  20                                                                                                                                                                                                                                                                             & TRUE                                                                                                                                                                                                                                                                            & FALSE                                                                                                                                                                                                                                                                           & NA                                                                                                                                                                                                                                                                              & NA                                                                                                                                                                                                                                                                             \\\\\n",
       "\t RT @KirkDBorne: How to Install \\#Microsoft R Server for Windows: https://t.co/1VPRKYFL9r \\#Rstats \\#BigData \\#MachineLearning \\#DataScience http…                                                                                                                          & FALSE                                                                                                                                                                                                                                                                           & 0                                                                                                                                                                                                                                                                               & NA                                                                                                                                                                                                                                                                              & 2017-02-19 00:20:50                                                                                                                                                                                                                                                             & FALSE                                                                                                                                                                                                                                                                           & NA                                                                                                                                                                                                                                                                              & 833109047985348608                                                                                                                                                                                                                                                              & NA                                                                                                                                                                                                                                                                              & <a href=\"http://twitter.com/download/iphone\" rel=\"nofollow\">Twitter for iPhone</a>                                                                                                                                                                                              & DataScienceTH                                                                                                                                                                                                                                                                   &  20                                                                                                                                                                                                                                                                             & TRUE                                                                                                                                                                                                                                                                            & FALSE                                                                                                                                                                                                                                                                           & NA                                                                                                                                                                                                                                                                              & NA                                                                                                                                                                                                                                                                             \\\\\n",
       "\t RT @micahstubbs: \\#WebVR Grammar of Graphics \n",
       "built on \\#aframevr \\#shiny \\#gglplot2 \\#rstats\n",
       "<ed><U+00A0><U+00BC><ed><U+00BC><U+0090> @Datatitian \n",
       "<ed><U+00A0><U+00BD><ed><U+00B3><U+008A> https://t.co/mOgW4y0796 \n",
       "<ed><U+00A0><U+00BD><ed><U+00B4><U+0080> https:… & FALSE                                                                                                                                                                                                                                                                           & 0                                                                                                                                                                                                                                                                               & NA                                                                                                                                                                                                                                                                              & 2017-02-19 00:18:17                                                                                                                                                                                                                                                             & FALSE                                                                                                                                                                                                                                                                           & NA                                                                                                                                                                                                                                                                              & 833108408496693248                                                                                                                                                                                                                                                              & NA                                                                                                                                                                                                                                                                              & <a href=\"http://twitter.com/download/android\" rel=\"nofollow\">Twitter for Android</a>                                                                                                                                                                                            & TheDonquixotic                                                                                                                                                                                                                                                                  & 256                                                                                                                                                                                                                                                                             & TRUE                                                                                                                                                                                                                                                                            & FALSE                                                                                                                                                                                                                                                                           & NA                                                                                                                                                                                                                                                                              & NA                                                                                                                                                                                                                                                                             \\\\\n",
       "\t RT @KirkDBorne: How to Install \\#Microsoft R Server for Windows: https://t.co/1VPRKYFL9r \\#Rstats \\#BigData \\#MachineLearning \\#DataScience http…                                                                                                                          & FALSE                                                                                                                                                                                                                                                                           & 0                                                                                                                                                                                                                                                                               & NA                                                                                                                                                                                                                                                                              & 2017-02-19 00:17:01                                                                                                                                                                                                                                                             & FALSE                                                                                                                                                                                                                                                                           & NA                                                                                                                                                                                                                                                                              & 833108090895663104                                                                                                                                                                                                                                                              & NA                                                                                                                                                                                                                                                                              & <a href=\"http://muthu.co\" rel=\"nofollow\">MuthuBot</a>                                                                                                                                                                                                                           & krimuthu                                                                                                                                                                                                                                                                        &  20                                                                                                                                                                                                                                                                             & TRUE                                                                                                                                                                                                                                                                            & FALSE                                                                                                                                                                                                                                                                           & NA                                                                                                                                                                                                                                                                              & NA                                                                                                                                                                                                                                                                             \\\\\n",
       "\t RT @KirkDBorne: How to Install \\#Microsoft R Server for Windows: https://t.co/1VPRKYFL9r \\#Rstats \\#BigData \\#MachineLearning \\#DataScience http…                                                                                                                          & FALSE                                                                                                                                                                                                                                                                           & 0                                                                                                                                                                                                                                                                               & NA                                                                                                                                                                                                                                                                              & 2017-02-19 00:14:06                                                                                                                                                                                                                                                             & FALSE                                                                                                                                                                                                                                                                           & NA                                                                                                                                                                                                                                                                              & 833107355134865409                                                                                                                                                                                                                                                              & NA                                                                                                                                                                                                                                                                              & <a href=\"https://www.arctoplabs.com\" rel=\"nofollow\">Dushyant Tweet</a>                                                                                                                                                                                                          & dushyantgadewal                                                                                                                                                                                                                                                                 &  20                                                                                                                                                                                                                                                                             & TRUE                                                                                                                                                                                                                                                                            & FALSE                                                                                                                                                                                                                                                                           & NA                                                                                                                                                                                                                                                                              & NA                                                                                                                                                                                                                                                                             \\\\\n",
       "\\end{tabular}\n"
      ],
      "text/markdown": [
       "\n",
       "text | favorited | favoriteCount | replyToSN | created | truncated | replyToSID | id | replyToUID | statusSource | screenName | retweetCount | isRetweet | retweeted | longitude | latitude | \n",
       "|---|---|---|---|---|---|\n",
       "| RT @KirkDBorne: How to Install #Microsoft R Server for Windows: https://t.co/1VPRKYFL9r #Rstats #BigData #MachineLearning #DataScience http…                                                                                                                          | FALSE                                                                                                                                                                                                                                                                 | 0                                                                                                                                                                                                                                                                     | NA                                                                                                                                                                                                                                                                    | 2017-02-19 00:21:37                                                                                                                                                                                                                                                   | FALSE                                                                                                                                                                                                                                                                 | NA                                                                                                                                                                                                                                                                    | 833109244735950848                                                                                                                                                                                                                                                    | NA                                                                                                                                                                                                                                                                    | <a href=\"http://twitter.com/download/iphone\" rel=\"nofollow\">Twitter for iPhone</a>                                                                                                                                                                                    | TradeArcher                                                                                                                                                                                                                                                           |  20                                                                                                                                                                                                                                                                   | TRUE                                                                                                                                                                                                                                                                  | FALSE                                                                                                                                                                                                                                                                 | NA                                                                                                                                                                                                                                                                    | NA                                                                                                                                                                                                                                                                    | \n",
       "| RT @KirkDBorne: How to Install #Microsoft R Server for Windows: https://t.co/1VPRKYFL9r #Rstats #BigData #MachineLearning #DataScience http…                                                                                                                          | FALSE                                                                                                                                                                                                                                                                 | 0                                                                                                                                                                                                                                                                     | NA                                                                                                                                                                                                                                                                    | 2017-02-19 00:21:16                                                                                                                                                                                                                                                   | FALSE                                                                                                                                                                                                                                                                 | NA                                                                                                                                                                                                                                                                    | 833109158794764288                                                                                                                                                                                                                                                    | NA                                                                                                                                                                                                                                                                    | <a href=\"http://EClassHosting.com\" rel=\"nofollow\">EClassHosting finder</a>                                                                                                                                                                                            | EClassHosting                                                                                                                                                                                                                                                         |  20                                                                                                                                                                                                                                                                   | TRUE                                                                                                                                                                                                                                                                  | FALSE                                                                                                                                                                                                                                                                 | NA                                                                                                                                                                                                                                                                    | NA                                                                                                                                                                                                                                                                    | \n",
       "| RT @KirkDBorne: How to Install #Microsoft R Server for Windows: https://t.co/1VPRKYFL9r #Rstats #BigData #MachineLearning #DataScience http…                                                                                                                          | FALSE                                                                                                                                                                                                                                                                 | 0                                                                                                                                                                                                                                                                     | NA                                                                                                                                                                                                                                                                    | 2017-02-19 00:20:50                                                                                                                                                                                                                                                   | FALSE                                                                                                                                                                                                                                                                 | NA                                                                                                                                                                                                                                                                    | 833109047985348608                                                                                                                                                                                                                                                    | NA                                                                                                                                                                                                                                                                    | <a href=\"http://twitter.com/download/iphone\" rel=\"nofollow\">Twitter for iPhone</a>                                                                                                                                                                                    | DataScienceTH                                                                                                                                                                                                                                                         |  20                                                                                                                                                                                                                                                                   | TRUE                                                                                                                                                                                                                                                                  | FALSE                                                                                                                                                                                                                                                                 | NA                                                                                                                                                                                                                                                                    | NA                                                                                                                                                                                                                                                                    | \n",
       "| RT @micahstubbs: #WebVR Grammar of Graphics \n",
       "built on #aframevr #shiny #gglplot2 #rstats\n",
       "<ed><U+00A0><U+00BC><ed><U+00BC><U+0090> @Datatitian \n",
       "<ed><U+00A0><U+00BD><ed><U+00B3><U+008A> https://t.co/mOgW4y0796 \n",
       "<ed><U+00A0><U+00BD><ed><U+00B4><U+0080> https:… | FALSE                                                                                                                                                                                                                                                                 | 0                                                                                                                                                                                                                                                                     | NA                                                                                                                                                                                                                                                                    | 2017-02-19 00:18:17                                                                                                                                                                                                                                                   | FALSE                                                                                                                                                                                                                                                                 | NA                                                                                                                                                                                                                                                                    | 833108408496693248                                                                                                                                                                                                                                                    | NA                                                                                                                                                                                                                                                                    | <a href=\"http://twitter.com/download/android\" rel=\"nofollow\">Twitter for Android</a>                                                                                                                                                                                  | TheDonquixotic                                                                                                                                                                                                                                                        | 256                                                                                                                                                                                                                                                                   | TRUE                                                                                                                                                                                                                                                                  | FALSE                                                                                                                                                                                                                                                                 | NA                                                                                                                                                                                                                                                                    | NA                                                                                                                                                                                                                                                                    | \n",
       "| RT @KirkDBorne: How to Install #Microsoft R Server for Windows: https://t.co/1VPRKYFL9r #Rstats #BigData #MachineLearning #DataScience http…                                                                                                                          | FALSE                                                                                                                                                                                                                                                                 | 0                                                                                                                                                                                                                                                                     | NA                                                                                                                                                                                                                                                                    | 2017-02-19 00:17:01                                                                                                                                                                                                                                                   | FALSE                                                                                                                                                                                                                                                                 | NA                                                                                                                                                                                                                                                                    | 833108090895663104                                                                                                                                                                                                                                                    | NA                                                                                                                                                                                                                                                                    | <a href=\"http://muthu.co\" rel=\"nofollow\">MuthuBot</a>                                                                                                                                                                                                                 | krimuthu                                                                                                                                                                                                                                                              |  20                                                                                                                                                                                                                                                                   | TRUE                                                                                                                                                                                                                                                                  | FALSE                                                                                                                                                                                                                                                                 | NA                                                                                                                                                                                                                                                                    | NA                                                                                                                                                                                                                                                                    | \n",
       "| RT @KirkDBorne: How to Install #Microsoft R Server for Windows: https://t.co/1VPRKYFL9r #Rstats #BigData #MachineLearning #DataScience http…                                                                                                                          | FALSE                                                                                                                                                                                                                                                                 | 0                                                                                                                                                                                                                                                                     | NA                                                                                                                                                                                                                                                                    | 2017-02-19 00:14:06                                                                                                                                                                                                                                                   | FALSE                                                                                                                                                                                                                                                                 | NA                                                                                                                                                                                                                                                                    | 833107355134865409                                                                                                                                                                                                                                                    | NA                                                                                                                                                                                                                                                                    | <a href=\"https://www.arctoplabs.com\" rel=\"nofollow\">Dushyant Tweet</a>                                                                                                                                                                                                | dushyantgadewal                                                                                                                                                                                                                                                       |  20                                                                                                                                                                                                                                                                   | TRUE                                                                                                                                                                                                                                                                  | FALSE                                                                                                                                                                                                                                                                 | NA                                                                                                                                                                                                                                                                    | NA                                                                                                                                                                                                                                                                    | \n",
       "\n",
       "\n"
      ],
      "text/plain": [
       "  text                                                                                                                                                                                                                                                                 \n",
       "1 RT @KirkDBorne: How to Install #Microsoft R Server for Windows: https://t.co/1VPRKYFL9r #Rstats #BigData #MachineLearning #DataScience http",
       "                                                                                                                         \n",
       "2 RT @KirkDBorne: How to Install #Microsoft R Server for Windows: https://t.co/1VPRKYFL9r #Rstats #BigData #MachineLearning #DataScience http",
       "                                                                                                                         \n",
       "3 RT @KirkDBorne: How to Install #Microsoft R Server for Windows: https://t.co/1VPRKYFL9r #Rstats #BigData #MachineLearning #DataScience http",
       "                                                                                                                         \n",
       "4 RT @micahstubbs: #WebVR Grammar of Graphics \\nbuilt on #aframevr #shiny #gglplot2 #rstats\\n<ed><U+00A0><U+00BC><ed><U+00BC><U+0090> @Datatitian \\n<ed><U+00A0><U+00BD><ed><U+00B3><U+008A> https://t.co/mOgW4y0796 \\n<ed><U+00A0><U+00BD><ed><U+00B4><U+0080> https:",
       "\n",
       "5 RT @KirkDBorne: How to Install #Microsoft R Server for Windows: https://t.co/1VPRKYFL9r #Rstats #BigData #MachineLearning #DataScience http",
       "                                                                                                                         \n",
       "6 RT @KirkDBorne: How to Install #Microsoft R Server for Windows: https://t.co/1VPRKYFL9r #Rstats #BigData #MachineLearning #DataScience http",
       "                                                                                                                         \n",
       "  favorited favoriteCount replyToSN created             truncated replyToSID\n",
       "1 FALSE     0             NA        2017-02-19 00:21:37 FALSE     NA        \n",
       "2 FALSE     0             NA        2017-02-19 00:21:16 FALSE     NA        \n",
       "3 FALSE     0             NA        2017-02-19 00:20:50 FALSE     NA        \n",
       "4 FALSE     0             NA        2017-02-19 00:18:17 FALSE     NA        \n",
       "5 FALSE     0             NA        2017-02-19 00:17:01 FALSE     NA        \n",
       "6 FALSE     0             NA        2017-02-19 00:14:06 FALSE     NA        \n",
       "  id                 replyToUID\n",
       "1 833109244735950848 NA        \n",
       "2 833109158794764288 NA        \n",
       "3 833109047985348608 NA        \n",
       "4 833108408496693248 NA        \n",
       "5 833108090895663104 NA        \n",
       "6 833107355134865409 NA        \n",
       "  statusSource                                                                        \n",
       "1 <a href=\"http://twitter.com/download/iphone\" rel=\"nofollow\">Twitter for iPhone</a>  \n",
       "2 <a href=\"http://EClassHosting.com\" rel=\"nofollow\">EClassHosting finder</a>          \n",
       "3 <a href=\"http://twitter.com/download/iphone\" rel=\"nofollow\">Twitter for iPhone</a>  \n",
       "4 <a href=\"http://twitter.com/download/android\" rel=\"nofollow\">Twitter for Android</a>\n",
       "5 <a href=\"http://muthu.co\" rel=\"nofollow\">MuthuBot</a>                               \n",
       "6 <a href=\"https://www.arctoplabs.com\" rel=\"nofollow\">Dushyant Tweet</a>              \n",
       "  screenName      retweetCount isRetweet retweeted longitude latitude\n",
       "1 TradeArcher      20          TRUE      FALSE     NA        NA      \n",
       "2 EClassHosting    20          TRUE      FALSE     NA        NA      \n",
       "3 DataScienceTH    20          TRUE      FALSE     NA        NA      \n",
       "4 TheDonquixotic  256          TRUE      FALSE     NA        NA      \n",
       "5 krimuthu         20          TRUE      FALSE     NA        NA      \n",
       "6 dushyantgadewal  20          TRUE      FALSE     NA        NA      "
      ]
     },
     "metadata": {},
     "output_type": "display_data"
    }
   ],
   "source": [
    "df <- twListToDF(tweets)\n",
    "head(df)"
   ]
  },
  {
   "cell_type": "markdown",
   "metadata": {},
   "source": [
    "---\n",
    "<b>Database Persistence</b>\n",
    "\n",
    "---"
   ]
  },
  {
   "cell_type": "code",
   "execution_count": 18,
   "metadata": {
    "collapsed": false
   },
   "outputs": [
    {
     "name": "stderr",
     "output_type": "stream",
     "text": [
      "Installing package into 'C:/Users/Jay/Documents/R/win-library/3.3'\n",
      "(as 'lib' is unspecified)\n",
      "Warning message:\n",
      "\"package 'RSQLite' is in use and will not be installed\""
     ]
    }
   ],
   "source": [
    "install.packages(\"RSQLite\", repos='https://cran.r-project.org')"
   ]
  },
  {
   "cell_type": "code",
   "execution_count": 19,
   "metadata": {
    "collapsed": false
   },
   "outputs": [
    {
     "name": "stderr",
     "output_type": "stream",
     "text": [
      "Installing package into 'C:/Users/Jay/Documents/R/win-library/3.3'\n",
      "(as 'lib' is unspecified)\n",
      "Warning message:\n",
      "\"package 'DBI' is in use and will not be installed\""
     ]
    }
   ],
   "source": [
    "install.packages(\"DBI\", repos='https://cran.r-project.org')"
   ]
  },
  {
   "cell_type": "code",
   "execution_count": 24,
   "metadata": {
    "collapsed": false
   },
   "outputs": [],
   "source": [
    "library(DBI)\n",
    "library(RSQLite)"
   ]
  },
  {
   "cell_type": "code",
   "execution_count": 26,
   "metadata": {
    "collapsed": false
   },
   "outputs": [
    {
     "data": {
      "text/html": [
       "TRUE"
      ],
      "text/latex": [
       "TRUE"
      ],
      "text/markdown": [
       "TRUE"
      ],
      "text/plain": [
       "[1] TRUE"
      ]
     },
     "metadata": {},
     "output_type": "display_data"
    }
   ],
   "source": [
    "sql_lite_file = tempfile()\n",
    "register_sqlite_backend(sql_lite_file)\n",
    "store_tweets_db(tweets)"
   ]
  },
  {
   "cell_type": "code",
   "execution_count": 28,
   "metadata": {
    "collapsed": false
   },
   "outputs": [
    {
     "data": {
      "text/plain": [
       "[[1]]\n",
       "[1] \"TradeArcher: RT @KirkDBorne: How to Install #Microsoft R Server for Windows: https://t.co/1VPRKYFL9r #Rstats #BigData #MachineLearning #DataScience http",
       "\"\n",
       "\n",
       "[[2]]\n",
       "[1] \"EClassHosting: RT @KirkDBorne: How to Install #Microsoft R Server for Windows: https://t.co/1VPRKYFL9r #Rstats #BigData #MachineLearning #DataScience http",
       "\"\n",
       "\n",
       "[[3]]\n",
       "[1] \"DataScienceTH: RT @KirkDBorne: How to Install #Microsoft R Server for Windows: https://t.co/1VPRKYFL9r #Rstats #BigData #MachineLearning #DataScience http",
       "\"\n",
       "\n",
       "[[4]]\n",
       "[1] \"TheDonquixotic: RT @micahstubbs: #WebVR Grammar of Graphics \\nbuilt on #aframevr #shiny #gglplot2 #rstats\\n<ed><U+00A0><U+00BC><ed><U+00BC><U+0090> @Datatitian \\n<ed><U+00A0><U+00BD><ed><U+00B3><U+008A> https://t.co/mOgW4y0796 \\n<ed><U+00A0><U+00BD><ed><U+00B4><U+0080> https:",
       "\"\n",
       "\n",
       "[[5]]\n",
       "[1] \"krimuthu: RT @KirkDBorne: How to Install #Microsoft R Server for Windows: https://t.co/1VPRKYFL9r #Rstats #BigData #MachineLearning #DataScience http",
       "\"\n",
       "\n",
       "[[6]]\n",
       "[1] \"dushyantgadewal: RT @KirkDBorne: How to Install #Microsoft R Server for Windows: https://t.co/1VPRKYFL9r #Rstats #BigData #MachineLearning #DataScience http",
       "\"\n"
      ]
     },
     "metadata": {},
     "output_type": "display_data"
    }
   ],
   "source": [
    "from_db = load_tweets_db()\n",
    "head(from_db)"
   ]
  },
  {
   "cell_type": "markdown",
   "metadata": {},
   "source": [
    "<b>Timelines</b>"
   ]
  },
  {
   "cell_type": "code",
   "execution_count": 29,
   "metadata": {
    "collapsed": false
   },
   "outputs": [
    {
     "data": {
      "text/plain": [
       "[[1]]\n",
       "[1] \"cranatic: Update: Bchron, BoolNet, caribou, CePa, fmri, HTSCluster, isa2, lessR, lgcp, spatstat. http://t.co/skyrajMA #rstats\"\n",
       "\n",
       "[[2]]\n",
       "[1] \"cranatic: New: extrafont, extrafontdb, Rttf2pt1, x12GUI. http://t.co/skyrajMA #rstats\"\n",
       "\n",
       "[[3]]\n",
       "[1] \"cranatic: Update: drc, RcmdrPlugin.survival, rrcov, spls. http://t.co/eEoXNifB #rstats\"\n",
       "\n",
       "[[4]]\n",
       "[1] \"cranatic: New: hzar. http://t.co/eEoXNifB #rstats\"\n",
       "\n",
       "[[5]]\n",
       "[1] \"cranatic: Update: directlabels, forensim, gdata, gWidgetstcltk, gWidgetsWWW, harvestr, rrlda, Rz, Sim.DiffProc, ... http://t.co/9JEe7K91 #rstats\"\n"
      ]
     },
     "metadata": {},
     "output_type": "display_data"
    }
   ],
   "source": [
    "cran_tweets <- userTimeline('cranatic')\n",
    "cran_tweets[1:5]"
   ]
  },
  {
   "cell_type": "code",
   "execution_count": 30,
   "metadata": {
    "collapsed": false
   },
   "outputs": [
    {
     "data": {
      "text/html": [
       "100"
      ],
      "text/latex": [
       "100"
      ],
      "text/markdown": [
       "100"
      ],
      "text/plain": [
       "[1] 100"
      ]
     },
     "metadata": {},
     "output_type": "display_data"
    }
   ],
   "source": [
    "cran_tweets_large <- userTimeline('cranatic', n=100)\n",
    "length(cran_tweets_large)"
   ]
  },
  {
   "cell_type": "markdown",
   "metadata": {},
   "source": [
    "<b>Trends</b>"
   ]
  },
  {
   "cell_type": "code",
   "execution_count": 31,
   "metadata": {
    "collapsed": false
   },
   "outputs": [
    {
     "data": {
      "text/html": [
       "<table>\n",
       "<thead><tr><th scope=col>name</th><th scope=col>country</th><th scope=col>woeid</th></tr></thead>\n",
       "<tbody>\n",
       "\t<tr><td>Worldwide</td><td>         </td><td>1        </td></tr>\n",
       "\t<tr><td>Winnipeg </td><td>Canada   </td><td>2972     </td></tr>\n",
       "\t<tr><td>Ottawa   </td><td>Canada   </td><td>3369     </td></tr>\n",
       "\t<tr><td>Quebec   </td><td>Canada   </td><td>3444     </td></tr>\n",
       "\t<tr><td>Montreal </td><td>Canada   </td><td>3534     </td></tr>\n",
       "\t<tr><td>Toronto  </td><td>Canada   </td><td>4118     </td></tr>\n",
       "</tbody>\n",
       "</table>\n"
      ],
      "text/latex": [
       "\\begin{tabular}{r|lll}\n",
       " name & country & woeid\\\\\n",
       "\\hline\n",
       "\t Worldwide &           & 1        \\\\\n",
       "\t Winnipeg  & Canada    & 2972     \\\\\n",
       "\t Ottawa    & Canada    & 3369     \\\\\n",
       "\t Quebec    & Canada    & 3444     \\\\\n",
       "\t Montreal  & Canada    & 3534     \\\\\n",
       "\t Toronto   & Canada    & 4118     \\\\\n",
       "\\end{tabular}\n"
      ],
      "text/markdown": [
       "\n",
       "name | country | woeid | \n",
       "|---|---|---|---|---|---|\n",
       "| Worldwide |           | 1         | \n",
       "| Winnipeg  | Canada    | 2972      | \n",
       "| Ottawa    | Canada    | 3369      | \n",
       "| Quebec    | Canada    | 3444      | \n",
       "| Montreal  | Canada    | 3534      | \n",
       "| Toronto   | Canada    | 4118      | \n",
       "\n",
       "\n"
      ],
      "text/plain": [
       "  name      country woeid\n",
       "1 Worldwide         1    \n",
       "2 Winnipeg  Canada  2972 \n",
       "3 Ottawa    Canada  3369 \n",
       "4 Quebec    Canada  3444 \n",
       "5 Montreal  Canada  3534 \n",
       "6 Toronto   Canada  4118 "
      ]
     },
     "metadata": {},
     "output_type": "display_data"
    }
   ],
   "source": [
    "avail_trends = availableTrendLocations()\n",
    "head(avail_trends)"
   ]
  },
  {
   "cell_type": "code",
   "execution_count": 32,
   "metadata": {
    "collapsed": false
   },
   "outputs": [
    {
     "data": {
      "text/html": [
       "<table>\n",
       "<thead><tr><th scope=col>name</th><th scope=col>country</th><th scope=col>woeid</th></tr></thead>\n",
       "<tbody>\n",
       "\t<tr><td>Concepcion</td><td>Chile     </td><td>349860    </td></tr>\n",
       "</tbody>\n",
       "</table>\n"
      ],
      "text/latex": [
       "\\begin{tabular}{r|lll}\n",
       " name & country & woeid\\\\\n",
       "\\hline\n",
       "\t Concepcion & Chile      & 349860    \\\\\n",
       "\\end{tabular}\n"
      ],
      "text/markdown": [
       "\n",
       "name | country | woeid | \n",
       "|---|\n",
       "| Concepcion | Chile      | 349860     | \n",
       "\n",
       "\n"
      ],
      "text/plain": [
       "  name       country woeid \n",
       "1 Concepcion Chile   349860"
      ]
     },
     "metadata": {},
     "output_type": "display_data"
    }
   ],
   "source": [
    "close_trends = closestTrendLocations(-42.8, -71.1)\n",
    "head(close_trends)"
   ]
  },
  {
   "cell_type": "code",
   "execution_count": 33,
   "metadata": {
    "collapsed": false
   },
   "outputs": [
    {
     "data": {
      "text/html": [
       "<table>\n",
       "<thead><tr><th scope=col>name</th><th scope=col>url</th><th scope=col>query</th><th scope=col>woeid</th></tr></thead>\n",
       "<tbody>\n",
       "\t<tr><td>#TrumpRally                                         </td><td>http://twitter.com/search?q=%23TrumpRally           </td><td>%23TrumpRally                                       </td><td>2367105                                             </td></tr>\n",
       "\t<tr><td>#NACA17                                             </td><td>http://twitter.com/search?q=%23NACA17               </td><td>%23NACA17                                           </td><td>2367105                                             </td></tr>\n",
       "\t<tr><td>#AAASmtg                                            </td><td>http://twitter.com/search?q=%23AAASmtg              </td><td>%23AAASmtg                                          </td><td>2367105                                             </td></tr>\n",
       "\t<tr><td>#ZGWL                                               </td><td>http://twitter.com/search?q=%23ZGWL                 </td><td>%23ZGWL                                             </td><td>2367105                                             </td></tr>\n",
       "\t<tr><td>#NationalDrinkWineDay                               </td><td>http://twitter.com/search?q=%23NationalDrinkWineDay </td><td>%23NationalDrinkWineDay                             </td><td>2367105                                             </td></tr>\n",
       "\t<tr><td>Clyde Stubblefield                                  </td><td>http://twitter.com/search?q=%22Clyde+Stubblefield%22</td><td>%22Clyde+Stubblefield%22                            </td><td>2367105                                             </td></tr>\n",
       "</tbody>\n",
       "</table>\n"
      ],
      "text/latex": [
       "\\begin{tabular}{r|llll}\n",
       " name & url & query & woeid\\\\\n",
       "\\hline\n",
       "\t \\#TrumpRally                                          & http://twitter.com/search?q=\\%23TrumpRally            & \\%23TrumpRally                                        & 2367105                                               \\\\\n",
       "\t \\#NACA17                                              & http://twitter.com/search?q=\\%23NACA17                & \\%23NACA17                                            & 2367105                                               \\\\\n",
       "\t \\#AAASmtg                                             & http://twitter.com/search?q=\\%23AAASmtg               & \\%23AAASmtg                                           & 2367105                                               \\\\\n",
       "\t \\#ZGWL                                                & http://twitter.com/search?q=\\%23ZGWL                  & \\%23ZGWL                                              & 2367105                                               \\\\\n",
       "\t \\#NationalDrinkWineDay                                & http://twitter.com/search?q=\\%23NationalDrinkWineDay  & \\%23NationalDrinkWineDay                              & 2367105                                               \\\\\n",
       "\t Clyde Stubblefield                                       & http://twitter.com/search?q=\\%22Clyde+Stubblefield\\%22 & \\%22Clyde+Stubblefield\\%22                             & 2367105                                                 \\\\\n",
       "\\end{tabular}\n"
      ],
      "text/markdown": [
       "\n",
       "name | url | query | woeid | \n",
       "|---|---|---|---|---|---|\n",
       "| #TrumpRally                                          | http://twitter.com/search?q=%23TrumpRally            | %23TrumpRally                                        | 2367105                                              | \n",
       "| #NACA17                                              | http://twitter.com/search?q=%23NACA17                | %23NACA17                                            | 2367105                                              | \n",
       "| #AAASmtg                                             | http://twitter.com/search?q=%23AAASmtg               | %23AAASmtg                                           | 2367105                                              | \n",
       "| #ZGWL                                                | http://twitter.com/search?q=%23ZGWL                  | %23ZGWL                                              | 2367105                                              | \n",
       "| #NationalDrinkWineDay                                | http://twitter.com/search?q=%23NationalDrinkWineDay  | %23NationalDrinkWineDay                              | 2367105                                              | \n",
       "| Clyde Stubblefield                                   | http://twitter.com/search?q=%22Clyde+Stubblefield%22 | %22Clyde+Stubblefield%22                             | 2367105                                              | \n",
       "\n",
       "\n"
      ],
      "text/plain": [
       "  name                  url                                                 \n",
       "1 #TrumpRally           http://twitter.com/search?q=%23TrumpRally           \n",
       "2 #NACA17               http://twitter.com/search?q=%23NACA17               \n",
       "3 #AAASmtg              http://twitter.com/search?q=%23AAASmtg              \n",
       "4 #ZGWL                 http://twitter.com/search?q=%23ZGWL                 \n",
       "5 #NationalDrinkWineDay http://twitter.com/search?q=%23NationalDrinkWineDay \n",
       "6 Clyde Stubblefield    http://twitter.com/search?q=%22Clyde+Stubblefield%22\n",
       "  query                    woeid  \n",
       "1 %23TrumpRally            2367105\n",
       "2 %23NACA17                2367105\n",
       "3 %23AAASmtg               2367105\n",
       "4 %23ZGWL                  2367105\n",
       "5 %23NationalDrinkWineDay  2367105\n",
       "6 %22Clyde+Stubblefield%22 2367105"
      ]
     },
     "metadata": {},
     "output_type": "display_data"
    }
   ],
   "source": [
    "trends = getTrends(2367105)\n",
    "head(trends)"
   ]
  },
  {
   "cell_type": "markdown",
   "metadata": {},
   "source": [
    "<b>A simple example</b>"
   ]
  },
  {
   "cell_type": "code",
   "execution_count": 34,
   "metadata": {
    "collapsed": false
   },
   "outputs": [
    {
     "data": {
      "image/png": "[encoded data removed]",
      "text/plain": [
       "plot without title"
      ]
     },
     "metadata": {},
     "output_type": "display_data"
    }
   ],
   "source": [
    "r_tweets <- searchTwitter(\"#rstats\", n=300)\n",
    "sources <- sapply(r_tweets, function(x) x$getStatusSource())\n",
    "sources <- gsub(\"</a>\", \"\", sources)\n",
    "sources <- strsplit(sources, \">\")\n",
    "sources <- sapply(sources, function(x) ifelse(length(x) > 1, x[2], x[1]))\n",
    "source_table = table(sources)\n",
    "pie(source_table[source_table > 10])"
   ]
  },
  {
   "cell_type": "markdown",
   "metadata": {},
   "source": [
    "<b>Examples Of twitteR In The Wild </b>"
   ]
  },
  {
   "cell_type": "markdown",
   "metadata": {},
   "source": [
    "---\n",
    "<h2><b><mark>With this we conclude this vignette with all of it's examples having them executed above.</mark></b></h2>\n",
    "<br/><b><mark>Citation:</mark></b>\n",
    "<br/>1. http://geoffjentry.hexdump.org/twitteR.pdf this was followed to the toe and was pretty much self-explnatory.\n",
    "<br/>2. Referred to this to understand about the database persistence with twitteR package http://geoffjentry.blogspot.com/2014_02_01_archive.html\n",
    "\n",
    "---"
   ]
  }
 ],
 "metadata": {
  "kernelspec": {
   "display_name": "R",
   "language": "R",
   "name": "ir"
  },
  "language_info": {
   "codemirror_mode": "r",
   "file_extension": ".r",
   "mimetype": "text/x-r-source",
   "name": "R",
   "pygments_lexer": "r",
   "version": "3.3.2"
  }
 },
 "nbformat": 4,
 "nbformat_minor": 2
}
