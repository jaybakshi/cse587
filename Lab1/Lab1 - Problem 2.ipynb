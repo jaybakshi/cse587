{
 "cells": [
  {
   "cell_type": "markdown",
   "metadata": {},
   "source": [
    "<h1>JAY BAKSHI : 50206954</h1>\n",
    "<br/>Twitter trend search based on the location - Chennai.\n",
    "<br/>The choice is because of the current political situation of the state government."
   ]
  },
  {
   "cell_type": "code",
   "execution_count": 1,
   "metadata": {
    "collapsed": false
   },
   "outputs": [
    {
     "name": "stderr",
     "output_type": "stream",
     "text": [
      "Installing package into 'C:/Users/Jay/Documents/R/win-library/3.3'\n",
      "(as 'lib' is unspecified)\n"
     ]
    },
    {
     "name": "stdout",
     "output_type": "stream",
     "text": [
      "package 'twitteR' successfully unpacked and MD5 sums checked\n",
      "\n",
      "The downloaded binary packages are in\n",
      "\tC:\\Users\\Jay\\AppData\\Local\\Temp\\RtmpALhzkD\\downloaded_packages\n"
     ]
    }
   ],
   "source": [
    "install.packages('twitteR', repos='https://cran.r-project.org')"
   ]
  },
  {
   "cell_type": "code",
   "execution_count": 2,
   "metadata": {
    "collapsed": false
   },
   "outputs": [
    {
     "name": "stderr",
     "output_type": "stream",
     "text": [
      "Installing package into 'C:/Users/Jay/Documents/R/win-library/3.3'\n",
      "(as 'lib' is unspecified)\n",
      "Warning message:\n",
      "\"package 'roauth' is not available (for R version 3.3.2)\"Warning message:\n",
      "\"Perhaps you meant 'ROAuth' ?\""
     ]
    }
   ],
   "source": [
    "install.packages('roauth', repos='https://cran.r-project.org')"
   ]
  },
  {
   "cell_type": "code",
   "execution_count": 7,
   "metadata": {
    "collapsed": false
   },
   "outputs": [
    {
     "name": "stderr",
     "output_type": "stream",
     "text": [
      "Installing package into 'C:/Users/Jay/Documents/R/win-library/3.3'\n",
      "(as 'lib' is unspecified)\n"
     ]
    },
    {
     "name": "stdout",
     "output_type": "stream",
     "text": [
      "package 'ggmap' successfully unpacked and MD5 sums checked\n",
      "\n",
      "The downloaded binary packages are in\n",
      "\tC:\\Users\\Jay\\AppData\\Local\\Temp\\RtmpALhzkD\\downloaded_packages\n"
     ]
    }
   ],
   "source": [
    "install.packages('ggmap', repos='http://cran.r-project.org')"
   ]
  },
  {
   "cell_type": "markdown",
   "metadata": {},
   "source": [
    "--------------------------------------------------------------------\n",
    "<mark>Library import statements.\n",
    "To be ran everytime the notebook/kernel is restarted.</mark>\n",
    "\n",
    "--------------------------------------------------------------------"
   ]
  },
  {
   "cell_type": "code",
   "execution_count": 8,
   "metadata": {
    "collapsed": false
   },
   "outputs": [
    {
     "name": "stderr",
     "output_type": "stream",
     "text": [
      "Loading required package: ggplot2\n"
     ]
    }
   ],
   "source": [
    "library(twitteR)\n",
    "library(ggmap)"
   ]
  },
  {
   "cell_type": "markdown",
   "metadata": {},
   "source": [
    "-------------------------------------------------------------------------------------------\n",
    "<b>Twitter Credentials.\n",
    "Will need to run this for authenticating the session everytime notebook is restarted.</b>\n",
    "\n",
    "-------------------------------------------------------------------------------------------"
   ]
  },
  {
   "cell_type": "code",
   "execution_count": 4,
   "metadata": {
    "collapsed": false
   },
   "outputs": [
    {
     "name": "stdout",
     "output_type": "stream",
     "text": [
      "[1] \"Using direct authentication\"\n"
     ]
    }
   ],
   "source": [
    "appname <- \"jbcse587-3\"\n",
    "apikey <- \"iUfCa7jjBrbQswDasqhqiN3DS\"\n",
    "apisecret <- \"Hobl4LFvZ6rJNuCINHE72ACTlROgdecHciQ0N0wzBEPp4ACABI\"\n",
    "token <- \"2573201196-qmwoqS7uCj1rI1Oc95ParmiAZHHVc31K3FFPWya\"\n",
    "tokensecret <- \"57edsiAEyTLgh3SJGZ7OptiB4LIN9D1MSgUT8DDWkXanp\"\n",
    "setup_twitter_oauth(apikey,apisecret,token,tokensecret)"
   ]
  },
  {
   "cell_type": "markdown",
   "metadata": {},
   "source": [
    "---\n",
    "<b>Using TwitteR to API Search for Trend</b>\n",
    "<br/>The command requires to supply a <strong>woeid</strong>, which is Where On Earth ID supplied by Yahoo!\n",
    "<br/>We'll be getting this ID using the other calls to zero-in on the Geocode for Chennai and then finding it's woeid.\n",
    "\n",
    "---"
   ]
  },
  {
   "cell_type": "code",
   "execution_count": 9,
   "metadata": {
    "collapsed": false
   },
   "outputs": [
    {
     "name": "stderr",
     "output_type": "stream",
     "text": [
      "Information from URL : http://maps.googleapis.com/maps/api/geocode/json?address=Chennai&sensor=false\n"
     ]
    }
   ],
   "source": [
    "geoCodeChennai <- geocode(\"Chennai\")"
   ]
  },
  {
   "cell_type": "code",
   "execution_count": 10,
   "metadata": {
    "collapsed": false
   },
   "outputs": [
    {
     "data": {
      "text/html": [
       "<table>\n",
       "<thead><tr><th scope=col>lon</th><th scope=col>lat</th></tr></thead>\n",
       "<tbody>\n",
       "\t<tr><td>80.27072</td><td>13.08268</td></tr>\n",
       "</tbody>\n",
       "</table>\n"
      ],
      "text/latex": [
       "\\begin{tabular}{r|ll}\n",
       " lon & lat\\\\\n",
       "\\hline\n",
       "\t 80.27072 & 13.08268\\\\\n",
       "\\end{tabular}\n"
      ],
      "text/markdown": [
       "\n",
       "lon | lat | \n",
       "|---|\n",
       "| 80.27072 | 13.08268 | \n",
       "\n",
       "\n"
      ],
      "text/plain": [
       "  lon      lat     \n",
       "1 80.27072 13.08268"
      ]
     },
     "metadata": {},
     "output_type": "display_data"
    }
   ],
   "source": [
    "geoCodeChennai"
   ]
  },
  {
   "cell_type": "code",
   "execution_count": 12,
   "metadata": {
    "collapsed": false
   },
   "outputs": [
    {
     "data": {
      "text/html": [
       "<table>\n",
       "<thead><tr><th scope=col>name</th><th scope=col>country</th><th scope=col>woeid</th></tr></thead>\n",
       "<tbody>\n",
       "\t<tr><td>Chennai</td><td>India  </td><td>2295424</td></tr>\n",
       "</tbody>\n",
       "</table>\n"
      ],
      "text/latex": [
       "\\begin{tabular}{r|lll}\n",
       " name & country & woeid\\\\\n",
       "\\hline\n",
       "\t Chennai & India   & 2295424\\\\\n",
       "\\end{tabular}\n"
      ],
      "text/markdown": [
       "\n",
       "name | country | woeid | \n",
       "|---|\n",
       "| Chennai | India   | 2295424 | \n",
       "\n",
       "\n"
      ],
      "text/plain": [
       "  name    country woeid  \n",
       "1 Chennai India   2295424"
      ]
     },
     "metadata": {},
     "output_type": "display_data"
    }
   ],
   "source": [
    "cTrLoc <- closestTrendLocations(geoCodeChennai$lat, geoCodeChennai$lon)\n",
    "cTrLoc"
   ]
  },
  {
   "cell_type": "code",
   "execution_count": 26,
   "metadata": {
    "collapsed": false
   },
   "outputs": [],
   "source": [
    "topTrends <- getTrends(cTrLoc$woeid)"
   ]
  },
  {
   "cell_type": "markdown",
   "metadata": {},
   "source": [
    "<h3>These are the <mark>Top Trends in Chennai.</mark></h3>"
   ]
  },
  {
   "cell_type": "code",
   "execution_count": 28,
   "metadata": {
    "collapsed": false,
    "scrolled": true
   },
   "outputs": [
    {
     "data": {
      "text/html": [
       "<ol class=list-inline>\n",
       "\t<li>'#Crime'</li>\n",
       "\t<li>'#127CrIn9Days'</li>\n",
       "\t<li>'Hamilton'</li>\n",
       "\t<li>'#UttarPradeshElection2017'</li>\n",
       "\t<li>'#UPvotes'</li>\n",
       "\t<li>'#ASOTFESTNL'</li>\n",
       "\t<li>'Assembly'</li>\n",
       "\t<li>'Marina Beach'</li>\n",
       "\t<li>'तमिलनाडु विधानसभा'</li>\n",
       "\t<li>'JOLLY FIRST HIT OF 2017'</li>\n",
       "\t<li>'Priyanka Gandhi'</li>\n",
       "\t<li>'#floortest'</li>\n",
       "\t<li>'#JioFilmfareAwards'</li>\n",
       "\t<li>'#OPSvsEPS'</li>\n",
       "\t<li>'#UPकीपुकार_BJPइसबार'</li>\n",
       "\t<li>'#गठबंधन_का_पहला_वादा'</li>\n",
       "\t<li>'#ILoveRisingStar'</li>\n",
       "\t<li>'#PatanjaliMisleadingConsumers'</li>\n",
       "\t<li>'#DJFirstLook'</li>\n",
       "\t<li>'#INDAvAUS'</li>\n",
       "\t<li>'#voteofconfidence'</li>\n",
       "\t<li>'#BJPSeBetiBachao'</li>\n",
       "\t<li>'#TNWithDMK'</li>\n",
       "\t<li>'#MUMvBFC'</li>\n",
       "\t<li>'#MoralPolicingChat'</li>\n",
       "\t<li>'#MKStalin'</li>\n",
       "\t<li>'#RMFIndia'</li>\n",
       "\t<li>'#Ignis'</li>\n",
       "\t<li>'#HappyHers'</li>\n",
       "\t<li>'#VoiceIndiaLives5'</li>\n",
       "\t<li>'#FACup'</li>\n",
       "\t<li>'#RukminiSahay'</li>\n",
       "\t<li>'#ProbeBJP_ISI_Link'</li>\n",
       "\t<li>'#BJPwaveInUP'</li>\n",
       "\t<li>'#JashnERekhta'</li>\n",
       "\t<li>'#TeamEvans'</li>\n",
       "\t<li>'#HouseOfChaos'</li>\n",
       "\t<li>'#HafizSaeed'</li>\n",
       "\t<li>'#MBvDSK'</li>\n",
       "</ol>\n"
      ],
      "text/latex": [
       "\\begin{enumerate*}\n",
       "\\item '\\#Crime'\n",
       "\\item '\\#127CrIn9Days'\n",
       "\\item 'Hamilton'\n",
       "\\item '\\#UttarPradeshElection2017'\n",
       "\\item '\\#UPvotes'\n",
       "\\item '\\#ASOTFESTNL'\n",
       "\\item 'Assembly'\n",
       "\\item 'Marina Beach'\n",
       "\\item 'तमिलनाडु विधानसभा'\n",
       "\\item 'JOLLY FIRST HIT OF 2017'\n",
       "\\item 'Priyanka Gandhi'\n",
       "\\item '\\#floortest'\n",
       "\\item '\\#JioFilmfareAwards'\n",
       "\\item '\\#OPSvsEPS'\n",
       "\\item '\\#UPकीपुकार\\_BJPइसबार'\n",
       "\\item '\\#गठबंधन\\_का\\_पहला\\_वादा'\n",
       "\\item '\\#ILoveRisingStar'\n",
       "\\item '\\#PatanjaliMisleadingConsumers'\n",
       "\\item '\\#DJFirstLook'\n",
       "\\item '\\#INDAvAUS'\n",
       "\\item '\\#voteofconfidence'\n",
       "\\item '\\#BJPSeBetiBachao'\n",
       "\\item '\\#TNWithDMK'\n",
       "\\item '\\#MUMvBFC'\n",
       "\\item '\\#MoralPolicingChat'\n",
       "\\item '\\#MKStalin'\n",
       "\\item '\\#RMFIndia'\n",
       "\\item '\\#Ignis'\n",
       "\\item '\\#HappyHers'\n",
       "\\item '\\#VoiceIndiaLives5'\n",
       "\\item '\\#FACup'\n",
       "\\item '\\#RukminiSahay'\n",
       "\\item '\\#ProbeBJP\\_ISI\\_Link'\n",
       "\\item '\\#BJPwaveInUP'\n",
       "\\item '\\#JashnERekhta'\n",
       "\\item '\\#TeamEvans'\n",
       "\\item '\\#HouseOfChaos'\n",
       "\\item '\\#HafizSaeed'\n",
       "\\item '\\#MBvDSK'\n",
       "\\end{enumerate*}\n"
      ],
      "text/markdown": [
       "1. '#Crime'\n",
       "2. '#127CrIn9Days'\n",
       "3. 'Hamilton'\n",
       "4. '#UttarPradeshElection2017'\n",
       "5. '#UPvotes'\n",
       "6. '#ASOTFESTNL'\n",
       "7. 'Assembly'\n",
       "8. 'Marina Beach'\n",
       "9. 'तमिलनाडु विधानसभा'\n",
       "10. 'JOLLY FIRST HIT OF 2017'\n",
       "11. 'Priyanka Gandhi'\n",
       "12. '#floortest'\n",
       "13. '#JioFilmfareAwards'\n",
       "14. '#OPSvsEPS'\n",
       "15. '#UPकीपुकार_BJPइसबार'\n",
       "16. '#गठबंधन_का_पहला_वादा'\n",
       "17. '#ILoveRisingStar'\n",
       "18. '#PatanjaliMisleadingConsumers'\n",
       "19. '#DJFirstLook'\n",
       "20. '#INDAvAUS'\n",
       "21. '#voteofconfidence'\n",
       "22. '#BJPSeBetiBachao'\n",
       "23. '#TNWithDMK'\n",
       "24. '#MUMvBFC'\n",
       "25. '#MoralPolicingChat'\n",
       "26. '#MKStalin'\n",
       "27. '#RMFIndia'\n",
       "28. '#Ignis'\n",
       "29. '#HappyHers'\n",
       "30. '#VoiceIndiaLives5'\n",
       "31. '#FACup'\n",
       "32. '#RukminiSahay'\n",
       "33. '#ProbeBJP_ISI_Link'\n",
       "34. '#BJPwaveInUP'\n",
       "35. '#JashnERekhta'\n",
       "36. '#TeamEvans'\n",
       "37. '#HouseOfChaos'\n",
       "38. '#HafizSaeed'\n",
       "39. '#MBvDSK'\n",
       "\n",
       "\n"
      ],
      "text/plain": [
       " [1] \"#Crime\"                        \"#127CrIn9Days\"                \n",
       " [3] \"Hamilton\"                      \"#UttarPradeshElection2017\"    \n",
       " [5] \"#UPvotes\"                      \"#ASOTFESTNL\"                  \n",
       " [7] \"Assembly\"                      \"Marina Beach\"                 \n",
       " [9] \"<U+0924><U+092E><U+093F><U+0932><U+0928><U+093E><U+0921><U+0941> <U+0935><U+093F><U+0927><U+093E><U+0928><U+0938><U+092D><U+093E>\" \"JOLLY FIRST HIT OF 2017\"      \n",
       "[11] \"Priyanka Gandhi\"               \"#floortest\"                   \n",
       "[13] \"#JioFilmfareAwards\"            \"#OPSvsEPS\"                    \n",
       "[15] \"#UP<U+0915><U+0940><U+092A><U+0941><U+0915><U+093E><U+0930>_BJP<U+0907><U+0938><U+092C><U+093E><U+0930>\" \"#<U+0917><U+0920><U+092C><U+0902><U+0927><U+0928>_<U+0915><U+093E>_<U+092A><U+0939><U+0932><U+093E>_<U+0935><U+093E><U+0926><U+093E>\"\n",
       "[17] \"#ILoveRisingStar\"              \"#PatanjaliMisleadingConsumers\"\n",
       "[19] \"#DJFirstLook\"                  \"#INDAvAUS\"                    \n",
       "[21] \"#voteofconfidence\"             \"#BJPSeBetiBachao\"             \n",
       "[23] \"#TNWithDMK\"                    \"#MUMvBFC\"                     \n",
       "[25] \"#MoralPolicingChat\"            \"#MKStalin\"                    \n",
       "[27] \"#RMFIndia\"                     \"#Ignis\"                       \n",
       "[29] \"#HappyHers\"                    \"#VoiceIndiaLives5\"            \n",
       "[31] \"#FACup\"                        \"#RukminiSahay\"                \n",
       "[33] \"#ProbeBJP_ISI_Link\"            \"#BJPwaveInUP\"                 \n",
       "[35] \"#JashnERekhta\"                 \"#TeamEvans\"                   \n",
       "[37] \"#HouseOfChaos\"                 \"#HafizSaeed\"                  \n",
       "[39] \"#MBvDSK\"                      "
      ]
     },
     "metadata": {},
     "output_type": "display_data"
    }
   ],
   "source": [
    "topTrends$name"
   ]
  },
  {
   "cell_type": "markdown",
   "metadata": {},
   "source": [
    "---\n",
    "<b><mark>Citation:</mark></b>\n",
    "<br/>\n",
    "1.TwitteR client for R information and used functions related to getTrends understanding and reference was https://cran.r-project.org/web/packages/twitteR/twitteR.pdf\n",
    "<br/>2.Twitter Advanced Search was used to understand how trends work a bit based on the locations https://twitter.com/search-advanced\n",
    "<br/>3. Understanding about woeid was referred to from https://en.wikipedia.org/wiki/WOEID and https://developer.yahoo.com/geo/geoplanet/guide/concepts.html\n",
    "\n",
    "---\n",
    "\n"
   ]
  }
 ],
 "metadata": {
  "kernelspec": {
   "display_name": "R",
   "language": "R",
   "name": "ir"
  },
  "language_info": {
   "codemirror_mode": "r",
   "file_extension": ".r",
   "mimetype": "text/x-r-source",
   "name": "R",
   "pygments_lexer": "r",
   "version": "3.3.2"
  }
 },
 "nbformat": 4,
 "nbformat_minor": 2
}
