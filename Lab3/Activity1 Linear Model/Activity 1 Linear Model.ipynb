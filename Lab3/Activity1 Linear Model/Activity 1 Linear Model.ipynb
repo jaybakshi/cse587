{
 "cells": [
  {
   "cell_type": "markdown",
   "metadata": {},
   "source": [
    "# JAY BAKSHI : UB ID - 50206954"
   ]
  },
  {
   "cell_type": "markdown",
   "metadata": {},
   "source": [
    "---\n",
    "We will be working with the NHL Top 100 players data set.<br/>\n",
    "The 2 variables we will relate are <code>Goals</code> and <code>Assists</code> for each of these players in the dataset.<br/>\n",
    "\n",
    "Target: Fit a linear(regression) model on the data visualized as -\n",
    "<li><code>Assists</code> on Y-axis\n",
    "<li><code>Goals</code> on X-axis\n",
    "</li>\n",
    "\n",
    "---"
   ]
  },
  {
   "cell_type": "code",
   "execution_count": 1,
   "metadata": {
    "collapsed": false
   },
   "outputs": [
    {
     "data": {
      "text/html": [
       "<table>\n",
       "<thead><tr><th scope=col>Rank</th><th scope=col>Player</th><th scope=col>Team</th><th scope=col>Pos</th><th scope=col>X1st.NHL.Season</th><th scope=col>Last.NHL.Season</th><th scope=col>GP</th><th scope=col>G</th><th scope=col>A</th><th scope=col>P</th><th scope=col>X...</th><th scope=col>PIM</th><th scope=col>PP</th><th scope=col>SH</th><th scope=col>GW</th><th scope=col>GT</th><th scope=col>OT</th><th scope=col>Shots</th></tr></thead>\n",
       "<tbody>\n",
       "\t<tr><td>1            </td><td>Wayne Gretzky</td><td>             </td><td>C            </td><td>1979-1980    </td><td>1998-1999    </td><td>1487         </td><td>894          </td><td>1963         </td><td>2857         </td><td>518          </td><td> 577         </td><td>204          </td><td>73           </td><td>91           </td><td>12           </td><td> 1           </td><td>5089         </td></tr>\n",
       "\t<tr><td>2            </td><td>Mark Messier </td><td>             </td><td>C            </td><td>1979-1980    </td><td>2003-2004    </td><td>1756         </td><td>694          </td><td>1193         </td><td>1887         </td><td>210          </td><td>1910         </td><td>179          </td><td>63           </td><td>92           </td><td>15           </td><td> 7           </td><td>4219         </td></tr>\n",
       "\t<tr><td>3            </td><td>Gordie Howe  </td><td>             </td><td>R            </td><td>1946-1947    </td><td>1979-1980    </td><td>1767         </td><td>801          </td><td>1049         </td><td>1850         </td><td> 87          </td><td>1685         </td><td> 39          </td><td> 5           </td><td>18           </td><td>NA           </td><td>NA           </td><td>  NA         </td></tr>\n",
       "\t<tr><td>4            </td><td>Ron Francis  </td><td>             </td><td>C            </td><td>1981-1982    </td><td>2003-2004    </td><td>1731         </td><td>549          </td><td>1249         </td><td>1798         </td><td>-10          </td><td> 979         </td><td>188          </td><td>12           </td><td>79           </td><td>13           </td><td> 3           </td><td>3754         </td></tr>\n",
       "\t<tr><td>5            </td><td>Marcel Dionne</td><td>             </td><td>C            </td><td>1971-1972    </td><td>1988-1989    </td><td>1348         </td><td>731          </td><td>1040         </td><td>1771         </td><td> 28          </td><td> 600         </td><td>234          </td><td>19           </td><td>74           </td><td> 1           </td><td> 2           </td><td>5366         </td></tr>\n",
       "\t<tr><td>6            </td><td>Steve Yzerman</td><td>             </td><td>C            </td><td>1983-1984    </td><td>2005-2006    </td><td>1514         </td><td>692          </td><td>1063         </td><td>1755         </td><td>202          </td><td> 924         </td><td>202          </td><td>50           </td><td>94           </td><td>12           </td><td> 8           </td><td>4602         </td></tr>\n",
       "</tbody>\n",
       "</table>\n"
      ],
      "text/latex": [
       "\\begin{tabular}{r|llllllllllllllllll}\n",
       " Rank & Player & Team & Pos & X1st.NHL.Season & Last.NHL.Season & GP & G & A & P & X... & PIM & PP & SH & GW & GT & OT & Shots\\\\\n",
       "\\hline\n",
       "\t 1             & Wayne Gretzky &               & C             & 1979-1980     & 1998-1999     & 1487          & 894           & 1963          & 2857          & 518           &  577          & 204           & 73            & 91            & 12            &  1            & 5089         \\\\\n",
       "\t 2             & Mark Messier  &               & C             & 1979-1980     & 2003-2004     & 1756          & 694           & 1193          & 1887          & 210           & 1910          & 179           & 63            & 92            & 15            &  7            & 4219         \\\\\n",
       "\t 3             & Gordie Howe   &               & R             & 1946-1947     & 1979-1980     & 1767          & 801           & 1049          & 1850          &  87           & 1685          &  39           &  5            & 18            & NA            & NA            &   NA         \\\\\n",
       "\t 4             & Ron Francis   &               & C             & 1981-1982     & 2003-2004     & 1731          & 549           & 1249          & 1798          & -10           &  979          & 188           & 12            & 79            & 13            &  3            & 3754         \\\\\n",
       "\t 5             & Marcel Dionne &               & C             & 1971-1972     & 1988-1989     & 1348          & 731           & 1040          & 1771          &  28           &  600          & 234           & 19            & 74            &  1            &  2            & 5366         \\\\\n",
       "\t 6             & Steve Yzerman &               & C             & 1983-1984     & 2005-2006     & 1514          & 692           & 1063          & 1755          & 202           &  924          & 202           & 50            & 94            & 12            &  8            & 4602         \\\\\n",
       "\\end{tabular}\n"
      ],
      "text/markdown": [
       "\n",
       "Rank | Player | Team | Pos | X1st.NHL.Season | Last.NHL.Season | GP | G | A | P | X... | PIM | PP | SH | GW | GT | OT | Shots | \n",
       "|---|---|---|---|---|---|\n",
       "| 1             | Wayne Gretzky |               | C             | 1979-1980     | 1998-1999     | 1487          | 894           | 1963          | 2857          | 518           |  577          | 204           | 73            | 91            | 12            |  1            | 5089          | \n",
       "| 2             | Mark Messier  |               | C             | 1979-1980     | 2003-2004     | 1756          | 694           | 1193          | 1887          | 210           | 1910          | 179           | 63            | 92            | 15            |  7            | 4219          | \n",
       "| 3             | Gordie Howe   |               | R             | 1946-1947     | 1979-1980     | 1767          | 801           | 1049          | 1850          |  87           | 1685          |  39           |  5            | 18            | NA            | NA            |   NA          | \n",
       "| 4             | Ron Francis   |               | C             | 1981-1982     | 2003-2004     | 1731          | 549           | 1249          | 1798          | -10           |  979          | 188           | 12            | 79            | 13            |  3            | 3754          | \n",
       "| 5             | Marcel Dionne |               | C             | 1971-1972     | 1988-1989     | 1348          | 731           | 1040          | 1771          |  28           |  600          | 234           | 19            | 74            |  1            |  2            | 5366          | \n",
       "| 6             | Steve Yzerman |               | C             | 1983-1984     | 2005-2006     | 1514          | 692           | 1063          | 1755          | 202           |  924          | 202           | 50            | 94            | 12            |  8            | 4602          | \n",
       "\n",
       "\n"
      ],
      "text/plain": [
       "  Rank Player        Team Pos X1st.NHL.Season Last.NHL.Season GP   G   A   \n",
       "1 1    Wayne Gretzky      C   1979-1980       1998-1999       1487 894 1963\n",
       "2 2    Mark Messier       C   1979-1980       2003-2004       1756 694 1193\n",
       "3 3    Gordie Howe        R   1946-1947       1979-1980       1767 801 1049\n",
       "4 4    Ron Francis        C   1981-1982       2003-2004       1731 549 1249\n",
       "5 5    Marcel Dionne      C   1971-1972       1988-1989       1348 731 1040\n",
       "6 6    Steve Yzerman      C   1983-1984       2005-2006       1514 692 1063\n",
       "  P    X... PIM  PP  SH GW GT OT Shots\n",
       "1 2857 518   577 204 73 91 12  1 5089 \n",
       "2 1887 210  1910 179 63 92 15  7 4219 \n",
       "3 1850  87  1685  39  5 18 NA NA   NA \n",
       "4 1798 -10   979 188 12 79 13  3 3754 \n",
       "5 1771  28   600 234 19 74  1  2 5366 \n",
       "6 1755 202   924 202 50 94 12  8 4602 "
      ]
     },
     "metadata": {},
     "output_type": "display_data"
    }
   ],
   "source": [
    "data <- read.csv(\"datasets/NHLTop100.csv\")\n",
    "head(data)"
   ]
  },
  {
   "cell_type": "code",
   "execution_count": 2,
   "metadata": {
    "collapsed": false
   },
   "outputs": [
    {
     "name": "stderr",
     "output_type": "stream",
     "text": [
      "Installing package into 'C:/Users/Jay/Documents/R/win-library/3.3'\n",
      "(as 'lib' is unspecified)\n"
     ]
    },
    {
     "name": "stdout",
     "output_type": "stream",
     "text": [
      "package 'ggplot2' successfully unpacked and MD5 sums checked\n",
      "\n",
      "The downloaded binary packages are in\n",
      "\tC:\\Users\\Jay\\AppData\\Local\\Temp\\RtmpQ7Wiog\\downloaded_packages\n"
     ]
    }
   ],
   "source": [
    "install.packages(\"ggplot2\", repos=\"https://cran.r-project.org\")"
   ]
  },
  {
   "cell_type": "code",
   "execution_count": 3,
   "metadata": {
    "collapsed": false
   },
   "outputs": [
    {
     "name": "stderr",
     "output_type": "stream",
     "text": [
      "Warning message:\n",
      "\"package 'ggplot2' was built under R version 3.3.3\""
     ]
    }
   ],
   "source": [
    "library(ggplot2)"
   ]
  },
  {
   "cell_type": "markdown",
   "metadata": {},
   "source": [
    "#### Scatter plotting the Goals vs. Assists data with default values."
   ]
  },
  {
   "cell_type": "code",
   "execution_count": 7,
   "metadata": {
    "collapsed": false
   },
   "outputs": [],
   "source": [
    "default.plot <- ggplot(data, aes(x = G,y = A)) + \n",
    "    geom_point(aes(color = GP, size = G)) + \n",
    "    scale_color_gradient(low = \"red\",  high = \"blue\")"
   ]
  },
  {
   "cell_type": "code",
   "execution_count": 8,
   "metadata": {
    "collapsed": false
   },
   "outputs": [
    {
     "data": {},
     "metadata": {},
     "output_type": "display_data"
    },
    {
     "data": {
      "image/png": "[encoded data removed]",
      "text/plain": [
       "plot without title"
      ]
     },
     "metadata": {},
     "output_type": "display_data"
    }
   ],
   "source": [
    "default.plot"
   ]
  },
  {
   "cell_type": "markdown",
   "metadata": {},
   "source": [
    "#### Adding the linear regression model to the above plot points"
   ]
  },
  {
   "cell_type": "code",
   "execution_count": 9,
   "metadata": {
    "collapsed": false
   },
   "outputs": [],
   "source": [
    "default.lm.plot <- ggplot(data, aes(x = G,y = A)) + \n",
    "    geom_point(aes(color = GP, size = G)) + \n",
    "    scale_color_gradient(low = \"red\",  high = \"blue\") +\n",
    "    geom_smooth(method = \"lm\")"
   ]
  },
  {
   "cell_type": "code",
   "execution_count": 10,
   "metadata": {
    "collapsed": false
   },
   "outputs": [
    {
     "data": {},
     "metadata": {},
     "output_type": "display_data"
    },
    {
     "data": {
      "image/png": "[encoded data removed]",
      "text/plain": [
       "plot without title"
      ]
     },
     "metadata": {},
     "output_type": "display_data"
    }
   ],
   "source": [
    "default.lm.plot"
   ]
  },
  {
   "cell_type": "markdown",
   "metadata": {
    "collapsed": true
   },
   "source": [
    "#### Above is the intial / default fit.\n",
    "#### Now onto finding evaluating the fit by noting R<sup>2</sup> and p-values of the fit."
   ]
  },
  {
   "cell_type": "code",
   "execution_count": 11,
   "metadata": {
    "collapsed": true
   },
   "outputs": [],
   "source": [
    "default.model <- lm(A ~ G, data = data)"
   ]
  },
  {
   "cell_type": "code",
   "execution_count": 12,
   "metadata": {
    "collapsed": false,
    "scrolled": true
   },
   "outputs": [
    {
     "data": {
      "text/html": [
       "<ol class=list-inline>\n",
       "\t<li>'coefficients'</li>\n",
       "\t<li>'residuals'</li>\n",
       "\t<li>'effects'</li>\n",
       "\t<li>'rank'</li>\n",
       "\t<li>'fitted.values'</li>\n",
       "\t<li>'assign'</li>\n",
       "\t<li>'qr'</li>\n",
       "\t<li>'df.residual'</li>\n",
       "\t<li>'xlevels'</li>\n",
       "\t<li>'call'</li>\n",
       "\t<li>'terms'</li>\n",
       "\t<li>'model'</li>\n",
       "</ol>\n"
      ],
      "text/latex": [
       "\\begin{enumerate*}\n",
       "\\item 'coefficients'\n",
       "\\item 'residuals'\n",
       "\\item 'effects'\n",
       "\\item 'rank'\n",
       "\\item 'fitted.values'\n",
       "\\item 'assign'\n",
       "\\item 'qr'\n",
       "\\item 'df.residual'\n",
       "\\item 'xlevels'\n",
       "\\item 'call'\n",
       "\\item 'terms'\n",
       "\\item 'model'\n",
       "\\end{enumerate*}\n"
      ],
      "text/markdown": [
       "1. 'coefficients'\n",
       "2. 'residuals'\n",
       "3. 'effects'\n",
       "4. 'rank'\n",
       "5. 'fitted.values'\n",
       "6. 'assign'\n",
       "7. 'qr'\n",
       "8. 'df.residual'\n",
       "9. 'xlevels'\n",
       "10. 'call'\n",
       "11. 'terms'\n",
       "12. 'model'\n",
       "\n",
       "\n"
      ],
      "text/plain": [
       " [1] \"coefficients\"  \"residuals\"     \"effects\"       \"rank\"         \n",
       " [5] \"fitted.values\" \"assign\"        \"qr\"            \"df.residual\"  \n",
       " [9] \"xlevels\"       \"call\"          \"terms\"         \"model\"        "
      ]
     },
     "metadata": {},
     "output_type": "display_data"
    }
   ],
   "source": [
    "names(default.model)"
   ]
  },
  {
   "cell_type": "code",
   "execution_count": 13,
   "metadata": {
    "collapsed": false
   },
   "outputs": [
    {
     "data": {
      "text/plain": [
       "\n",
       "Call:\n",
       "lm(formula = A ~ G, data = data)\n",
       "\n",
       "Coefficients:\n",
       "(Intercept)            G  \n",
       "   494.5135       0.5202  \n"
      ]
     },
     "metadata": {},
     "output_type": "display_data"
    }
   ],
   "source": [
    "default.model"
   ]
  },
  {
   "cell_type": "markdown",
   "metadata": {},
   "source": [
    "#### Getting the intercept and slope values"
   ]
  },
  {
   "cell_type": "code",
   "execution_count": 15,
   "metadata": {
    "collapsed": false
   },
   "outputs": [],
   "source": [
    "default.coefs <- coef(default.model)"
   ]
  },
  {
   "cell_type": "code",
   "execution_count": 16,
   "metadata": {
    "collapsed": false
   },
   "outputs": [
    {
     "data": {
      "text/html": [
       "<strong>(Intercept):</strong> 494.513523295987"
      ],
      "text/latex": [
       "\\textbf{(Intercept):} 494.513523295987"
      ],
      "text/markdown": [
       "**(Intercept):** 494.513523295987"
      ],
      "text/plain": [
       "(Intercept) \n",
       "   494.5135 "
      ]
     },
     "metadata": {},
     "output_type": "display_data"
    },
    {
     "data": {
      "text/html": [
       "<strong>G:</strong> 0.520206294863517"
      ],
      "text/latex": [
       "\\textbf{G:} 0.520206294863517"
      ],
      "text/markdown": [
       "**G:** 0.520206294863517"
      ],
      "text/plain": [
       "        G \n",
       "0.5202063 "
      ]
     },
     "metadata": {},
     "output_type": "display_data"
    }
   ],
   "source": [
    "default.coefs[1]\n",
    "default.coefs[2]"
   ]
  },
  {
   "cell_type": "markdown",
   "metadata": {},
   "source": [
    "#### Plotting the new line wrt intercept and slope only"
   ]
  },
  {
   "cell_type": "code",
   "execution_count": 19,
   "metadata": {
    "collapsed": true
   },
   "outputs": [],
   "source": [
    "default.fit.plot <- default.lm.plot + geom_abline(intercept = coefs[1], slope = coefs[2])"
   ]
  },
  {
   "cell_type": "code",
   "execution_count": 20,
   "metadata": {
    "collapsed": false
   },
   "outputs": [
    {
     "data": {},
     "metadata": {},
     "output_type": "display_data"
    },
    {
     "data": {
      "image/png": "[encoded data removed]",
      "text/plain": [
       "plot without title"
      ]
     },
     "metadata": {},
     "output_type": "display_data"
    }
   ],
   "source": [
    "default.fit.plot"
   ]
  },
  {
   "cell_type": "markdown",
   "metadata": {},
   "source": [
    "#### Getting the Rsquared and p-values"
   ]
  },
  {
   "cell_type": "code",
   "execution_count": 21,
   "metadata": {
    "collapsed": false
   },
   "outputs": [
    {
     "data": {
      "text/plain": [
       "\n",
       "Call:\n",
       "lm(formula = A ~ G, data = data)\n",
       "\n",
       "Residuals:\n",
       "    Min      1Q  Median      3Q     Max \n",
       "-356.51 -158.59  -10.29  125.08 1003.42 \n",
       "\n",
       "Coefficients:\n",
       "            Estimate Std. Error t value Pr(>|t|)    \n",
       "(Intercept) 494.5135    74.6410   6.625 1.88e-09 ***\n",
       "G             0.5202     0.1508   3.449 0.000832 ***\n",
       "---\n",
       "Signif. codes:  0 '***' 0.001 '**' 0.01 '*' 0.05 '.' 0.1 ' ' 1\n",
       "\n",
       "Residual standard error: 207 on 98 degrees of freedom\n",
       "Multiple R-squared:  0.1082,\tAdjusted R-squared:  0.09913 \n",
       "F-statistic: 11.89 on 1 and 98 DF,  p-value: 0.0008317\n"
      ]
     },
     "metadata": {},
     "output_type": "display_data"
    }
   ],
   "source": [
    "summary(default.model)"
   ]
  },
  {
   "cell_type": "code",
   "execution_count": 22,
   "metadata": {
    "collapsed": false
   },
   "outputs": [],
   "source": [
    "default.r2 <- summary(default.model)$r.squared"
   ]
  },
  {
   "cell_type": "code",
   "execution_count": 23,
   "metadata": {
    "collapsed": false
   },
   "outputs": [
    {
     "data": {
      "text/html": [
       "0.10823050447434"
      ],
      "text/latex": [
       "0.10823050447434"
      ],
      "text/markdown": [
       "0.10823050447434"
      ],
      "text/plain": [
       "[1] 0.1082305"
      ]
     },
     "metadata": {},
     "output_type": "display_data"
    }
   ],
   "source": [
    "default.r2"
   ]
  },
  {
   "cell_type": "code",
   "execution_count": 24,
   "metadata": {
    "collapsed": true
   },
   "outputs": [],
   "source": [
    "default.fstat <- summary(default.model)$fstatistic"
   ]
  },
  {
   "cell_type": "code",
   "execution_count": 26,
   "metadata": {
    "collapsed": true
   },
   "outputs": [],
   "source": [
    "default.p <- pf(default.fstat[1], default.fstat[2], default.fstat[3], lower.tail = FALSE)"
   ]
  },
  {
   "cell_type": "code",
   "execution_count": 27,
   "metadata": {
    "collapsed": false
   },
   "outputs": [
    {
     "data": {
      "text/html": [
       "<strong>value:</strong> 0.000831716923854345"
      ],
      "text/latex": [
       "\\textbf{value:} 0.000831716923854345"
      ],
      "text/markdown": [
       "**value:** 0.000831716923854345"
      ],
      "text/plain": [
       "       value \n",
       "0.0008317169 "
      ]
     },
     "metadata": {},
     "output_type": "display_data"
    }
   ],
   "source": [
    "default.p"
   ]
  },
  {
   "cell_type": "markdown",
   "metadata": {
    "collapsed": false
   },
   "source": [
    "#### Fitting the above plot to go through Wayne Gretsky (894, 1963)"
   ]
  },
  {
   "cell_type": "code",
   "execution_count": 28,
   "metadata": {
    "collapsed": false
   },
   "outputs": [],
   "source": [
    "gretsky.model <- lm(I(A - 1963) ~ I(G - 894), data = data)"
   ]
  },
  {
   "cell_type": "code",
   "execution_count": 29,
   "metadata": {
    "collapsed": false
   },
   "outputs": [
    {
     "data": {
      "text/plain": [
       "\n",
       "Call:\n",
       "lm(formula = I(A - 1963) ~ I(G - 894), data = data)\n",
       "\n",
       "Coefficients:\n",
       "(Intercept)   I(G - 894)  \n",
       " -1003.4220       0.5202  \n"
      ]
     },
     "metadata": {},
     "output_type": "display_data"
    }
   ],
   "source": [
    "gretsky.model"
   ]
  },
  {
   "cell_type": "code",
   "execution_count": 30,
   "metadata": {
    "collapsed": true
   },
   "outputs": [],
   "source": [
    "gretsky.coefs <- coef(gretsky.model)"
   ]
  },
  {
   "cell_type": "code",
   "execution_count": 31,
   "metadata": {
    "collapsed": false
   },
   "outputs": [
    {
     "data": {
      "text/html": [
       "<strong>(Intercept):</strong> -1003.42204909603"
      ],
      "text/latex": [
       "\\textbf{(Intercept):} -1003.42204909603"
      ],
      "text/markdown": [
       "**(Intercept):** -1003.42204909603"
      ],
      "text/plain": [
       "(Intercept) \n",
       "  -1003.422 "
      ]
     },
     "metadata": {},
     "output_type": "display_data"
    },
    {
     "data": {
      "text/html": [
       "<strong>I(G - 894):</strong> 0.520206294863515"
      ],
      "text/latex": [
       "\\textbf{I(G - 894):} 0.520206294863515"
      ],
      "text/markdown": [
       "**I(G - 894):** 0.520206294863515"
      ],
      "text/plain": [
       "I(G - 894) \n",
       " 0.5202063 "
      ]
     },
     "metadata": {},
     "output_type": "display_data"
    }
   ],
   "source": [
    "gretsky.coefs[1]\n",
    "gretsky.coefs[2]"
   ]
  },
  {
   "cell_type": "code",
   "execution_count": 33,
   "metadata": {
    "collapsed": false
   },
   "outputs": [],
   "source": [
    "gretsky.fit.plot <- default.lm.plot + \n",
    "    geom_abline(intercept = (1963 - (gretsky.coefs[2]*894)), slope = gretsky.coefs[2])"
   ]
  },
  {
   "cell_type": "code",
   "execution_count": 34,
   "metadata": {
    "collapsed": false
   },
   "outputs": [
    {
     "data": {},
     "metadata": {},
     "output_type": "display_data"
    },
    {
     "data": {
      "image/png": "[encoded data removed]",
      "text/plain": [
       "plot without title"
      ]
     },
     "metadata": {},
     "output_type": "display_data"
    }
   ],
   "source": [
    "gretsky.fit.plot"
   ]
  },
  {
   "cell_type": "markdown",
   "metadata": {},
   "source": [
    "#### Getting the Rsquared and pvalues for new Model passing through Wayne Gretsky"
   ]
  },
  {
   "cell_type": "code",
   "execution_count": 35,
   "metadata": {
    "collapsed": false,
    "scrolled": true
   },
   "outputs": [
    {
     "data": {
      "text/plain": [
       "\n",
       "Call:\n",
       "lm(formula = I(A - 1963) ~ I(G - 894), data = data)\n",
       "\n",
       "Residuals:\n",
       "    Min      1Q  Median      3Q     Max \n",
       "-356.51 -158.59  -10.29  125.08 1003.42 \n",
       "\n",
       "Coefficients:\n",
       "              Estimate Std. Error t value Pr(>|t|)    \n",
       "(Intercept) -1003.4220    66.4463 -15.101  < 2e-16 ***\n",
       "I(G - 894)      0.5202     0.1508   3.449 0.000832 ***\n",
       "---\n",
       "Signif. codes:  0 '***' 0.001 '**' 0.01 '*' 0.05 '.' 0.1 ' ' 1\n",
       "\n",
       "Residual standard error: 207 on 98 degrees of freedom\n",
       "Multiple R-squared:  0.1082,\tAdjusted R-squared:  0.09913 \n",
       "F-statistic: 11.89 on 1 and 98 DF,  p-value: 0.0008317\n"
      ]
     },
     "metadata": {},
     "output_type": "display_data"
    }
   ],
   "source": [
    "summary(gretsky.model)"
   ]
  },
  {
   "cell_type": "code",
   "execution_count": 36,
   "metadata": {
    "collapsed": false
   },
   "outputs": [],
   "source": [
    "gretsky.r2 <- summary(gretsky.model)$r.squared"
   ]
  },
  {
   "cell_type": "code",
   "execution_count": 37,
   "metadata": {
    "collapsed": false,
    "scrolled": true
   },
   "outputs": [
    {
     "data": {
      "text/html": [
       "0.10823050447434"
      ],
      "text/latex": [
       "0.10823050447434"
      ],
      "text/markdown": [
       "0.10823050447434"
      ],
      "text/plain": [
       "[1] 0.1082305"
      ]
     },
     "metadata": {},
     "output_type": "display_data"
    }
   ],
   "source": [
    "gretsky.r2"
   ]
  },
  {
   "cell_type": "code",
   "execution_count": 39,
   "metadata": {
    "collapsed": false
   },
   "outputs": [],
   "source": [
    "gretsky.fstat <- summary(gretsky.model)$fstatistic"
   ]
  },
  {
   "cell_type": "code",
   "execution_count": 40,
   "metadata": {
    "collapsed": true
   },
   "outputs": [],
   "source": [
    "gretsky.p <- pf(gretsky.fstat[1], gretsky.fstat[2], gretsky.fstat[3], lower.tail = FALSE)"
   ]
  },
  {
   "cell_type": "code",
   "execution_count": 41,
   "metadata": {
    "collapsed": false
   },
   "outputs": [
    {
     "data": {
      "text/html": [
       "<strong>value:</strong> 0.000831716923854359"
      ],
      "text/latex": [
       "\\textbf{value:} 0.000831716923854359"
      ],
      "text/markdown": [
       "**value:** 0.000831716923854359"
      ],
      "text/plain": [
       "       value \n",
       "0.0008317169 "
      ]
     },
     "metadata": {},
     "output_type": "display_data"
    }
   ],
   "source": [
    "gretsky.p"
   ]
  },
  {
   "cell_type": "markdown",
   "metadata": {},
   "source": [
    "#### Adding the data for another player Patrick Kane and creating a new chart and forcing the line through Kane but not Gretsky\n",
    "I've added the details of Patrick Kane in CSV directly and simply imported it here."
   ]
  },
  {
   "cell_type": "code",
   "execution_count": 42,
   "metadata": {
    "collapsed": true
   },
   "outputs": [],
   "source": [
    "data_kane <- read.csv(\"datasets/NHLTop100-Updated.csv\")"
   ]
  },
  {
   "cell_type": "code",
   "execution_count": 43,
   "metadata": {
    "collapsed": false
   },
   "outputs": [
    {
     "data": {
      "text/html": [
       "<table>\n",
       "<thead><tr><th></th><th scope=col>Rank</th><th scope=col>Player</th><th scope=col>Team</th><th scope=col>Pos</th><th scope=col>X1st.NHL.Season</th><th scope=col>Last.NHL.Season</th><th scope=col>GP</th><th scope=col>G</th><th scope=col>A</th><th scope=col>P</th><th scope=col>X...</th><th scope=col>PIM</th><th scope=col>PP</th><th scope=col>SH</th><th scope=col>GW</th><th scope=col>GT</th><th scope=col>OT</th><th scope=col>Shots</th></tr></thead>\n",
       "<tbody>\n",
       "\t<tr><th scope=row>96</th><td> 96          </td><td>Gary Roberts </td><td>             </td><td>L            </td><td>1986-1987    </td><td>2008-2009    </td><td>1224         </td><td>438          </td><td>472          </td><td>910          </td><td> 229         </td><td>2560         </td><td>109          </td><td>13           </td><td>52           </td><td>11           </td><td> 5           </td><td>2374         </td></tr>\n",
       "\t<tr><th scope=row>97</th><td> 97          </td><td>Scott Stevens</td><td>             </td><td>D            </td><td>1982-1983    </td><td>2003-2004    </td><td>1635         </td><td>196          </td><td>712          </td><td>908          </td><td> 377         </td><td>2785         </td><td> 75          </td><td> 5           </td><td>34           </td><td> 0           </td><td> 2           </td><td>3240         </td></tr>\n",
       "\t<tr><th scope=row>98</th><td> 98          </td><td>Tony Amonte  </td><td>             </td><td>R            </td><td>1990-1991    </td><td>2006-2007    </td><td>1174         </td><td>416          </td><td>484          </td><td>900          </td><td>  96         </td><td> 752         </td><td>108          </td><td>23           </td><td>58           </td><td> 7           </td><td> 6           </td><td>3260         </td></tr>\n",
       "\t<tr><th scope=row>99</th><td> 99          </td><td>Ray Ferraro  </td><td>             </td><td>C            </td><td>1984-1985    </td><td>2001-2002    </td><td>1258         </td><td>408          </td><td>490          </td><td>898          </td><td>-104         </td><td>1288         </td><td>130          </td><td> 0           </td><td>45           </td><td>11           </td><td> 6           </td><td>2164         </td></tr>\n",
       "\t<tr><th scope=row>100</th><td>100          </td><td>Brad Park    </td><td>             </td><td>D            </td><td>1968-1969    </td><td>1984-1985    </td><td>1113         </td><td>213          </td><td>683          </td><td>896          </td><td> 358         </td><td>1429         </td><td> 93          </td><td> 5           </td><td>28           </td><td>NA           </td><td>NA           </td><td>2820         </td></tr>\n",
       "\t<tr><th scope=row>101</th><td> NA          </td><td>Patrick Kane </td><td>             </td><td>L            </td><td>1988-1989    </td><td>2016-2017    </td><td> 736         </td><td>285          </td><td>465          </td><td>750          </td><td>  83         </td><td> 284         </td><td>337          </td><td> 1           </td><td>49           </td><td>NA           </td><td> 3           </td><td>2294         </td></tr>\n",
       "</tbody>\n",
       "</table>\n"
      ],
      "text/latex": [
       "\\begin{tabular}{r|llllllllllllllllll}\n",
       "  & Rank & Player & Team & Pos & X1st.NHL.Season & Last.NHL.Season & GP & G & A & P & X... & PIM & PP & SH & GW & GT & OT & Shots\\\\\n",
       "\\hline\n",
       "\t96 &  96           & Gary Roberts  &               & L             & 1986-1987     & 2008-2009     & 1224          & 438           & 472           & 910           &  229          & 2560          & 109           & 13            & 52            & 11            &  5            & 2374         \\\\\n",
       "\t97 &  97           & Scott Stevens &               & D             & 1982-1983     & 2003-2004     & 1635          & 196           & 712           & 908           &  377          & 2785          &  75           &  5            & 34            &  0            &  2            & 3240         \\\\\n",
       "\t98 &  98           & Tony Amonte   &               & R             & 1990-1991     & 2006-2007     & 1174          & 416           & 484           & 900           &   96          &  752          & 108           & 23            & 58            &  7            &  6            & 3260         \\\\\n",
       "\t99 &  99           & Ray Ferraro   &               & C             & 1984-1985     & 2001-2002     & 1258          & 408           & 490           & 898           & -104          & 1288          & 130           &  0            & 45            & 11            &  6            & 2164         \\\\\n",
       "\t100 & 100           & Brad Park     &               & D             & 1968-1969     & 1984-1985     & 1113          & 213           & 683           & 896           &  358          & 1429          &  93           &  5            & 28            & NA            & NA            & 2820         \\\\\n",
       "\t101 &  NA           & Patrick Kane  &               & L             & 1988-1989     & 2016-2017     &  736          & 285           & 465           & 750           &   83          &  284          & 337           &  1            & 49            & NA            &  3            & 2294         \\\\\n",
       "\\end{tabular}\n"
      ],
      "text/markdown": [
       "\n",
       "| <!--/--> | Rank | Player | Team | Pos | X1st.NHL.Season | Last.NHL.Season | GP | G | A | P | X... | PIM | PP | SH | GW | GT | OT | Shots | \n",
       "|---|---|---|---|---|---|\n",
       "| 96 |  96           | Gary Roberts  |               | L             | 1986-1987     | 2008-2009     | 1224          | 438           | 472           | 910           |  229          | 2560          | 109           | 13            | 52            | 11            |  5            | 2374          | \n",
       "| 97 |  97           | Scott Stevens |               | D             | 1982-1983     | 2003-2004     | 1635          | 196           | 712           | 908           |  377          | 2785          |  75           |  5            | 34            |  0            |  2            | 3240          | \n",
       "| 98 |  98           | Tony Amonte   |               | R             | 1990-1991     | 2006-2007     | 1174          | 416           | 484           | 900           |   96          |  752          | 108           | 23            | 58            |  7            |  6            | 3260          | \n",
       "| 99 |  99           | Ray Ferraro   |               | C             | 1984-1985     | 2001-2002     | 1258          | 408           | 490           | 898           | -104          | 1288          | 130           |  0            | 45            | 11            |  6            | 2164          | \n",
       "| 100 | 100           | Brad Park     |               | D             | 1968-1969     | 1984-1985     | 1113          | 213           | 683           | 896           |  358          | 1429          |  93           |  5            | 28            | NA            | NA            | 2820          | \n",
       "| 101 |  NA           | Patrick Kane  |               | L             | 1988-1989     | 2016-2017     |  736          | 285           | 465           | 750           |   83          |  284          | 337           |  1            | 49            | NA            |  3            | 2294          | \n",
       "\n",
       "\n"
      ],
      "text/plain": [
       "    Rank Player        Team Pos X1st.NHL.Season Last.NHL.Season GP   G   A  \n",
       "96   96  Gary Roberts       L   1986-1987       2008-2009       1224 438 472\n",
       "97   97  Scott Stevens      D   1982-1983       2003-2004       1635 196 712\n",
       "98   98  Tony Amonte        R   1990-1991       2006-2007       1174 416 484\n",
       "99   99  Ray Ferraro        C   1984-1985       2001-2002       1258 408 490\n",
       "100 100  Brad Park          D   1968-1969       1984-1985       1113 213 683\n",
       "101  NA  Patrick Kane       L   1988-1989       2016-2017        736 285 465\n",
       "    P   X... PIM  PP  SH GW GT OT Shots\n",
       "96  910  229 2560 109 13 52 11  5 2374 \n",
       "97  908  377 2785  75  5 34  0  2 3240 \n",
       "98  900   96  752 108 23 58  7  6 3260 \n",
       "99  898 -104 1288 130  0 45 11  6 2164 \n",
       "100 896  358 1429  93  5 28 NA NA 2820 \n",
       "101 750   83  284 337  1 49 NA  3 2294 "
      ]
     },
     "metadata": {},
     "output_type": "display_data"
    }
   ],
   "source": [
    "tail(data_kane)"
   ]
  },
  {
   "cell_type": "code",
   "execution_count": 44,
   "metadata": {
    "collapsed": false
   },
   "outputs": [],
   "source": [
    "kane.lm.plot <- ggplot(data_kane, aes(x = G,y = A)) + \n",
    "    geom_point(aes(color = GP, size = G)) + \n",
    "    scale_color_gradient(low = \"red\",  high = \"blue\") +\n",
    "    geom_smooth(method = \"lm\")"
   ]
  },
  {
   "cell_type": "code",
   "execution_count": 45,
   "metadata": {
    "collapsed": false
   },
   "outputs": [
    {
     "data": {},
     "metadata": {},
     "output_type": "display_data"
    },
    {
     "data": {
      "image/png": "[encoded data removed]",
      "text/plain": [
       "plot without title"
      ]
     },
     "metadata": {},
     "output_type": "display_data"
    }
   ],
   "source": [
    "kane.lm.plot"
   ]
  },
  {
   "cell_type": "code",
   "execution_count": 46,
   "metadata": {
    "collapsed": true
   },
   "outputs": [],
   "source": [
    "kane.model <- lm(I(A-465) ~ I(G-285), data = data_kane)"
   ]
  },
  {
   "cell_type": "code",
   "execution_count": 47,
   "metadata": {
    "collapsed": false
   },
   "outputs": [
    {
     "data": {
      "text/plain": [
       "\n",
       "Call:\n",
       "lm(formula = I(A - 465) ~ I(G - 285), data = data_kane)\n",
       "\n",
       "Coefficients:\n",
       "(Intercept)   I(G - 285)  \n",
       "   172.7210       0.5377  \n"
      ]
     },
     "metadata": {},
     "output_type": "display_data"
    }
   ],
   "source": [
    "kane.model"
   ]
  },
  {
   "cell_type": "code",
   "execution_count": 48,
   "metadata": {
    "collapsed": true
   },
   "outputs": [],
   "source": [
    "kane.coefs <- coef(kane.model)"
   ]
  },
  {
   "cell_type": "code",
   "execution_count": 49,
   "metadata": {
    "collapsed": true
   },
   "outputs": [],
   "source": [
    "kane.fit.plot <- kane.lm.plot + geom_abline(intercept = kane.coefs[1], slope = kane.coefs[2])"
   ]
  },
  {
   "cell_type": "code",
   "execution_count": 50,
   "metadata": {
    "collapsed": false
   },
   "outputs": [
    {
     "data": {},
     "metadata": {},
     "output_type": "display_data"
    },
    {
     "data": {
      "image/png": "[encoded data removed]",
      "text/plain": [
       "plot without title"
      ]
     },
     "metadata": {},
     "output_type": "display_data"
    }
   ],
   "source": [
    "kane.fit.plot"
   ]
  },
  {
   "cell_type": "markdown",
   "metadata": {},
   "source": [
    "#### Getting the Rsquared and p-values"
   ]
  },
  {
   "cell_type": "code",
   "execution_count": 51,
   "metadata": {
    "collapsed": false
   },
   "outputs": [
    {
     "data": {
      "text/plain": [
       "\n",
       "Call:\n",
       "lm(formula = I(A - 465) ~ I(G - 285), data = data_kane)\n",
       "\n",
       "Residuals:\n",
       "    Min      1Q  Median      3Q     Max \n",
       "-355.98 -172.72   -8.94  126.20  997.84 \n",
       "\n",
       "Coefficients:\n",
       "            Estimate Std. Error t value Pr(>|t|)    \n",
       "(Intercept) 172.7210    34.8505   4.956 2.97e-06 ***\n",
       "I(G - 285)    0.5377     0.1492   3.603 0.000493 ***\n",
       "---\n",
       "Signif. codes:  0 '***' 0.001 '**' 0.01 '*' 0.05 '.' 0.1 ' ' 1\n",
       "\n",
       "Residual standard error: 206.7 on 99 degrees of freedom\n",
       "Multiple R-squared:  0.116,\tAdjusted R-squared:  0.107 \n",
       "F-statistic: 12.98 on 1 and 99 DF,  p-value: 0.0004934\n"
      ]
     },
     "metadata": {},
     "output_type": "display_data"
    }
   ],
   "source": [
    "summary(kane.model)"
   ]
  },
  {
   "cell_type": "code",
   "execution_count": 52,
   "metadata": {
    "collapsed": false
   },
   "outputs": [],
   "source": [
    "kane.r2 <- summary(kane.model)$r.squared"
   ]
  },
  {
   "cell_type": "code",
   "execution_count": 53,
   "metadata": {
    "collapsed": false,
    "scrolled": true
   },
   "outputs": [
    {
     "data": {
      "text/html": [
       "0.115951676728681"
      ],
      "text/latex": [
       "0.115951676728681"
      ],
      "text/markdown": [
       "0.115951676728681"
      ],
      "text/plain": [
       "[1] 0.1159517"
      ]
     },
     "metadata": {},
     "output_type": "display_data"
    }
   ],
   "source": [
    "kane.r2"
   ]
  },
  {
   "cell_type": "code",
   "execution_count": 54,
   "metadata": {
    "collapsed": true
   },
   "outputs": [],
   "source": [
    "kane.fstat <- summary(kane.model)$fstatistic"
   ]
  },
  {
   "cell_type": "code",
   "execution_count": 55,
   "metadata": {
    "collapsed": true
   },
   "outputs": [],
   "source": [
    "kane.p <- pf(kane.fstat[1], kane.fstat[2], kane.fstat[3], lower.tail = FALSE)"
   ]
  },
  {
   "cell_type": "code",
   "execution_count": 56,
   "metadata": {
    "collapsed": false
   },
   "outputs": [
    {
     "data": {
      "text/html": [
       "<strong>value:</strong> 0.000493443901793566"
      ],
      "text/latex": [
       "\\textbf{value:} 0.000493443901793566"
      ],
      "text/markdown": [
       "**value:** 0.000493443901793566"
      ],
      "text/plain": [
       "       value \n",
       "0.0004934439 "
      ]
     },
     "metadata": {},
     "output_type": "display_data"
    }
   ],
   "source": [
    "kane.p"
   ]
  },
  {
   "cell_type": "markdown",
   "metadata": {},
   "source": [
    "#### Making all the models go through origin (0,0) and create new models for each. Noting the Rswaure and p-values of the fit."
   ]
  },
  {
   "cell_type": "code",
   "execution_count": 64,
   "metadata": {
    "collapsed": false
   },
   "outputs": [
    {
     "data": {
      "text/plain": [
       "\n",
       "Call:\n",
       "lm(formula = A ~ G + 0, data = data)\n",
       "\n",
       "Coefficients:\n",
       "   G  \n",
       "1.48  \n"
      ]
     },
     "metadata": {},
     "output_type": "display_data"
    },
    {
     "data": {
      "text/plain": [
       "\n",
       "Call:\n",
       "lm(formula = A ~ G + 0, data = data)\n",
       "\n",
       "Residuals:\n",
       "    Min      1Q  Median      3Q     Max \n",
       "-446.93 -137.40    1.88  159.73  639.58 \n",
       "\n",
       "Coefficients:\n",
       "  Estimate Std. Error t value Pr(>|t|)    \n",
       "G  1.48033    0.05009   29.55   <2e-16 ***\n",
       "---\n",
       "Signif. codes:  0 '***' 0.001 '**' 0.01 '*' 0.05 '.' 0.1 ' ' 1\n",
       "\n",
       "Residual standard error: 247.9 on 99 degrees of freedom\n",
       "Multiple R-squared:  0.8982,\tAdjusted R-squared:  0.8972 \n",
       "F-statistic: 873.4 on 1 and 99 DF,  p-value: < 2.2e-16\n"
      ]
     },
     "metadata": {},
     "output_type": "display_data"
    },
    {
     "data": {
      "text/html": [
       "0.89818610880756"
      ],
      "text/latex": [
       "0.89818610880756"
      ],
      "text/markdown": [
       "0.89818610880756"
      ],
      "text/plain": [
       "[1] 0.8981861"
      ]
     },
     "metadata": {},
     "output_type": "display_data"
    },
    {
     "data": {
      "text/html": [
       "<strong>value:</strong> 6.49089821934292e-51"
      ],
      "text/latex": [
       "\\textbf{value:} 6.49089821934292e-51"
      ],
      "text/markdown": [
       "**value:** 6.49089821934292e-51"
      ],
      "text/plain": [
       "       value \n",
       "6.490898e-51 "
      ]
     },
     "metadata": {},
     "output_type": "display_data"
    }
   ],
   "source": [
    "default.0.model <- lm(A ~ G + 0, data = data)\n",
    "default.0.model\n",
    "\n",
    "summary(default.0.model)\n",
    "\n",
    "default.0.r2 <- summary(default.0.model)$r.squared\n",
    "default.0.fstat <- summary(default.0.model)$fstatistic\n",
    "default.0.p <- pf(default.0.fstat[1], default.0.fstat[2], default.0.fstat[3], lower.tail = FALSE)\n",
    "\n",
    "default.0.r2\n",
    "default.0.p"
   ]
  },
  {
   "cell_type": "code",
   "execution_count": 65,
   "metadata": {
    "collapsed": false
   },
   "outputs": [
    {
     "data": {
      "text/plain": [
       "\n",
       "Call:\n",
       "lm(formula = I(A - 1963) ~ I(G - 894) + 0, data = data)\n",
       "\n",
       "Coefficients:\n",
       "I(G - 894)  \n",
       "     2.685  \n"
      ]
     },
     "metadata": {},
     "output_type": "display_data"
    },
    {
     "data": {
      "text/plain": [
       "\n",
       "Call:\n",
       "lm(formula = I(A - 1963) ~ I(G - 894) + 0, data = data)\n",
       "\n",
       "Residuals:\n",
       "   Min     1Q Median     3Q    Max \n",
       "-902.2 -333.4 -145.4  103.3  703.4 \n",
       "\n",
       "Coefficients:\n",
       "           Estimate Std. Error t value Pr(>|t|)    \n",
       "I(G - 894)   2.6847     0.0853   31.48   <2e-16 ***\n",
       "---\n",
       "Signif. codes:  0 '***' 0.001 '**' 0.01 '*' 0.05 '.' 0.1 ' ' 1\n",
       "\n",
       "Residual standard error: 375.7 on 99 degrees of freedom\n",
       "Multiple R-squared:  0.9091,\tAdjusted R-squared:  0.9082 \n",
       "F-statistic: 990.7 on 1 and 99 DF,  p-value: < 2.2e-16\n"
      ]
     },
     "metadata": {},
     "output_type": "display_data"
    },
    {
     "data": {
      "text/html": [
       "0.909145627591712"
      ],
      "text/latex": [
       "0.909145627591712"
      ],
      "text/markdown": [
       "0.909145627591712"
      ],
      "text/plain": [
       "[1] 0.9091456"
      ]
     },
     "metadata": {},
     "output_type": "display_data"
    },
    {
     "data": {
      "text/html": [
       "<strong>value:</strong> 2.298259679506e-53"
      ],
      "text/latex": [
       "\\textbf{value:} 2.298259679506e-53"
      ],
      "text/markdown": [
       "**value:** 2.298259679506e-53"
      ],
      "text/plain": [
       "      value \n",
       "2.29826e-53 "
      ]
     },
     "metadata": {},
     "output_type": "display_data"
    }
   ],
   "source": [
    "gretsky.0.model <- lm(I(A - 1963) ~ I(G - 894) + 0, data = data)\n",
    "gretsky.0.model\n",
    "summary(gretsky.0.model)\n",
    "\n",
    "gretsky.0.r2 <- summary(gretsky.0.model)$r.squared\n",
    "gretsky.0.fstat <- summary(gretsky.0.model)$fstatistic\n",
    "gretsky.0.p <- pf(gretsky.0.fstat[1], gretsky.0.fstat[2], gretsky.0.fstat[3], lower.tail = FALSE)\n",
    "\n",
    "gretsky.0.r2\n",
    "gretsky.0.p"
   ]
  },
  {
   "cell_type": "code",
   "execution_count": 67,
   "metadata": {
    "collapsed": false
   },
   "outputs": [
    {
     "data": {
      "text/plain": [
       "\n",
       "Call:\n",
       "lm(formula = I(A - 465) ~ I(G - 285) + 0, data = data_kane)\n",
       "\n",
       "Coefficients:\n",
       "I(G - 285)  \n",
       "     1.135  \n"
      ]
     },
     "metadata": {},
     "output_type": "display_data"
    },
    {
     "data": {
      "text/plain": [
       "\n",
       "Call:\n",
       "lm(formula = I(A - 465) ~ I(G - 285) + 0, data = data_kane)\n",
       "\n",
       "Residuals:\n",
       "    Min      1Q  Median      3Q     Max \n",
       "-337.85 -114.55   40.53  165.99  807.05 \n",
       "\n",
       "Coefficients:\n",
       "           Estimate Std. Error t value Pr(>|t|)    \n",
       "I(G - 285)   1.1346     0.0979   11.59   <2e-16 ***\n",
       "---\n",
       "Signif. codes:  0 '***' 0.001 '**' 0.01 '*' 0.05 '.' 0.1 ' ' 1\n",
       "\n",
       "Residual standard error: 229.8 on 100 degrees of freedom\n",
       "Multiple R-squared:  0.5732,\tAdjusted R-squared:  0.5689 \n",
       "F-statistic: 134.3 on 1 and 100 DF,  p-value: < 2.2e-16\n"
      ]
     },
     "metadata": {},
     "output_type": "display_data"
    },
    {
     "data": {
      "text/html": [
       "0.573181712694336"
      ],
      "text/latex": [
       "0.573181712694336"
      ],
      "text/markdown": [
       "0.573181712694336"
      ],
      "text/plain": [
       "[1] 0.5731817"
      ]
     },
     "metadata": {},
     "output_type": "display_data"
    },
    {
     "data": {
      "text/html": [
       "<strong>value:</strong> 3.39424539724717e-20"
      ],
      "text/latex": [
       "\\textbf{value:} 3.39424539724717e-20"
      ],
      "text/markdown": [
       "**value:** 3.39424539724717e-20"
      ],
      "text/plain": [
       "       value \n",
       "3.394245e-20 "
      ]
     },
     "metadata": {},
     "output_type": "display_data"
    }
   ],
   "source": [
    "kane.0.model <- lm(I(A-465) ~ I(G-285) + 0, data = data_kane)\n",
    "kane.0.model\n",
    "summary(kane.0.model)\n",
    "\n",
    "kane.0.r2 <- summary(kane.0.model)$r.squared\n",
    "kane.0.fstat <- summary(kane.0.model)$fstatistic\n",
    "kane.0.p <- pf(kane.0.fstat[1], kane.0.fstat[2], kane.0.fstat[3], lower.tail = FALSE)\n",
    "\n",
    "kane.0.r2\n",
    "kane.0.p"
   ]
  },
  {
   "cell_type": "code",
   "execution_count": 75,
   "metadata": {
    "collapsed": false
   },
   "outputs": [
    {
     "data": {
      "text/html": [
       "<dl class=dl-horizontal>\n",
       "\t<dt>1</dt>\n",
       "\t\t<dd>0.10823050447434</dd>\n",
       "\t<dt>value</dt>\n",
       "\t\t<dd>0.000831716923854345</dd>\n",
       "</dl>\n"
      ],
      "text/latex": [
       "\\begin{description*}\n",
       "\\item[1] 0.10823050447434\n",
       "\\item[value] 0.000831716923854345\n",
       "\\end{description*}\n"
      ],
      "text/markdown": [
       "1\n",
       ":   0.10823050447434value\n",
       ":   0.000831716923854345\n",
       "\n"
      ],
      "text/plain": [
       "                    value \n",
       "0.1082305045 0.0008317169 "
      ]
     },
     "metadata": {},
     "output_type": "display_data"
    }
   ],
   "source": [
    "result_default <- c(default.r2, default.p)\n",
    "result_default"
   ]
  },
  {
   "cell_type": "code",
   "execution_count": 76,
   "metadata": {
    "collapsed": false
   },
   "outputs": [
    {
     "data": {
      "text/html": [
       "<dl class=dl-horizontal>\n",
       "\t<dt>1</dt>\n",
       "\t\t<dd>0.10823050447434</dd>\n",
       "\t<dt>value</dt>\n",
       "\t\t<dd>0.000831716923854359</dd>\n",
       "</dl>\n"
      ],
      "text/latex": [
       "\\begin{description*}\n",
       "\\item[1] 0.10823050447434\n",
       "\\item[value] 0.000831716923854359\n",
       "\\end{description*}\n"
      ],
      "text/markdown": [
       "1\n",
       ":   0.10823050447434value\n",
       ":   0.000831716923854359\n",
       "\n"
      ],
      "text/plain": [
       "                    value \n",
       "0.1082305045 0.0008317169 "
      ]
     },
     "metadata": {},
     "output_type": "display_data"
    }
   ],
   "source": [
    "result_gretsky <- c(gretsky.r2,gretsky.p)\n",
    "result_gretsky"
   ]
  },
  {
   "cell_type": "code",
   "execution_count": 77,
   "metadata": {
    "collapsed": false
   },
   "outputs": [
    {
     "data": {
      "text/html": [
       "<dl class=dl-horizontal>\n",
       "\t<dt>1</dt>\n",
       "\t\t<dd>0.115951676728681</dd>\n",
       "\t<dt>value</dt>\n",
       "\t\t<dd>0.000493443901793566</dd>\n",
       "</dl>\n"
      ],
      "text/latex": [
       "\\begin{description*}\n",
       "\\item[1] 0.115951676728681\n",
       "\\item[value] 0.000493443901793566\n",
       "\\end{description*}\n"
      ],
      "text/markdown": [
       "1\n",
       ":   0.115951676728681value\n",
       ":   0.000493443901793566\n",
       "\n"
      ],
      "text/plain": [
       "                    value \n",
       "0.1159516767 0.0004934439 "
      ]
     },
     "metadata": {},
     "output_type": "display_data"
    }
   ],
   "source": [
    "result_kane <- c(kane.r2, kane.p)\n",
    "result_kane"
   ]
  },
  {
   "cell_type": "code",
   "execution_count": 78,
   "metadata": {
    "collapsed": false
   },
   "outputs": [
    {
     "data": {
      "text/html": [
       "<dl class=dl-horizontal>\n",
       "\t<dt>1</dt>\n",
       "\t\t<dd>0.89818610880756</dd>\n",
       "\t<dt>value</dt>\n",
       "\t\t<dd>6.49089821934292e-51</dd>\n",
       "</dl>\n"
      ],
      "text/latex": [
       "\\begin{description*}\n",
       "\\item[1] 0.89818610880756\n",
       "\\item[value] 6.49089821934292e-51\n",
       "\\end{description*}\n"
      ],
      "text/markdown": [
       "1\n",
       ":   0.89818610880756value\n",
       ":   6.49089821934292e-51\n",
       "\n"
      ],
      "text/plain": [
       "                    value \n",
       "8.981861e-01 6.490898e-51 "
      ]
     },
     "metadata": {},
     "output_type": "display_data"
    }
   ],
   "source": [
    "result_default0 <- c(default.0.r2, default.0.p)\n",
    "result_default0"
   ]
  },
  {
   "cell_type": "code",
   "execution_count": 80,
   "metadata": {
    "collapsed": false
   },
   "outputs": [
    {
     "data": {
      "text/html": [
       "<dl class=dl-horizontal>\n",
       "\t<dt>1</dt>\n",
       "\t\t<dd>0.909145627591712</dd>\n",
       "\t<dt>value</dt>\n",
       "\t\t<dd>2.298259679506e-53</dd>\n",
       "</dl>\n"
      ],
      "text/latex": [
       "\\begin{description*}\n",
       "\\item[1] 0.909145627591712\n",
       "\\item[value] 2.298259679506e-53\n",
       "\\end{description*}\n"
      ],
      "text/markdown": [
       "1\n",
       ":   0.909145627591712value\n",
       ":   2.298259679506e-53\n",
       "\n"
      ],
      "text/plain": [
       "                    value \n",
       "9.091456e-01 2.298260e-53 "
      ]
     },
     "metadata": {},
     "output_type": "display_data"
    }
   ],
   "source": [
    "result_gretsky0 <- c(gretsky.0.r2,gretsky.0.p)\n",
    "result_gretsky0"
   ]
  },
  {
   "cell_type": "code",
   "execution_count": 81,
   "metadata": {
    "collapsed": false
   },
   "outputs": [
    {
     "data": {
      "text/html": [
       "<dl class=dl-horizontal>\n",
       "\t<dt>1</dt>\n",
       "\t\t<dd>0.573181712694336</dd>\n",
       "\t<dt>value</dt>\n",
       "\t\t<dd>3.39424539724717e-20</dd>\n",
       "</dl>\n"
      ],
      "text/latex": [
       "\\begin{description*}\n",
       "\\item[1] 0.573181712694336\n",
       "\\item[value] 3.39424539724717e-20\n",
       "\\end{description*}\n"
      ],
      "text/markdown": [
       "1\n",
       ":   0.573181712694336value\n",
       ":   3.39424539724717e-20\n",
       "\n"
      ],
      "text/plain": [
       "                    value \n",
       "5.731817e-01 3.394245e-20 "
      ]
     },
     "metadata": {},
     "output_type": "display_data"
    }
   ],
   "source": [
    "result_kane0 <- c(kane.0.r2, kane.0.p)\n",
    "result_kane0"
   ]
  },
  {
   "cell_type": "code",
   "execution_count": 96,
   "metadata": {
    "collapsed": false
   },
   "outputs": [
    {
     "data": {
      "text/html": [
       "<table>\n",
       "<thead><tr><th></th><th scope=col></th><th scope=col>value</th></tr></thead>\n",
       "<tbody>\n",
       "\t<tr><th scope=row>result_default</th><td>0.1082305   </td><td>8.317169e-04</td></tr>\n",
       "\t<tr><th scope=row>result_gretsky</th><td>0.1082305   </td><td>8.317169e-04</td></tr>\n",
       "\t<tr><th scope=row>result_kane</th><td>0.1159517   </td><td>4.934439e-04</td></tr>\n",
       "\t<tr><th scope=row>result_default0</th><td>0.8981861   </td><td>6.490898e-51</td></tr>\n",
       "\t<tr><th scope=row>result_gretsky0</th><td>0.9091456   </td><td>2.298260e-53</td></tr>\n",
       "\t<tr><th scope=row>result_kane0</th><td>0.5731817   </td><td>3.394245e-20</td></tr>\n",
       "</tbody>\n",
       "</table>\n"
      ],
      "text/latex": [
       "\\begin{tabular}{r|ll}\n",
       "  &  & value\\\\\n",
       "\\hline\n",
       "\tresult\\_default & 0.1082305    & 8.317169e-04\\\\\n",
       "\tresult\\_gretsky & 0.1082305    & 8.317169e-04\\\\\n",
       "\tresult\\_kane & 0.1159517    & 4.934439e-04\\\\\n",
       "\tresult\\_default0 & 0.8981861    & 6.490898e-51\\\\\n",
       "\tresult\\_gretsky0 & 0.9091456    & 2.298260e-53\\\\\n",
       "\tresult\\_kane0 & 0.5731817    & 3.394245e-20\\\\\n",
       "\\end{tabular}\n"
      ],
      "text/markdown": [
       "\n",
       "| <!--/--> |  | value | \n",
       "|---|---|---|---|---|---|\n",
       "| result_default | 0.1082305    | 8.317169e-04 | \n",
       "| result_gretsky | 0.1082305    | 8.317169e-04 | \n",
       "| result_kane | 0.1159517    | 4.934439e-04 | \n",
       "| result_default0 | 0.8981861    | 6.490898e-51 | \n",
       "| result_gretsky0 | 0.9091456    | 2.298260e-53 | \n",
       "| result_kane0 | 0.5731817    | 3.394245e-20 | \n",
       "\n",
       "\n"
      ],
      "text/plain": [
       "                          value       \n",
       "result_default  0.1082305 8.317169e-04\n",
       "result_gretsky  0.1082305 8.317169e-04\n",
       "result_kane     0.1159517 4.934439e-04\n",
       "result_default0 0.8981861 6.490898e-51\n",
       "result_gretsky0 0.9091456 2.298260e-53\n",
       "result_kane0    0.5731817 3.394245e-20"
      ]
     },
     "metadata": {},
     "output_type": "display_data"
    }
   ],
   "source": [
    "result <- rbind(result_default, result_gretsky, result_kane, result_default0, result_gretsky0, result_kane0)\n",
    "result"
   ]
  },
  {
   "cell_type": "code",
   "execution_count": 109,
   "metadata": {
    "collapsed": false
   },
   "outputs": [],
   "source": [
    "colnames(result) <- c(\"R-squared\", \"p-values\")"
   ]
  },
  {
   "cell_type": "code",
   "execution_count": 113,
   "metadata": {
    "collapsed": false
   },
   "outputs": [],
   "source": [
    "rownames(result) <- c(\"Default\", \"Gretsky\", \"Kane\", \"Default through Origin\", \"Gretsky through Origin\", \"Kane through Origin\")"
   ]
  },
  {
   "cell_type": "code",
   "execution_count": 114,
   "metadata": {
    "collapsed": false,
    "scrolled": true
   },
   "outputs": [
    {
     "data": {
      "text/html": [
       "<table>\n",
       "<thead><tr><th></th><th scope=col>R-squared</th><th scope=col>p-values</th></tr></thead>\n",
       "<tbody>\n",
       "\t<tr><th scope=row>Default</th><td>0.10823050447434    </td><td>0.000831716923854345</td></tr>\n",
       "\t<tr><th scope=row>Gretsky</th><td>0.10823050447434    </td><td>0.000831716923854359</td></tr>\n",
       "\t<tr><th scope=row>Kane</th><td>0.115951676728681   </td><td>0.000493443901793566</td></tr>\n",
       "\t<tr><th scope=row>Default through Origin</th><td>0.89818610880756    </td><td>6.49089821934292e-51</td></tr>\n",
       "\t<tr><th scope=row>Gretsky through Origin</th><td>0.909145627591712   </td><td>2.298259679506e-53  </td></tr>\n",
       "\t<tr><th scope=row>Kane through Origin</th><td>0.573181712694336   </td><td>3.39424539724717e-20</td></tr>\n",
       "</tbody>\n",
       "</table>\n"
      ],
      "text/latex": [
       "\\begin{tabular}{r|ll}\n",
       "  & R-squared & p-values\\\\\n",
       "\\hline\n",
       "\tDefault & 0.10823050447434     & 0.000831716923854345\\\\\n",
       "\tGretsky & 0.10823050447434     & 0.000831716923854359\\\\\n",
       "\tKane & 0.115951676728681    & 0.000493443901793566\\\\\n",
       "\tDefault through Origin & 0.89818610880756     & 6.49089821934292e-51\\\\\n",
       "\tGretsky through Origin & 0.909145627591712    & 2.298259679506e-53  \\\\\n",
       "\tKane through Origin & 0.573181712694336    & 3.39424539724717e-20\\\\\n",
       "\\end{tabular}\n"
      ],
      "text/markdown": [
       "\n",
       "| <!--/--> | R-squared | p-values | \n",
       "|---|---|---|---|---|---|\n",
       "| Default | 0.10823050447434     | 0.000831716923854345 | \n",
       "| Gretsky | 0.10823050447434     | 0.000831716923854359 | \n",
       "| Kane | 0.115951676728681    | 0.000493443901793566 | \n",
       "| Default through Origin | 0.89818610880756     | 6.49089821934292e-51 | \n",
       "| Gretsky through Origin | 0.909145627591712    | 2.298259679506e-53   | \n",
       "| Kane through Origin | 0.573181712694336    | 3.39424539724717e-20 | \n",
       "\n",
       "\n"
      ],
      "text/plain": [
       "                       R-squared         p-values            \n",
       "Default                0.10823050447434  0.000831716923854345\n",
       "Gretsky                0.10823050447434  0.000831716923854359\n",
       "Kane                   0.115951676728681 0.000493443901793566\n",
       "Default through Origin 0.89818610880756  6.49089821934292e-51\n",
       "Gretsky through Origin 0.909145627591712 2.298259679506e-53  \n",
       "Kane through Origin    0.573181712694336 3.39424539724717e-20"
      ]
     },
     "metadata": {},
     "output_type": "display_data"
    }
   ],
   "source": [
    "result"
   ]
  },
  {
   "cell_type": "markdown",
   "metadata": {},
   "source": [
    "#### Observation :\n",
    "#### <li>The R<sup>2</sup> value as close to 1 is better. It means we are in a position to better explain the variation by our model.</li>\n",
    "#### <li>And p-values are better if they are lower, typically lesser than 0.05 (significance level). It describes how well fitting the intercept-only model and our model is</li>"
   ]
  },
  {
   "cell_type": "code",
   "execution_count": null,
   "metadata": {
    "collapsed": true
   },
   "outputs": [],
   "source": []
  }
 ],
 "metadata": {
  "kernelspec": {
   "display_name": "R",
   "language": "R",
   "name": "ir"
  },
  "language_info": {
   "codemirror_mode": "r",
   "file_extension": ".r",
   "mimetype": "text/x-r-source",
   "name": "R",
   "pygments_lexer": "r",
   "version": "3.3.2"
  }
 },
 "nbformat": 4,
 "nbformat_minor": 2
}
