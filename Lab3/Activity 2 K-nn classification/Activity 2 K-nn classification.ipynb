{
 "cells": [
  {
   "cell_type": "markdown",
   "metadata": {},
   "source": [
    "# JAY BAKSHI : UB ID - 50206954"
   ]
  },
  {
   "cell_type": "markdown",
   "metadata": {},
   "source": [
    "#### Read the data from CSV file"
   ]
  },
  {
   "cell_type": "code",
   "execution_count": 1,
   "metadata": {
    "collapsed": false
   },
   "outputs": [],
   "source": [
    "data <- read.csv(\"datasets/german_credit_data1.csv\")"
   ]
  },
  {
   "cell_type": "markdown",
   "metadata": {},
   "source": [
    "#### A quick view on the data and the column names especially."
   ]
  },
  {
   "cell_type": "code",
   "execution_count": 2,
   "metadata": {
    "collapsed": false,
    "scrolled": true
   },
   "outputs": [
    {
     "data": {
      "text/html": [
       "<table>\n",
       "<thead><tr><th scope=col>X.</th><th scope=col>Age</th><th scope=col>Sex</th><th scope=col>Job</th><th scope=col>Housing</th><th scope=col>Saving.accounts</th><th scope=col>Checking.account</th><th scope=col>Credit.amount</th><th scope=col>Duration</th><th scope=col>Purpose</th><th scope=col>Credit.Risks</th></tr></thead>\n",
       "<tbody>\n",
       "\t<tr><td>0                  </td><td>67                 </td><td>male               </td><td>2                  </td><td>own                </td><td>NA                 </td><td>little             </td><td>1169               </td><td> 6                 </td><td>radio/TV           </td><td>1                  </td></tr>\n",
       "\t<tr><td>1                  </td><td>22                 </td><td>female             </td><td>2                  </td><td>own                </td><td>little             </td><td>moderate           </td><td>5951               </td><td>48                 </td><td>radio/TV           </td><td>2                  </td></tr>\n",
       "\t<tr><td>2                  </td><td>49                 </td><td>male               </td><td>1                  </td><td>own                </td><td>little             </td><td>NA                 </td><td>2096               </td><td>12                 </td><td>education          </td><td>1                  </td></tr>\n",
       "\t<tr><td>3                  </td><td>45                 </td><td>male               </td><td>2                  </td><td>free               </td><td>little             </td><td>little             </td><td>7882               </td><td>42                 </td><td>furniture/equipment</td><td>1                  </td></tr>\n",
       "\t<tr><td>4                  </td><td>53                 </td><td>male               </td><td>2                  </td><td>free               </td><td>little             </td><td>little             </td><td>4870               </td><td>24                 </td><td>car                </td><td>2                  </td></tr>\n",
       "\t<tr><td>5                  </td><td>35                 </td><td>male               </td><td>1                  </td><td>free               </td><td>NA                 </td><td>NA                 </td><td>9055               </td><td>36                 </td><td>education          </td><td>1                  </td></tr>\n",
       "</tbody>\n",
       "</table>\n"
      ],
      "text/latex": [
       "\\begin{tabular}{r|lllllllllll}\n",
       " X. & Age & Sex & Job & Housing & Saving.accounts & Checking.account & Credit.amount & Duration & Purpose & Credit.Risks\\\\\n",
       "\\hline\n",
       "\t 0                   & 67                  & male                & 2                   & own                 & NA                  & little              & 1169                &  6                  & radio/TV            & 1                  \\\\\n",
       "\t 1                   & 22                  & female              & 2                   & own                 & little              & moderate            & 5951                & 48                  & radio/TV            & 2                  \\\\\n",
       "\t 2                   & 49                  & male                & 1                   & own                 & little              & NA                  & 2096                & 12                  & education           & 1                  \\\\\n",
       "\t 3                   & 45                  & male                & 2                   & free                & little              & little              & 7882                & 42                  & furniture/equipment & 1                  \\\\\n",
       "\t 4                   & 53                  & male                & 2                   & free                & little              & little              & 4870                & 24                  & car                 & 2                  \\\\\n",
       "\t 5                   & 35                  & male                & 1                   & free                & NA                  & NA                  & 9055                & 36                  & education           & 1                  \\\\\n",
       "\\end{tabular}\n"
      ],
      "text/markdown": [
       "\n",
       "X. | Age | Sex | Job | Housing | Saving.accounts | Checking.account | Credit.amount | Duration | Purpose | Credit.Risks | \n",
       "|---|---|---|---|---|---|\n",
       "| 0                   | 67                  | male                | 2                   | own                 | NA                  | little              | 1169                |  6                  | radio/TV            | 1                   | \n",
       "| 1                   | 22                  | female              | 2                   | own                 | little              | moderate            | 5951                | 48                  | radio/TV            | 2                   | \n",
       "| 2                   | 49                  | male                | 1                   | own                 | little              | NA                  | 2096                | 12                  | education           | 1                   | \n",
       "| 3                   | 45                  | male                | 2                   | free                | little              | little              | 7882                | 42                  | furniture/equipment | 1                   | \n",
       "| 4                   | 53                  | male                | 2                   | free                | little              | little              | 4870                | 24                  | car                 | 2                   | \n",
       "| 5                   | 35                  | male                | 1                   | free                | NA                  | NA                  | 9055                | 36                  | education           | 1                   | \n",
       "\n",
       "\n"
      ],
      "text/plain": [
       "  X. Age Sex    Job Housing Saving.accounts Checking.account Credit.amount\n",
       "1 0  67  male   2   own     NA              little           1169         \n",
       "2 1  22  female 2   own     little          moderate         5951         \n",
       "3 2  49  male   1   own     little          NA               2096         \n",
       "4 3  45  male   2   free    little          little           7882         \n",
       "5 4  53  male   2   free    little          little           4870         \n",
       "6 5  35  male   1   free    NA              NA               9055         \n",
       "  Duration Purpose             Credit.Risks\n",
       "1  6       radio/TV            1           \n",
       "2 48       radio/TV            2           \n",
       "3 12       education           1           \n",
       "4 42       furniture/equipment 1           \n",
       "5 24       car                 2           \n",
       "6 36       education           1           "
      ]
     },
     "metadata": {},
     "output_type": "display_data"
    }
   ],
   "source": [
    "head(data)"
   ]
  },
  {
   "cell_type": "markdown",
   "metadata": {},
   "source": [
    "#### K-nn algorithm needs all numeric data to work, so converting any and all of the columns with non-numeric data to numeric, one-by-one."
   ]
  },
  {
   "cell_type": "code",
   "execution_count": 3,
   "metadata": {
    "collapsed": false
   },
   "outputs": [],
   "source": [
    "data$Sex <- as.numeric(data$Sex)"
   ]
  },
  {
   "cell_type": "code",
   "execution_count": 4,
   "metadata": {
    "collapsed": true
   },
   "outputs": [],
   "source": [
    "data$Housing <- as.numeric(data$Housing)"
   ]
  },
  {
   "cell_type": "code",
   "execution_count": 5,
   "metadata": {
    "collapsed": true
   },
   "outputs": [],
   "source": [
    "data$Saving.accounts <- as.numeric(data$Saving.accounts)"
   ]
  },
  {
   "cell_type": "code",
   "execution_count": 6,
   "metadata": {
    "collapsed": false
   },
   "outputs": [],
   "source": [
    "data$Checking.account <- as.numeric(data$Checking.account)"
   ]
  },
  {
   "cell_type": "code",
   "execution_count": 7,
   "metadata": {
    "collapsed": true
   },
   "outputs": [],
   "source": [
    "data$Purpose <- as.numeric(data$Purpose)"
   ]
  },
  {
   "cell_type": "code",
   "execution_count": 8,
   "metadata": {
    "collapsed": false
   },
   "outputs": [
    {
     "data": {
      "text/html": [
       "<table>\n",
       "<thead><tr><th scope=col>X.</th><th scope=col>Age</th><th scope=col>Sex</th><th scope=col>Job</th><th scope=col>Housing</th><th scope=col>Saving.accounts</th><th scope=col>Checking.account</th><th scope=col>Credit.amount</th><th scope=col>Duration</th><th scope=col>Purpose</th><th scope=col>Credit.Risks</th></tr></thead>\n",
       "<tbody>\n",
       "\t<tr><td>0   </td><td>67  </td><td>2   </td><td>2   </td><td>2   </td><td>NA  </td><td> 1  </td><td>1169</td><td> 6  </td><td>6   </td><td>1   </td></tr>\n",
       "\t<tr><td>1   </td><td>22  </td><td>1   </td><td>2   </td><td>2   </td><td> 1  </td><td> 2  </td><td>5951</td><td>48  </td><td>6   </td><td>2   </td></tr>\n",
       "\t<tr><td>2   </td><td>49  </td><td>2   </td><td>1   </td><td>2   </td><td> 1  </td><td>NA  </td><td>2096</td><td>12  </td><td>4   </td><td>1   </td></tr>\n",
       "\t<tr><td>3   </td><td>45  </td><td>2   </td><td>2   </td><td>1   </td><td> 1  </td><td> 1  </td><td>7882</td><td>42  </td><td>5   </td><td>1   </td></tr>\n",
       "\t<tr><td>4   </td><td>53  </td><td>2   </td><td>2   </td><td>1   </td><td> 1  </td><td> 1  </td><td>4870</td><td>24  </td><td>2   </td><td>2   </td></tr>\n",
       "\t<tr><td>5   </td><td>35  </td><td>2   </td><td>1   </td><td>1   </td><td>NA  </td><td>NA  </td><td>9055</td><td>36  </td><td>4   </td><td>1   </td></tr>\n",
       "</tbody>\n",
       "</table>\n"
      ],
      "text/latex": [
       "\\begin{tabular}{r|lllllllllll}\n",
       " X. & Age & Sex & Job & Housing & Saving.accounts & Checking.account & Credit.amount & Duration & Purpose & Credit.Risks\\\\\n",
       "\\hline\n",
       "\t 0    & 67   & 2    & 2    & 2    & NA   &  1   & 1169 &  6   & 6    & 1   \\\\\n",
       "\t 1    & 22   & 1    & 2    & 2    &  1   &  2   & 5951 & 48   & 6    & 2   \\\\\n",
       "\t 2    & 49   & 2    & 1    & 2    &  1   & NA   & 2096 & 12   & 4    & 1   \\\\\n",
       "\t 3    & 45   & 2    & 2    & 1    &  1   &  1   & 7882 & 42   & 5    & 1   \\\\\n",
       "\t 4    & 53   & 2    & 2    & 1    &  1   &  1   & 4870 & 24   & 2    & 2   \\\\\n",
       "\t 5    & 35   & 2    & 1    & 1    & NA   & NA   & 9055 & 36   & 4    & 1   \\\\\n",
       "\\end{tabular}\n"
      ],
      "text/markdown": [
       "\n",
       "X. | Age | Sex | Job | Housing | Saving.accounts | Checking.account | Credit.amount | Duration | Purpose | Credit.Risks | \n",
       "|---|---|---|---|---|---|\n",
       "| 0    | 67   | 2    | 2    | 2    | NA   |  1   | 1169 |  6   | 6    | 1    | \n",
       "| 1    | 22   | 1    | 2    | 2    |  1   |  2   | 5951 | 48   | 6    | 2    | \n",
       "| 2    | 49   | 2    | 1    | 2    |  1   | NA   | 2096 | 12   | 4    | 1    | \n",
       "| 3    | 45   | 2    | 2    | 1    |  1   |  1   | 7882 | 42   | 5    | 1    | \n",
       "| 4    | 53   | 2    | 2    | 1    |  1   |  1   | 4870 | 24   | 2    | 2    | \n",
       "| 5    | 35   | 2    | 1    | 1    | NA   | NA   | 9055 | 36   | 4    | 1    | \n",
       "\n",
       "\n"
      ],
      "text/plain": [
       "  X. Age Sex Job Housing Saving.accounts Checking.account Credit.amount\n",
       "1 0  67  2   2   2       NA               1               1169         \n",
       "2 1  22  1   2   2        1               2               5951         \n",
       "3 2  49  2   1   2        1              NA               2096         \n",
       "4 3  45  2   2   1        1               1               7882         \n",
       "5 4  53  2   2   1        1               1               4870         \n",
       "6 5  35  2   1   1       NA              NA               9055         \n",
       "  Duration Purpose Credit.Risks\n",
       "1  6       6       1           \n",
       "2 48       6       2           \n",
       "3 12       4       1           \n",
       "4 42       5       1           \n",
       "5 24       2       2           \n",
       "6 36       4       1           "
      ]
     },
     "metadata": {},
     "output_type": "display_data"
    }
   ],
   "source": [
    "head(data)"
   ]
  },
  {
   "cell_type": "markdown",
   "metadata": {},
   "source": [
    "#### Converting all NA data points across data set to 0. This will ensure no error related \"values allowed\" in K-nn and at the same time leave the data pattens unchanged as such."
   ]
  },
  {
   "cell_type": "code",
   "execution_count": 9,
   "metadata": {
    "collapsed": false
   },
   "outputs": [],
   "source": [
    "data[is.na(data)] <- 0"
   ]
  },
  {
   "cell_type": "code",
   "execution_count": 10,
   "metadata": {
    "collapsed": false
   },
   "outputs": [
    {
     "data": {
      "text/html": [
       "<table>\n",
       "<thead><tr><th scope=col>X.</th><th scope=col>Age</th><th scope=col>Sex</th><th scope=col>Job</th><th scope=col>Housing</th><th scope=col>Saving.accounts</th><th scope=col>Checking.account</th><th scope=col>Credit.amount</th><th scope=col>Duration</th><th scope=col>Purpose</th><th scope=col>Credit.Risks</th></tr></thead>\n",
       "<tbody>\n",
       "\t<tr><td>0   </td><td>67  </td><td>2   </td><td>2   </td><td>2   </td><td>0   </td><td>1   </td><td>1169</td><td> 6  </td><td>6   </td><td>1   </td></tr>\n",
       "\t<tr><td>1   </td><td>22  </td><td>1   </td><td>2   </td><td>2   </td><td>1   </td><td>2   </td><td>5951</td><td>48  </td><td>6   </td><td>2   </td></tr>\n",
       "\t<tr><td>2   </td><td>49  </td><td>2   </td><td>1   </td><td>2   </td><td>1   </td><td>0   </td><td>2096</td><td>12  </td><td>4   </td><td>1   </td></tr>\n",
       "\t<tr><td>3   </td><td>45  </td><td>2   </td><td>2   </td><td>1   </td><td>1   </td><td>1   </td><td>7882</td><td>42  </td><td>5   </td><td>1   </td></tr>\n",
       "\t<tr><td>4   </td><td>53  </td><td>2   </td><td>2   </td><td>1   </td><td>1   </td><td>1   </td><td>4870</td><td>24  </td><td>2   </td><td>2   </td></tr>\n",
       "\t<tr><td>5   </td><td>35  </td><td>2   </td><td>1   </td><td>1   </td><td>0   </td><td>0   </td><td>9055</td><td>36  </td><td>4   </td><td>1   </td></tr>\n",
       "</tbody>\n",
       "</table>\n"
      ],
      "text/latex": [
       "\\begin{tabular}{r|lllllllllll}\n",
       " X. & Age & Sex & Job & Housing & Saving.accounts & Checking.account & Credit.amount & Duration & Purpose & Credit.Risks\\\\\n",
       "\\hline\n",
       "\t 0    & 67   & 2    & 2    & 2    & 0    & 1    & 1169 &  6   & 6    & 1   \\\\\n",
       "\t 1    & 22   & 1    & 2    & 2    & 1    & 2    & 5951 & 48   & 6    & 2   \\\\\n",
       "\t 2    & 49   & 2    & 1    & 2    & 1    & 0    & 2096 & 12   & 4    & 1   \\\\\n",
       "\t 3    & 45   & 2    & 2    & 1    & 1    & 1    & 7882 & 42   & 5    & 1   \\\\\n",
       "\t 4    & 53   & 2    & 2    & 1    & 1    & 1    & 4870 & 24   & 2    & 2   \\\\\n",
       "\t 5    & 35   & 2    & 1    & 1    & 0    & 0    & 9055 & 36   & 4    & 1   \\\\\n",
       "\\end{tabular}\n"
      ],
      "text/markdown": [
       "\n",
       "X. | Age | Sex | Job | Housing | Saving.accounts | Checking.account | Credit.amount | Duration | Purpose | Credit.Risks | \n",
       "|---|---|---|---|---|---|\n",
       "| 0    | 67   | 2    | 2    | 2    | 0    | 1    | 1169 |  6   | 6    | 1    | \n",
       "| 1    | 22   | 1    | 2    | 2    | 1    | 2    | 5951 | 48   | 6    | 2    | \n",
       "| 2    | 49   | 2    | 1    | 2    | 1    | 0    | 2096 | 12   | 4    | 1    | \n",
       "| 3    | 45   | 2    | 2    | 1    | 1    | 1    | 7882 | 42   | 5    | 1    | \n",
       "| 4    | 53   | 2    | 2    | 1    | 1    | 1    | 4870 | 24   | 2    | 2    | \n",
       "| 5    | 35   | 2    | 1    | 1    | 0    | 0    | 9055 | 36   | 4    | 1    | \n",
       "\n",
       "\n"
      ],
      "text/plain": [
       "  X. Age Sex Job Housing Saving.accounts Checking.account Credit.amount\n",
       "1 0  67  2   2   2       0               1                1169         \n",
       "2 1  22  1   2   2       1               2                5951         \n",
       "3 2  49  2   1   2       1               0                2096         \n",
       "4 3  45  2   2   1       1               1                7882         \n",
       "5 4  53  2   2   1       1               1                4870         \n",
       "6 5  35  2   1   1       0               0                9055         \n",
       "  Duration Purpose Credit.Risks\n",
       "1  6       6       1           \n",
       "2 48       6       2           \n",
       "3 12       4       1           \n",
       "4 42       5       1           \n",
       "5 24       2       2           \n",
       "6 36       4       1           "
      ]
     },
     "metadata": {},
     "output_type": "display_data"
    }
   ],
   "source": [
    "head(data)"
   ]
  },
  {
   "cell_type": "markdown",
   "metadata": {},
   "source": [
    "#### number of rows in the dataset"
   ]
  },
  {
   "cell_type": "code",
   "execution_count": 11,
   "metadata": {
    "collapsed": false
   },
   "outputs": [],
   "source": [
    "n.points <- 1000\n",
    "sampling.rate <- 0.8"
   ]
  },
  {
   "cell_type": "markdown",
   "metadata": {},
   "source": [
    "#### calculating the number of points in the test set to calculate the miscalculation rate"
   ]
  },
  {
   "cell_type": "code",
   "execution_count": 12,
   "metadata": {
    "collapsed": false
   },
   "outputs": [],
   "source": [
    "num.test.set.labels <- n.points * (1 - sampling.rate)"
   ]
  },
  {
   "cell_type": "code",
   "execution_count": 13,
   "metadata": {
    "collapsed": false
   },
   "outputs": [
    {
     "data": {
      "text/html": [
       "200"
      ],
      "text/latex": [
       "200"
      ],
      "text/markdown": [
       "200"
      ],
      "text/plain": [
       "[1] 200"
      ]
     },
     "metadata": {},
     "output_type": "display_data"
    }
   ],
   "source": [
    "num.test.set.labels"
   ]
  },
  {
   "cell_type": "markdown",
   "metadata": {},
   "source": [
    "#### randomly sample which rows will go in the training set"
   ]
  },
  {
   "cell_type": "code",
   "execution_count": 14,
   "metadata": {
    "collapsed": true
   },
   "outputs": [],
   "source": [
    "training <- sample(1:n.points, sampling.rate * n.points, replace = FALSE)"
   ]
  },
  {
   "cell_type": "code",
   "execution_count": 15,
   "metadata": {
    "collapsed": false
   },
   "outputs": [],
   "source": [
    "train <- subset(data[training, ], select = c(Age,Sex,Job,Housing,Saving.accounts,Checking.account,Credit.amount,Duration,Purpose,Credit.Risks))"
   ]
  },
  {
   "cell_type": "code",
   "execution_count": 16,
   "metadata": {
    "collapsed": false
   },
   "outputs": [
    {
     "data": {
      "text/html": [
       "<table>\n",
       "<thead><tr><th></th><th scope=col>Age</th><th scope=col>Sex</th><th scope=col>Job</th><th scope=col>Housing</th><th scope=col>Saving.accounts</th><th scope=col>Checking.account</th><th scope=col>Credit.amount</th><th scope=col>Duration</th><th scope=col>Purpose</th><th scope=col>Credit.Risks</th></tr></thead>\n",
       "<tbody>\n",
       "\t<tr><th scope=row>467</th><td>29  </td><td>1   </td><td>1   </td><td>3   </td><td>1   </td><td>1   </td><td>1659</td><td>24  </td><td>6   </td><td>2   </td></tr>\n",
       "\t<tr><th scope=row>195</th><td>21  </td><td>2   </td><td>2   </td><td>3   </td><td>2   </td><td>2   </td><td>3031</td><td>45  </td><td>6   </td><td>2   </td></tr>\n",
       "\t<tr><th scope=row>358</th><td>26  </td><td>2   </td><td>3   </td><td>2   </td><td>1   </td><td>0   </td><td>4463</td><td>36  </td><td>6   </td><td>2   </td></tr>\n",
       "\t<tr><th scope=row>304</th><td>49  </td><td>2   </td><td>2   </td><td>2   </td><td>1   </td><td>1   </td><td>1038</td><td>10  </td><td>2   </td><td>1   </td></tr>\n",
       "\t<tr><th scope=row>439</th><td>65  </td><td>2   </td><td>0   </td><td>2   </td><td>1   </td><td>1   </td><td>3394</td><td>42  </td><td>7   </td><td>1   </td></tr>\n",
       "\t<tr><th scope=row>759</th><td>31  </td><td>2   </td><td>2   </td><td>2   </td><td>1   </td><td>0   </td><td>1393</td><td>24  </td><td>2   </td><td>1   </td></tr>\n",
       "</tbody>\n",
       "</table>\n"
      ],
      "text/latex": [
       "\\begin{tabular}{r|llllllllll}\n",
       "  & Age & Sex & Job & Housing & Saving.accounts & Checking.account & Credit.amount & Duration & Purpose & Credit.Risks\\\\\n",
       "\\hline\n",
       "\t467 & 29   & 1    & 1    & 3    & 1    & 1    & 1659 & 24   & 6    & 2   \\\\\n",
       "\t195 & 21   & 2    & 2    & 3    & 2    & 2    & 3031 & 45   & 6    & 2   \\\\\n",
       "\t358 & 26   & 2    & 3    & 2    & 1    & 0    & 4463 & 36   & 6    & 2   \\\\\n",
       "\t304 & 49   & 2    & 2    & 2    & 1    & 1    & 1038 & 10   & 2    & 1   \\\\\n",
       "\t439 & 65   & 2    & 0    & 2    & 1    & 1    & 3394 & 42   & 7    & 1   \\\\\n",
       "\t759 & 31   & 2    & 2    & 2    & 1    & 0    & 1393 & 24   & 2    & 1   \\\\\n",
       "\\end{tabular}\n"
      ],
      "text/markdown": [
       "\n",
       "| <!--/--> | Age | Sex | Job | Housing | Saving.accounts | Checking.account | Credit.amount | Duration | Purpose | Credit.Risks | \n",
       "|---|---|---|---|---|---|\n",
       "| 467 | 29   | 1    | 1    | 3    | 1    | 1    | 1659 | 24   | 6    | 2    | \n",
       "| 195 | 21   | 2    | 2    | 3    | 2    | 2    | 3031 | 45   | 6    | 2    | \n",
       "| 358 | 26   | 2    | 3    | 2    | 1    | 0    | 4463 | 36   | 6    | 2    | \n",
       "| 304 | 49   | 2    | 2    | 2    | 1    | 1    | 1038 | 10   | 2    | 1    | \n",
       "| 439 | 65   | 2    | 0    | 2    | 1    | 1    | 3394 | 42   | 7    | 1    | \n",
       "| 759 | 31   | 2    | 2    | 2    | 1    | 0    | 1393 | 24   | 2    | 1    | \n",
       "\n",
       "\n"
      ],
      "text/plain": [
       "    Age Sex Job Housing Saving.accounts Checking.account Credit.amount Duration\n",
       "467 29  1   1   3       1               1                1659          24      \n",
       "195 21  2   2   3       2               2                3031          45      \n",
       "358 26  2   3   2       1               0                4463          36      \n",
       "304 49  2   2   2       1               1                1038          10      \n",
       "439 65  2   0   2       1               1                3394          42      \n",
       "759 31  2   2   2       1               0                1393          24      \n",
       "    Purpose Credit.Risks\n",
       "467 6       2           \n",
       "195 6       2           \n",
       "358 6       2           \n",
       "304 2       1           \n",
       "439 7       1           \n",
       "759 2       1           "
      ]
     },
     "metadata": {},
     "output_type": "display_data"
    }
   ],
   "source": [
    "head(train)"
   ]
  },
  {
   "cell_type": "markdown",
   "metadata": {},
   "source": [
    "#### Define the training set to be those rows\n",
    "\n",
    "#### The other rows are going into the test set"
   ]
  },
  {
   "cell_type": "code",
   "execution_count": 17,
   "metadata": {
    "collapsed": true
   },
   "outputs": [],
   "source": [
    "testing <- setdiff(1:n.points, training)"
   ]
  },
  {
   "cell_type": "markdown",
   "metadata": {},
   "source": [
    "#### Define the test set to be the other rows"
   ]
  },
  {
   "cell_type": "code",
   "execution_count": 18,
   "metadata": {
    "collapsed": true
   },
   "outputs": [],
   "source": [
    "test <- subset(data[testing, ], select = c(Age,Sex,Job,Housing,Saving.accounts,Checking.account,Credit.amount,Duration,Purpose,Credit.Risks))"
   ]
  },
  {
   "cell_type": "code",
   "execution_count": 19,
   "metadata": {
    "collapsed": false
   },
   "outputs": [],
   "source": [
    "cl <- data$Credit.Risks[training]"
   ]
  },
  {
   "cell_type": "markdown",
   "metadata": {},
   "source": [
    "#### This is the subset of labels for the training set"
   ]
  },
  {
   "cell_type": "code",
   "execution_count": 20,
   "metadata": {
    "collapsed": true
   },
   "outputs": [],
   "source": [
    "true.labels <- data$Credit.Risks[testing]"
   ]
  },
  {
   "cell_type": "markdown",
   "metadata": {},
   "source": [
    "#### subset of labels for the test set, we're withholding these"
   ]
  },
  {
   "cell_type": "code",
   "execution_count": 21,
   "metadata": {
    "collapsed": false,
    "scrolled": true
   },
   "outputs": [
    {
     "name": "stderr",
     "output_type": "stream",
     "text": [
      "Installing package into 'C:/Users/Jay/Documents/R/win-library/3.3'\n",
      "(as 'lib' is unspecified)\n"
     ]
    },
    {
     "name": "stdout",
     "output_type": "stream",
     "text": [
      "package 'FNN' successfully unpacked and MD5 sums checked\n",
      "\n",
      "The downloaded binary packages are in\n",
      "\tC:\\Users\\Jay\\AppData\\Local\\Temp\\RtmpQTsE48\\downloaded_packages\n"
     ]
    }
   ],
   "source": [
    "install.packages(\"FNN\", repos = \"https://cran.r-project.org/\")"
   ]
  },
  {
   "cell_type": "code",
   "execution_count": 22,
   "metadata": {
    "collapsed": false
   },
   "outputs": [
    {
     "name": "stderr",
     "output_type": "stream",
     "text": [
      "Warning message:\n",
      "\"package 'FNN' was built under R version 3.3.3\""
     ]
    }
   ],
   "source": [
    "library(FNN)"
   ]
  },
  {
   "cell_type": "markdown",
   "metadata": {},
   "source": [
    "#### Compute and print the misclassification rate with our sampling rate being 0.8 <br\\> i.e. Training Data to Test Data split is 80-20"
   ]
  },
  {
   "cell_type": "code",
   "execution_count": 23,
   "metadata": {
    "collapsed": false
   },
   "outputs": [
    {
     "data": {
      "text/html": [
       "<table>\n",
       "<thead><tr><th scope=col>k</th><th scope=col>Misclassification.Rate-80</th></tr></thead>\n",
       "<tbody>\n",
       "\t<tr><td> 1   </td><td>0.400</td></tr>\n",
       "\t<tr><td> 2   </td><td>0.360</td></tr>\n",
       "\t<tr><td> 3   </td><td>0.435</td></tr>\n",
       "\t<tr><td> 4   </td><td>0.380</td></tr>\n",
       "\t<tr><td> 5   </td><td>0.415</td></tr>\n",
       "\t<tr><td> 6   </td><td>0.375</td></tr>\n",
       "\t<tr><td> 7   </td><td>0.380</td></tr>\n",
       "\t<tr><td> 8   </td><td>0.380</td></tr>\n",
       "\t<tr><td> 9   </td><td>0.385</td></tr>\n",
       "\t<tr><td>10   </td><td>0.375</td></tr>\n",
       "\t<tr><td>11   </td><td>0.390</td></tr>\n",
       "\t<tr><td>12   </td><td>0.365</td></tr>\n",
       "\t<tr><td>13   </td><td>0.380</td></tr>\n",
       "\t<tr><td>14   </td><td>0.355</td></tr>\n",
       "\t<tr><td>15   </td><td>0.350</td></tr>\n",
       "\t<tr><td>16   </td><td>0.360</td></tr>\n",
       "\t<tr><td>17   </td><td>0.355</td></tr>\n",
       "\t<tr><td>18   </td><td>0.350</td></tr>\n",
       "\t<tr><td>19   </td><td>0.355</td></tr>\n",
       "\t<tr><td>20   </td><td>0.355</td></tr>\n",
       "</tbody>\n",
       "</table>\n"
      ],
      "text/latex": [
       "\\begin{tabular}{r|ll}\n",
       " k & Misclassification.Rate-80\\\\\n",
       "\\hline\n",
       "\t  1    & 0.400\\\\\n",
       "\t  2    & 0.360\\\\\n",
       "\t  3    & 0.435\\\\\n",
       "\t  4    & 0.380\\\\\n",
       "\t  5    & 0.415\\\\\n",
       "\t  6    & 0.375\\\\\n",
       "\t  7    & 0.380\\\\\n",
       "\t  8    & 0.380\\\\\n",
       "\t  9    & 0.385\\\\\n",
       "\t 10    & 0.375\\\\\n",
       "\t 11    & 0.390\\\\\n",
       "\t 12    & 0.365\\\\\n",
       "\t 13    & 0.380\\\\\n",
       "\t 14    & 0.355\\\\\n",
       "\t 15    & 0.350\\\\\n",
       "\t 16    & 0.360\\\\\n",
       "\t 17    & 0.355\\\\\n",
       "\t 18    & 0.350\\\\\n",
       "\t 19    & 0.355\\\\\n",
       "\t 20    & 0.355\\\\\n",
       "\\end{tabular}\n"
      ],
      "text/markdown": [
       "\n",
       "k | Misclassification.Rate-80 | \n",
       "|---|---|---|---|---|---|---|---|---|---|---|---|---|---|---|---|---|---|---|---|\n",
       "|  1    | 0.400 | \n",
       "|  2    | 0.360 | \n",
       "|  3    | 0.435 | \n",
       "|  4    | 0.380 | \n",
       "|  5    | 0.415 | \n",
       "|  6    | 0.375 | \n",
       "|  7    | 0.380 | \n",
       "|  8    | 0.380 | \n",
       "|  9    | 0.385 | \n",
       "| 10    | 0.375 | \n",
       "| 11    | 0.390 | \n",
       "| 12    | 0.365 | \n",
       "| 13    | 0.380 | \n",
       "| 14    | 0.355 | \n",
       "| 15    | 0.350 | \n",
       "| 16    | 0.360 | \n",
       "| 17    | 0.355 | \n",
       "| 18    | 0.350 | \n",
       "| 19    | 0.355 | \n",
       "| 20    | 0.355 | \n",
       "\n",
       "\n"
      ],
      "text/plain": [
       "   k  Misclassification.Rate-80\n",
       "1   1 0.400                    \n",
       "2   2 0.360                    \n",
       "3   3 0.435                    \n",
       "4   4 0.380                    \n",
       "5   5 0.415                    \n",
       "6   6 0.375                    \n",
       "7   7 0.380                    \n",
       "8   8 0.380                    \n",
       "9   9 0.385                    \n",
       "10 10 0.375                    \n",
       "11 11 0.390                    \n",
       "12 12 0.365                    \n",
       "13 13 0.380                    \n",
       "14 14 0.355                    \n",
       "15 15 0.350                    \n",
       "16 16 0.360                    \n",
       "17 17 0.355                    \n",
       "18 18 0.350                    \n",
       "19 19 0.355                    \n",
       "20 20 0.355                    "
      ]
     },
     "metadata": {},
     "output_type": "display_data"
    }
   ],
   "source": [
    "datalist8 = list()\n",
    "for(k in 1:20){\n",
    "    predicted.labels <- knn(train, test, cl, k)\n",
    "    num.incorrect.labels <- sum(predicted.labels != true.labels)\n",
    "    misclassification.rate <- num.incorrect.labels / num.test.set.labels\n",
    "    datalist8[[k]] <- c(k, misclassification.rate)\n",
    "}\n",
    "result8 <- data.frame(do.call(rbind, datalist8))\n",
    "colnames(result8) <- c(\"k\", \"Misclassification.Rate-80\")\n",
    "result8"
   ]
  },
  {
   "cell_type": "code",
   "execution_count": null,
   "metadata": {
    "collapsed": false,
    "scrolled": true
   },
   "outputs": [],
   "source": []
  },
  {
   "cell_type": "markdown",
   "metadata": {},
   "source": [
    "Repeating everything for Sampling Rate 0.9"
   ]
  },
  {
   "cell_type": "code",
   "execution_count": 24,
   "metadata": {
    "collapsed": false
   },
   "outputs": [
    {
     "data": {
      "text/html": [
       "<table>\n",
       "<thead><tr><th scope=col>k</th><th scope=col>Misclassification.Rate-90</th></tr></thead>\n",
       "<tbody>\n",
       "\t<tr><td> 1  </td><td>0.38</td></tr>\n",
       "\t<tr><td> 2  </td><td>0.30</td></tr>\n",
       "\t<tr><td> 3  </td><td>0.39</td></tr>\n",
       "\t<tr><td> 4  </td><td>0.32</td></tr>\n",
       "\t<tr><td> 5  </td><td>0.33</td></tr>\n",
       "\t<tr><td> 6  </td><td>0.25</td></tr>\n",
       "\t<tr><td> 7  </td><td>0.26</td></tr>\n",
       "\t<tr><td> 8  </td><td>0.26</td></tr>\n",
       "\t<tr><td> 9  </td><td>0.27</td></tr>\n",
       "\t<tr><td>10  </td><td>0.30</td></tr>\n",
       "\t<tr><td>11  </td><td>0.27</td></tr>\n",
       "\t<tr><td>12  </td><td>0.28</td></tr>\n",
       "\t<tr><td>13  </td><td>0.28</td></tr>\n",
       "\t<tr><td>14  </td><td>0.28</td></tr>\n",
       "\t<tr><td>15  </td><td>0.29</td></tr>\n",
       "\t<tr><td>16  </td><td>0.29</td></tr>\n",
       "\t<tr><td>17  </td><td>0.28</td></tr>\n",
       "\t<tr><td>18  </td><td>0.29</td></tr>\n",
       "\t<tr><td>19  </td><td>0.29</td></tr>\n",
       "\t<tr><td>20  </td><td>0.29</td></tr>\n",
       "</tbody>\n",
       "</table>\n"
      ],
      "text/latex": [
       "\\begin{tabular}{r|ll}\n",
       " k & Misclassification.Rate-90\\\\\n",
       "\\hline\n",
       "\t  1   & 0.38\\\\\n",
       "\t  2   & 0.30\\\\\n",
       "\t  3   & 0.39\\\\\n",
       "\t  4   & 0.32\\\\\n",
       "\t  5   & 0.33\\\\\n",
       "\t  6   & 0.25\\\\\n",
       "\t  7   & 0.26\\\\\n",
       "\t  8   & 0.26\\\\\n",
       "\t  9   & 0.27\\\\\n",
       "\t 10   & 0.30\\\\\n",
       "\t 11   & 0.27\\\\\n",
       "\t 12   & 0.28\\\\\n",
       "\t 13   & 0.28\\\\\n",
       "\t 14   & 0.28\\\\\n",
       "\t 15   & 0.29\\\\\n",
       "\t 16   & 0.29\\\\\n",
       "\t 17   & 0.28\\\\\n",
       "\t 18   & 0.29\\\\\n",
       "\t 19   & 0.29\\\\\n",
       "\t 20   & 0.29\\\\\n",
       "\\end{tabular}\n"
      ],
      "text/markdown": [
       "\n",
       "k | Misclassification.Rate-90 | \n",
       "|---|---|---|---|---|---|---|---|---|---|---|---|---|---|---|---|---|---|---|---|\n",
       "|  1   | 0.38 | \n",
       "|  2   | 0.30 | \n",
       "|  3   | 0.39 | \n",
       "|  4   | 0.32 | \n",
       "|  5   | 0.33 | \n",
       "|  6   | 0.25 | \n",
       "|  7   | 0.26 | \n",
       "|  8   | 0.26 | \n",
       "|  9   | 0.27 | \n",
       "| 10   | 0.30 | \n",
       "| 11   | 0.27 | \n",
       "| 12   | 0.28 | \n",
       "| 13   | 0.28 | \n",
       "| 14   | 0.28 | \n",
       "| 15   | 0.29 | \n",
       "| 16   | 0.29 | \n",
       "| 17   | 0.28 | \n",
       "| 18   | 0.29 | \n",
       "| 19   | 0.29 | \n",
       "| 20   | 0.29 | \n",
       "\n",
       "\n"
      ],
      "text/plain": [
       "   k  Misclassification.Rate-90\n",
       "1   1 0.38                     \n",
       "2   2 0.30                     \n",
       "3   3 0.39                     \n",
       "4   4 0.32                     \n",
       "5   5 0.33                     \n",
       "6   6 0.25                     \n",
       "7   7 0.26                     \n",
       "8   8 0.26                     \n",
       "9   9 0.27                     \n",
       "10 10 0.30                     \n",
       "11 11 0.27                     \n",
       "12 12 0.28                     \n",
       "13 13 0.28                     \n",
       "14 14 0.28                     \n",
       "15 15 0.29                     \n",
       "16 16 0.29                     \n",
       "17 17 0.28                     \n",
       "18 18 0.29                     \n",
       "19 19 0.29                     \n",
       "20 20 0.29                     "
      ]
     },
     "metadata": {},
     "output_type": "display_data"
    }
   ],
   "source": [
    "sampling.rate <- 0.9\n",
    "num.test.set.labels <- n.points * (1 - sampling.rate)\n",
    "\n",
    "training <- sample(1:n.points, sampling.rate * n.points, replace = FALSE)\n",
    "train <- subset(data[training, ], select = c(Age,Sex,Job,Housing,Saving.accounts,Checking.account,Credit.amount,Duration,Purpose,Credit.Risks))\n",
    "\n",
    "testing <- setdiff(1:n.points, training)\n",
    "test <- subset(data[testing, ], select = c(Age,Sex,Job,Housing,Saving.accounts,Checking.account,Credit.amount,Duration,Purpose,Credit.Risks))\n",
    "\n",
    "cl <- data$Credit.Risks[training]\n",
    "true.labels <- data$Credit.Risks[testing]\n",
    "\n",
    "datalist9 = list()\n",
    "for(k in 1:20){\n",
    "    predicted.labels <- knn(train, test, cl, k)\n",
    "    num.incorrect.labels <- sum(predicted.labels != true.labels)\n",
    "    misclassification.rate <- num.incorrect.labels / num.test.set.labels\n",
    "    datalist9[[k]] <- c(k, misclassification.rate)\n",
    "}\n",
    "result9 <- data.frame(do.call(rbind, datalist9))\n",
    "colnames(result9) <- c(\"k\", \"Misclassification.Rate-90\")\n",
    "result9"
   ]
  },
  {
   "cell_type": "markdown",
   "metadata": {},
   "source": []
  },
  {
   "cell_type": "markdown",
   "metadata": {},
   "source": [
    "Repeating everything for Sampling Rate 0.7"
   ]
  },
  {
   "cell_type": "code",
   "execution_count": 25,
   "metadata": {
    "collapsed": false
   },
   "outputs": [
    {
     "data": {
      "text/html": [
       "<table>\n",
       "<thead><tr><th scope=col>k</th><th scope=col>Misclassification.Rate-70</th></tr></thead>\n",
       "<tbody>\n",
       "\t<tr><td> 1       </td><td>0.4466667</td></tr>\n",
       "\t<tr><td> 2       </td><td>0.3433333</td></tr>\n",
       "\t<tr><td> 3       </td><td>0.3966667</td></tr>\n",
       "\t<tr><td> 4       </td><td>0.3533333</td></tr>\n",
       "\t<tr><td> 5       </td><td>0.3866667</td></tr>\n",
       "\t<tr><td> 6       </td><td>0.3366667</td></tr>\n",
       "\t<tr><td> 7       </td><td>0.3566667</td></tr>\n",
       "\t<tr><td> 8       </td><td>0.3466667</td></tr>\n",
       "\t<tr><td> 9       </td><td>0.3566667</td></tr>\n",
       "\t<tr><td>10       </td><td>0.3400000</td></tr>\n",
       "\t<tr><td>11       </td><td>0.3466667</td></tr>\n",
       "\t<tr><td>12       </td><td>0.3366667</td></tr>\n",
       "\t<tr><td>13       </td><td>0.3366667</td></tr>\n",
       "\t<tr><td>14       </td><td>0.3266667</td></tr>\n",
       "\t<tr><td>15       </td><td>0.3333333</td></tr>\n",
       "\t<tr><td>16       </td><td>0.3366667</td></tr>\n",
       "\t<tr><td>17       </td><td>0.3366667</td></tr>\n",
       "\t<tr><td>18       </td><td>0.3300000</td></tr>\n",
       "\t<tr><td>19       </td><td>0.3366667</td></tr>\n",
       "\t<tr><td>20       </td><td>0.3400000</td></tr>\n",
       "</tbody>\n",
       "</table>\n"
      ],
      "text/latex": [
       "\\begin{tabular}{r|ll}\n",
       " k & Misclassification.Rate-70\\\\\n",
       "\\hline\n",
       "\t  1        & 0.4466667\\\\\n",
       "\t  2        & 0.3433333\\\\\n",
       "\t  3        & 0.3966667\\\\\n",
       "\t  4        & 0.3533333\\\\\n",
       "\t  5        & 0.3866667\\\\\n",
       "\t  6        & 0.3366667\\\\\n",
       "\t  7        & 0.3566667\\\\\n",
       "\t  8        & 0.3466667\\\\\n",
       "\t  9        & 0.3566667\\\\\n",
       "\t 10        & 0.3400000\\\\\n",
       "\t 11        & 0.3466667\\\\\n",
       "\t 12        & 0.3366667\\\\\n",
       "\t 13        & 0.3366667\\\\\n",
       "\t 14        & 0.3266667\\\\\n",
       "\t 15        & 0.3333333\\\\\n",
       "\t 16        & 0.3366667\\\\\n",
       "\t 17        & 0.3366667\\\\\n",
       "\t 18        & 0.3300000\\\\\n",
       "\t 19        & 0.3366667\\\\\n",
       "\t 20        & 0.3400000\\\\\n",
       "\\end{tabular}\n"
      ],
      "text/markdown": [
       "\n",
       "k | Misclassification.Rate-70 | \n",
       "|---|---|---|---|---|---|---|---|---|---|---|---|---|---|---|---|---|---|---|---|\n",
       "|  1        | 0.4466667 | \n",
       "|  2        | 0.3433333 | \n",
       "|  3        | 0.3966667 | \n",
       "|  4        | 0.3533333 | \n",
       "|  5        | 0.3866667 | \n",
       "|  6        | 0.3366667 | \n",
       "|  7        | 0.3566667 | \n",
       "|  8        | 0.3466667 | \n",
       "|  9        | 0.3566667 | \n",
       "| 10        | 0.3400000 | \n",
       "| 11        | 0.3466667 | \n",
       "| 12        | 0.3366667 | \n",
       "| 13        | 0.3366667 | \n",
       "| 14        | 0.3266667 | \n",
       "| 15        | 0.3333333 | \n",
       "| 16        | 0.3366667 | \n",
       "| 17        | 0.3366667 | \n",
       "| 18        | 0.3300000 | \n",
       "| 19        | 0.3366667 | \n",
       "| 20        | 0.3400000 | \n",
       "\n",
       "\n"
      ],
      "text/plain": [
       "   k  Misclassification.Rate-70\n",
       "1   1 0.4466667                \n",
       "2   2 0.3433333                \n",
       "3   3 0.3966667                \n",
       "4   4 0.3533333                \n",
       "5   5 0.3866667                \n",
       "6   6 0.3366667                \n",
       "7   7 0.3566667                \n",
       "8   8 0.3466667                \n",
       "9   9 0.3566667                \n",
       "10 10 0.3400000                \n",
       "11 11 0.3466667                \n",
       "12 12 0.3366667                \n",
       "13 13 0.3366667                \n",
       "14 14 0.3266667                \n",
       "15 15 0.3333333                \n",
       "16 16 0.3366667                \n",
       "17 17 0.3366667                \n",
       "18 18 0.3300000                \n",
       "19 19 0.3366667                \n",
       "20 20 0.3400000                "
      ]
     },
     "metadata": {},
     "output_type": "display_data"
    }
   ],
   "source": [
    "sampling.rate <- 0.7\n",
    "num.test.set.labels <- n.points * (1 - sampling.rate)\n",
    "\n",
    "training <- sample(1:n.points, sampling.rate * n.points, replace = FALSE)\n",
    "train <- subset(data[training, ], select = c(Age,Sex,Job,Housing,Saving.accounts,Checking.account,Credit.amount,Duration,Purpose,Credit.Risks))\n",
    "\n",
    "testing <- setdiff(1:n.points, training)\n",
    "test <- subset(data[testing, ], select = c(Age,Sex,Job,Housing,Saving.accounts,Checking.account,Credit.amount,Duration,Purpose,Credit.Risks))\n",
    "\n",
    "cl <- data$Credit.Risks[training]\n",
    "true.labels <- data$Credit.Risks[testing]\n",
    "\n",
    "datalist7 = list()\n",
    "for(k in 1:20){\n",
    "    predicted.labels <- knn(train, test, cl, k)\n",
    "    num.incorrect.labels <- sum(predicted.labels != true.labels)\n",
    "    misclassification.rate <- num.incorrect.labels / num.test.set.labels\n",
    "    datalist7[[k]] <- c(k, misclassification.rate)\n",
    "}\n",
    "result7 <- data.frame(do.call(rbind, datalist7))\n",
    "colnames(result7) <- c(\"k\", \"Misclassification.Rate-70\")\n",
    "result7"
   ]
  },
  {
   "cell_type": "markdown",
   "metadata": {},
   "source": [
    "Repeating everything for Sampling Rate 0.6"
   ]
  },
  {
   "cell_type": "code",
   "execution_count": 26,
   "metadata": {
    "collapsed": false
   },
   "outputs": [
    {
     "name": "stdout",
     "output_type": "stream",
     "text": [
      "[1] 1\n",
      "[1] 0.36\n",
      "[1] 2\n",
      "[1] 0.34\n",
      "[1] 3\n",
      "[1] 0.375\n",
      "[1] 4\n",
      "[1] 0.3525\n",
      "[1] 5\n",
      "[1] 0.365\n",
      "[1] 6\n",
      "[1] 0.3275\n",
      "[1] 7\n",
      "[1] 0.33\n",
      "[1] 8\n",
      "[1] 0.315\n",
      "[1] 9\n",
      "[1] 0.3175\n",
      "[1] 10\n",
      "[1] 0.31\n",
      "[1] 11\n",
      "[1] 0.3075\n",
      "[1] 12\n",
      "[1] 0.3025\n",
      "[1] 13\n",
      "[1] 0.3025\n",
      "[1] 14\n",
      "[1] 0.3025\n",
      "[1] 15\n",
      "[1] 0.305\n",
      "[1] 16\n",
      "[1] 0.3075\n",
      "[1] 17\n",
      "[1] 0.31\n",
      "[1] 18\n",
      "[1] 0.3075\n",
      "[1] 19\n",
      "[1] 0.3125\n",
      "[1] 20\n",
      "[1] 0.32\n"
     ]
    },
    {
     "data": {
      "text/html": [
       "<table>\n",
       "<thead><tr><th scope=col>k</th><th scope=col>Misclassification.Rate-60</th></tr></thead>\n",
       "<tbody>\n",
       "\t<tr><td> 1    </td><td>0.3600</td></tr>\n",
       "\t<tr><td> 2    </td><td>0.3400</td></tr>\n",
       "\t<tr><td> 3    </td><td>0.3750</td></tr>\n",
       "\t<tr><td> 4    </td><td>0.3525</td></tr>\n",
       "\t<tr><td> 5    </td><td>0.3650</td></tr>\n",
       "\t<tr><td> 6    </td><td>0.3275</td></tr>\n",
       "\t<tr><td> 7    </td><td>0.3300</td></tr>\n",
       "\t<tr><td> 8    </td><td>0.3150</td></tr>\n",
       "\t<tr><td> 9    </td><td>0.3175</td></tr>\n",
       "\t<tr><td>10    </td><td>0.3100</td></tr>\n",
       "\t<tr><td>11    </td><td>0.3075</td></tr>\n",
       "\t<tr><td>12    </td><td>0.3025</td></tr>\n",
       "\t<tr><td>13    </td><td>0.3025</td></tr>\n",
       "\t<tr><td>14    </td><td>0.3025</td></tr>\n",
       "\t<tr><td>15    </td><td>0.3050</td></tr>\n",
       "\t<tr><td>16    </td><td>0.3075</td></tr>\n",
       "\t<tr><td>17    </td><td>0.3100</td></tr>\n",
       "\t<tr><td>18    </td><td>0.3075</td></tr>\n",
       "\t<tr><td>19    </td><td>0.3125</td></tr>\n",
       "\t<tr><td>20    </td><td>0.3200</td></tr>\n",
       "</tbody>\n",
       "</table>\n"
      ],
      "text/latex": [
       "\\begin{tabular}{r|ll}\n",
       " k & Misclassification.Rate-60\\\\\n",
       "\\hline\n",
       "\t  1     & 0.3600\\\\\n",
       "\t  2     & 0.3400\\\\\n",
       "\t  3     & 0.3750\\\\\n",
       "\t  4     & 0.3525\\\\\n",
       "\t  5     & 0.3650\\\\\n",
       "\t  6     & 0.3275\\\\\n",
       "\t  7     & 0.3300\\\\\n",
       "\t  8     & 0.3150\\\\\n",
       "\t  9     & 0.3175\\\\\n",
       "\t 10     & 0.3100\\\\\n",
       "\t 11     & 0.3075\\\\\n",
       "\t 12     & 0.3025\\\\\n",
       "\t 13     & 0.3025\\\\\n",
       "\t 14     & 0.3025\\\\\n",
       "\t 15     & 0.3050\\\\\n",
       "\t 16     & 0.3075\\\\\n",
       "\t 17     & 0.3100\\\\\n",
       "\t 18     & 0.3075\\\\\n",
       "\t 19     & 0.3125\\\\\n",
       "\t 20     & 0.3200\\\\\n",
       "\\end{tabular}\n"
      ],
      "text/markdown": [
       "\n",
       "k | Misclassification.Rate-60 | \n",
       "|---|---|---|---|---|---|---|---|---|---|---|---|---|---|---|---|---|---|---|---|\n",
       "|  1     | 0.3600 | \n",
       "|  2     | 0.3400 | \n",
       "|  3     | 0.3750 | \n",
       "|  4     | 0.3525 | \n",
       "|  5     | 0.3650 | \n",
       "|  6     | 0.3275 | \n",
       "|  7     | 0.3300 | \n",
       "|  8     | 0.3150 | \n",
       "|  9     | 0.3175 | \n",
       "| 10     | 0.3100 | \n",
       "| 11     | 0.3075 | \n",
       "| 12     | 0.3025 | \n",
       "| 13     | 0.3025 | \n",
       "| 14     | 0.3025 | \n",
       "| 15     | 0.3050 | \n",
       "| 16     | 0.3075 | \n",
       "| 17     | 0.3100 | \n",
       "| 18     | 0.3075 | \n",
       "| 19     | 0.3125 | \n",
       "| 20     | 0.3200 | \n",
       "\n",
       "\n"
      ],
      "text/plain": [
       "   k  Misclassification.Rate-60\n",
       "1   1 0.3600                   \n",
       "2   2 0.3400                   \n",
       "3   3 0.3750                   \n",
       "4   4 0.3525                   \n",
       "5   5 0.3650                   \n",
       "6   6 0.3275                   \n",
       "7   7 0.3300                   \n",
       "8   8 0.3150                   \n",
       "9   9 0.3175                   \n",
       "10 10 0.3100                   \n",
       "11 11 0.3075                   \n",
       "12 12 0.3025                   \n",
       "13 13 0.3025                   \n",
       "14 14 0.3025                   \n",
       "15 15 0.3050                   \n",
       "16 16 0.3075                   \n",
       "17 17 0.3100                   \n",
       "18 18 0.3075                   \n",
       "19 19 0.3125                   \n",
       "20 20 0.3200                   "
      ]
     },
     "metadata": {},
     "output_type": "display_data"
    }
   ],
   "source": [
    "sampling.rate <- 0.6\n",
    "num.test.set.labels <- n.points * (1 - sampling.rate)\n",
    "\n",
    "training <- sample(1:n.points, sampling.rate * n.points, replace = FALSE)\n",
    "train <- subset(data[training, ], select = c(Age,Sex,Job,Housing,Saving.accounts,Checking.account,Credit.amount,Duration,Purpose,Credit.Risks))\n",
    "\n",
    "testing <- setdiff(1:n.points, training)\n",
    "test <- subset(data[testing, ], select = c(Age,Sex,Job,Housing,Saving.accounts,Checking.account,Credit.amount,Duration,Purpose,Credit.Risks))\n",
    "\n",
    "cl <- data$Credit.Risks[training]\n",
    "true.labels <- data$Credit.Risks[testing]\n",
    "\n",
    "datalist6 = list()\n",
    "for(k in 1:20){\n",
    "    print(k)\n",
    "    predicted.labels <- knn(train, test, cl, k)\n",
    "    num.incorrect.labels <- sum(predicted.labels != true.labels)\n",
    "    misclassification.rate <- num.incorrect.labels / num.test.set.labels\n",
    "    print(misclassification.rate)\n",
    "    datalist6[[k]] <- c(k, misclassification.rate)\n",
    "}\n",
    "result6 <- data.frame(do.call(rbind, datalist6))\n",
    "colnames(result6) <- c(\"k\", \"Misclassification.Rate-60\")\n",
    "result6"
   ]
  },
  {
   "cell_type": "markdown",
   "metadata": {},
   "source": [
    "### All Results collated below"
   ]
  },
  {
   "cell_type": "code",
   "execution_count": 27,
   "metadata": {
    "collapsed": false
   },
   "outputs": [
    {
     "data": {
      "text/html": [
       "<table>\n",
       "<thead><tr><th scope=col>k</th><th scope=col>Misclassification.Rate-60</th><th scope=col>Misclassification.Rate-70</th><th scope=col>Misclassification.Rate-80</th><th scope=col>Misclassification.Rate-90</th></tr></thead>\n",
       "<tbody>\n",
       "\t<tr><td> 1       </td><td>0.3600   </td><td>0.4466667</td><td>0.400    </td><td>0.38     </td></tr>\n",
       "\t<tr><td> 2       </td><td>0.3400   </td><td>0.3433333</td><td>0.360    </td><td>0.30     </td></tr>\n",
       "\t<tr><td> 3       </td><td>0.3750   </td><td>0.3966667</td><td>0.435    </td><td>0.39     </td></tr>\n",
       "\t<tr><td> 4       </td><td>0.3525   </td><td>0.3533333</td><td>0.380    </td><td>0.32     </td></tr>\n",
       "\t<tr><td> 5       </td><td>0.3650   </td><td>0.3866667</td><td>0.415    </td><td>0.33     </td></tr>\n",
       "\t<tr><td> 6       </td><td>0.3275   </td><td>0.3366667</td><td>0.375    </td><td>0.25     </td></tr>\n",
       "\t<tr><td> 7       </td><td>0.3300   </td><td>0.3566667</td><td>0.380    </td><td>0.26     </td></tr>\n",
       "\t<tr><td> 8       </td><td>0.3150   </td><td>0.3466667</td><td>0.380    </td><td>0.26     </td></tr>\n",
       "\t<tr><td> 9       </td><td>0.3175   </td><td>0.3566667</td><td>0.385    </td><td>0.27     </td></tr>\n",
       "\t<tr><td>10       </td><td>0.3100   </td><td>0.3400000</td><td>0.375    </td><td>0.30     </td></tr>\n",
       "\t<tr><td>11       </td><td>0.3075   </td><td>0.3466667</td><td>0.390    </td><td>0.27     </td></tr>\n",
       "\t<tr><td>12       </td><td>0.3025   </td><td>0.3366667</td><td>0.365    </td><td>0.28     </td></tr>\n",
       "\t<tr><td>13       </td><td>0.3025   </td><td>0.3366667</td><td>0.380    </td><td>0.28     </td></tr>\n",
       "\t<tr><td>14       </td><td>0.3025   </td><td>0.3266667</td><td>0.355    </td><td>0.28     </td></tr>\n",
       "\t<tr><td>15       </td><td>0.3050   </td><td>0.3333333</td><td>0.350    </td><td>0.29     </td></tr>\n",
       "\t<tr><td>16       </td><td>0.3075   </td><td>0.3366667</td><td>0.360    </td><td>0.29     </td></tr>\n",
       "\t<tr><td>17       </td><td>0.3100   </td><td>0.3366667</td><td>0.355    </td><td>0.28     </td></tr>\n",
       "\t<tr><td>18       </td><td>0.3075   </td><td>0.3300000</td><td>0.350    </td><td>0.29     </td></tr>\n",
       "\t<tr><td>19       </td><td>0.3125   </td><td>0.3366667</td><td>0.355    </td><td>0.29     </td></tr>\n",
       "\t<tr><td>20       </td><td>0.3200   </td><td>0.3400000</td><td>0.355    </td><td>0.29     </td></tr>\n",
       "</tbody>\n",
       "</table>\n"
      ],
      "text/latex": [
       "\\begin{tabular}{r|lllll}\n",
       " k & Misclassification.Rate-60 & Misclassification.Rate-70 & Misclassification.Rate-80 & Misclassification.Rate-90\\\\\n",
       "\\hline\n",
       "\t  1        & 0.3600    & 0.4466667 & 0.400     & 0.38     \\\\\n",
       "\t  2        & 0.3400    & 0.3433333 & 0.360     & 0.30     \\\\\n",
       "\t  3        & 0.3750    & 0.3966667 & 0.435     & 0.39     \\\\\n",
       "\t  4        & 0.3525    & 0.3533333 & 0.380     & 0.32     \\\\\n",
       "\t  5        & 0.3650    & 0.3866667 & 0.415     & 0.33     \\\\\n",
       "\t  6        & 0.3275    & 0.3366667 & 0.375     & 0.25     \\\\\n",
       "\t  7        & 0.3300    & 0.3566667 & 0.380     & 0.26     \\\\\n",
       "\t  8        & 0.3150    & 0.3466667 & 0.380     & 0.26     \\\\\n",
       "\t  9        & 0.3175    & 0.3566667 & 0.385     & 0.27     \\\\\n",
       "\t 10        & 0.3100    & 0.3400000 & 0.375     & 0.30     \\\\\n",
       "\t 11        & 0.3075    & 0.3466667 & 0.390     & 0.27     \\\\\n",
       "\t 12        & 0.3025    & 0.3366667 & 0.365     & 0.28     \\\\\n",
       "\t 13        & 0.3025    & 0.3366667 & 0.380     & 0.28     \\\\\n",
       "\t 14        & 0.3025    & 0.3266667 & 0.355     & 0.28     \\\\\n",
       "\t 15        & 0.3050    & 0.3333333 & 0.350     & 0.29     \\\\\n",
       "\t 16        & 0.3075    & 0.3366667 & 0.360     & 0.29     \\\\\n",
       "\t 17        & 0.3100    & 0.3366667 & 0.355     & 0.28     \\\\\n",
       "\t 18        & 0.3075    & 0.3300000 & 0.350     & 0.29     \\\\\n",
       "\t 19        & 0.3125    & 0.3366667 & 0.355     & 0.29     \\\\\n",
       "\t 20        & 0.3200    & 0.3400000 & 0.355     & 0.29     \\\\\n",
       "\\end{tabular}\n"
      ],
      "text/markdown": [
       "\n",
       "k | Misclassification.Rate-60 | Misclassification.Rate-70 | Misclassification.Rate-80 | Misclassification.Rate-90 | \n",
       "|---|---|---|---|---|---|---|---|---|---|---|---|---|---|---|---|---|---|---|---|\n",
       "|  1        | 0.3600    | 0.4466667 | 0.400     | 0.38      | \n",
       "|  2        | 0.3400    | 0.3433333 | 0.360     | 0.30      | \n",
       "|  3        | 0.3750    | 0.3966667 | 0.435     | 0.39      | \n",
       "|  4        | 0.3525    | 0.3533333 | 0.380     | 0.32      | \n",
       "|  5        | 0.3650    | 0.3866667 | 0.415     | 0.33      | \n",
       "|  6        | 0.3275    | 0.3366667 | 0.375     | 0.25      | \n",
       "|  7        | 0.3300    | 0.3566667 | 0.380     | 0.26      | \n",
       "|  8        | 0.3150    | 0.3466667 | 0.380     | 0.26      | \n",
       "|  9        | 0.3175    | 0.3566667 | 0.385     | 0.27      | \n",
       "| 10        | 0.3100    | 0.3400000 | 0.375     | 0.30      | \n",
       "| 11        | 0.3075    | 0.3466667 | 0.390     | 0.27      | \n",
       "| 12        | 0.3025    | 0.3366667 | 0.365     | 0.28      | \n",
       "| 13        | 0.3025    | 0.3366667 | 0.380     | 0.28      | \n",
       "| 14        | 0.3025    | 0.3266667 | 0.355     | 0.28      | \n",
       "| 15        | 0.3050    | 0.3333333 | 0.350     | 0.29      | \n",
       "| 16        | 0.3075    | 0.3366667 | 0.360     | 0.29      | \n",
       "| 17        | 0.3100    | 0.3366667 | 0.355     | 0.28      | \n",
       "| 18        | 0.3075    | 0.3300000 | 0.350     | 0.29      | \n",
       "| 19        | 0.3125    | 0.3366667 | 0.355     | 0.29      | \n",
       "| 20        | 0.3200    | 0.3400000 | 0.355     | 0.29      | \n",
       "\n",
       "\n"
      ],
      "text/plain": [
       "   k  Misclassification.Rate-60 Misclassification.Rate-70\n",
       "1   1 0.3600                    0.4466667                \n",
       "2   2 0.3400                    0.3433333                \n",
       "3   3 0.3750                    0.3966667                \n",
       "4   4 0.3525                    0.3533333                \n",
       "5   5 0.3650                    0.3866667                \n",
       "6   6 0.3275                    0.3366667                \n",
       "7   7 0.3300                    0.3566667                \n",
       "8   8 0.3150                    0.3466667                \n",
       "9   9 0.3175                    0.3566667                \n",
       "10 10 0.3100                    0.3400000                \n",
       "11 11 0.3075                    0.3466667                \n",
       "12 12 0.3025                    0.3366667                \n",
       "13 13 0.3025                    0.3366667                \n",
       "14 14 0.3025                    0.3266667                \n",
       "15 15 0.3050                    0.3333333                \n",
       "16 16 0.3075                    0.3366667                \n",
       "17 17 0.3100                    0.3366667                \n",
       "18 18 0.3075                    0.3300000                \n",
       "19 19 0.3125                    0.3366667                \n",
       "20 20 0.3200                    0.3400000                \n",
       "   Misclassification.Rate-80 Misclassification.Rate-90\n",
       "1  0.400                     0.38                     \n",
       "2  0.360                     0.30                     \n",
       "3  0.435                     0.39                     \n",
       "4  0.380                     0.32                     \n",
       "5  0.415                     0.33                     \n",
       "6  0.375                     0.25                     \n",
       "7  0.380                     0.26                     \n",
       "8  0.380                     0.26                     \n",
       "9  0.385                     0.27                     \n",
       "10 0.375                     0.30                     \n",
       "11 0.390                     0.27                     \n",
       "12 0.365                     0.28                     \n",
       "13 0.380                     0.28                     \n",
       "14 0.355                     0.28                     \n",
       "15 0.350                     0.29                     \n",
       "16 0.360                     0.29                     \n",
       "17 0.355                     0.28                     \n",
       "18 0.350                     0.29                     \n",
       "19 0.355                     0.29                     \n",
       "20 0.355                     0.29                     "
      ]
     },
     "metadata": {},
     "output_type": "display_data"
    }
   ],
   "source": [
    "result <- cbind(result6, result7, result8, result9)\n",
    "result <- result[,c(1,2,4,6,8)]\n",
    "result"
   ]
  },
  {
   "cell_type": "code",
   "execution_count": null,
   "metadata": {
    "collapsed": true
   },
   "outputs": [],
   "source": []
  }
 ],
 "metadata": {
  "kernelspec": {
   "display_name": "R",
   "language": "R",
   "name": "ir"
  },
  "language_info": {
   "codemirror_mode": "r",
   "file_extension": ".r",
   "mimetype": "text/x-r-source",
   "name": "R",
   "pygments_lexer": "r",
   "version": "3.3.2"
  }
 },
 "nbformat": 4,
 "nbformat_minor": 2
}
