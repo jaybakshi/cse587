{
 "cells": [
  {
   "cell_type": "markdown",
   "metadata": {},
   "source": [
    "# JAY BAKSHI : UB ID - 50206954"
   ]
  },
  {
   "cell_type": "markdown",
   "metadata": {},
   "source": [
    "Installing and importing required packages."
   ]
  },
  {
   "cell_type": "code",
   "execution_count": 1,
   "metadata": {
    "collapsed": true
   },
   "outputs": [
    {
     "name": "stderr",
     "output_type": "stream",
     "text": [
      "Installing package into 'C:/Users/Jay/Documents/R/win-library/3.3'\n",
      "(as 'lib' is unspecified)\n",
      "Warning message:\n",
      "\"package 'dpylr' is not available (for R version 3.3.2)\""
     ]
    }
   ],
   "source": [
    "install.packages('dpylr', repos = 'https://cran.r-project.org')"
   ]
  },
  {
   "cell_type": "code",
   "execution_count": 2,
   "metadata": {
    "collapsed": true
   },
   "outputs": [
    {
     "name": "stderr",
     "output_type": "stream",
     "text": [
      "Installing package into 'C:/Users/Jay/Documents/R/win-library/3.3'\n",
      "(as 'lib' is unspecified)\n"
     ]
    },
    {
     "name": "stdout",
     "output_type": "stream",
     "text": [
      "package 'DBI' successfully unpacked and MD5 sums checked\n",
      "\n",
      "The downloaded binary packages are in\n",
      "\tC:\\Users\\Jay\\AppData\\Local\\Temp\\RtmpO4chjD\\downloaded_packages\n"
     ]
    }
   ],
   "source": [
    "install.packages('DBI', repos=\"https://cran.r-project.org\")"
   ]
  },
  {
   "cell_type": "code",
   "execution_count": 3,
   "metadata": {
    "collapsed": true
   },
   "outputs": [
    {
     "name": "stderr",
     "output_type": "stream",
     "text": [
      "Installing package into 'C:/Users/Jay/Documents/R/win-library/3.3'\n",
      "(as 'lib' is unspecified)\n"
     ]
    },
    {
     "name": "stdout",
     "output_type": "stream",
     "text": [
      "package 'RSQLite' successfully unpacked and MD5 sums checked\n",
      "\n",
      "The downloaded binary packages are in\n",
      "\tC:\\Users\\Jay\\AppData\\Local\\Temp\\RtmpO4chjD\\downloaded_packages\n"
     ]
    }
   ],
   "source": [
    "install.packages('RSQLite', repos = 'http://cran.r-project.org')"
   ]
  },
  {
   "cell_type": "code",
   "execution_count": 4,
   "metadata": {
    "collapsed": true
   },
   "outputs": [
    {
     "name": "stderr",
     "output_type": "stream",
     "text": [
      "Installing package into 'C:/Users/Jay/Documents/R/win-library/3.3'\n",
      "(as 'lib' is unspecified)\n"
     ]
    },
    {
     "name": "stdout",
     "output_type": "stream",
     "text": [
      "package 'sqldf' successfully unpacked and MD5 sums checked\n",
      "\n",
      "The downloaded binary packages are in\n",
      "\tC:\\Users\\Jay\\AppData\\Local\\Temp\\RtmpO4chjD\\downloaded_packages\n"
     ]
    }
   ],
   "source": [
    "install.packages('sqldf', repos=\"https://cran.r-project.org\")"
   ]
  },
  {
   "cell_type": "code",
   "execution_count": 30,
   "metadata": {
    "collapsed": false
   },
   "outputs": [
    {
     "name": "stderr",
     "output_type": "stream",
     "text": [
      "Installing package into 'C:/Users/Jay/Documents/R/win-library/3.3'\n",
      "(as 'lib' is unspecified)\n"
     ]
    },
    {
     "name": "stdout",
     "output_type": "stream",
     "text": [
      "package 'ggplot2' successfully unpacked and MD5 sums checked\n",
      "\n",
      "The downloaded binary packages are in\n",
      "\tC:\\Users\\Jay\\AppData\\Local\\Temp\\RtmpADbEys\\downloaded_packages\n"
     ]
    }
   ],
   "source": [
    "install.packages('ggplot2', repos=\"https://cran.r-project.org\")"
   ]
  },
  {
   "cell_type": "code",
   "execution_count": 3,
   "metadata": {
    "collapsed": true
   },
   "outputs": [
    {
     "name": "stderr",
     "output_type": "stream",
     "text": [
      "\n",
      "Attaching package: 'dplyr'\n",
      "\n",
      "The following objects are masked from 'package:stats':\n",
      "\n",
      "    filter, lag\n",
      "\n",
      "The following objects are masked from 'package:base':\n",
      "\n",
      "    intersect, setdiff, setequal, union\n",
      "\n"
     ]
    }
   ],
   "source": [
    "library(dplyr)"
   ]
  },
  {
   "cell_type": "code",
   "execution_count": 19,
   "metadata": {
    "collapsed": true
   },
   "outputs": [],
   "source": [
    "library(DBI)"
   ]
  },
  {
   "cell_type": "code",
   "execution_count": 20,
   "metadata": {
    "collapsed": true
   },
   "outputs": [],
   "source": [
    "library(RSQLite)"
   ]
  },
  {
   "cell_type": "code",
   "execution_count": 6,
   "metadata": {
    "collapsed": true
   },
   "outputs": [
    {
     "name": "stderr",
     "output_type": "stream",
     "text": [
      "Warning message:\n",
      "\"package 'sqldf' was built under R version 3.3.3\"Loading required package: gsubfn\n",
      "Loading required package: proto\n",
      "Could not load tcltk.  Will use slower R code instead.\n"
     ]
    }
   ],
   "source": [
    "library(sqldf)"
   ]
  },
  {
   "cell_type": "code",
   "execution_count": 31,
   "metadata": {
    "collapsed": false
   },
   "outputs": [
    {
     "name": "stderr",
     "output_type": "stream",
     "text": [
      "Warning message:\n",
      "\"package 'ggplot2' was built under R version 3.3.3\""
     ]
    }
   ],
   "source": [
    "library(ggplot2)"
   ]
  },
  {
   "cell_type": "markdown",
   "metadata": {},
   "source": [
    "Copying the CSV file into the data-frame"
   ]
  },
  {
   "cell_type": "code",
   "execution_count": 59,
   "metadata": {
    "collapsed": true
   },
   "outputs": [],
   "source": [
    "data <- read.csv(\"pewdata.csv\")"
   ]
  },
  {
   "cell_type": "markdown",
   "metadata": {},
   "source": [
    "Intitiating SQLite Db connection. I've already imported the data set into the sqlite."
   ]
  },
  {
   "cell_type": "code",
   "execution_count": 56,
   "metadata": {
    "collapsed": false
   },
   "outputs": [],
   "source": [
    "my_db3 <- src_sqlite(\"my_db3.sqlite\", create=T)"
   ]
  },
  {
   "cell_type": "code",
   "execution_count": 57,
   "metadata": {
    "collapsed": false,
    "scrolled": true
   },
   "outputs": [
    {
     "data": {
      "text/plain": [
       "src:  sqlite 3.11.1 [my_db3.sqlite]\n",
       "tbls: pewdata, q1"
      ]
     },
     "metadata": {},
     "output_type": "display_data"
    }
   ],
   "source": [
    "my_db3"
   ]
  },
  {
   "cell_type": "code",
   "execution_count": 58,
   "metadata": {
    "collapsed": false
   },
   "outputs": [],
   "source": [
    "# connect to the sqlite file\n",
    "con <- dbConnect(RSQLite::SQLite(), dbname=\"my_db3.sqlite\")"
   ]
  },
  {
   "cell_type": "code",
   "execution_count": 88,
   "metadata": {
    "collapsed": false
   },
   "outputs": [],
   "source": [
    "q1 <- data.frame(tbl(my_db3, sql(\"SELECT age, sex, eminuse, intmob, intfreq\n",
    "                                    FROM pewdata\")))"
   ]
  },
  {
   "cell_type": "code",
   "execution_count": 89,
   "metadata": {
    "collapsed": false
   },
   "outputs": [
    {
     "data": {},
     "metadata": {},
     "output_type": "display_data"
    },
    {
     "data": {
      "image/png": "[encoded data removed]",
      "text/plain": [
       "plot without title"
      ]
     },
     "metadata": {},
     "output_type": "display_data"
    }
   ],
   "source": [
    "qplot(intmob, intfreq, color=sex, data=q1, geom=\"jitter\")"
   ]
  },
  {
   "cell_type": "markdown",
   "metadata": {
    "collapsed": false
   },
   "source": [
    "The above graph shows that Men with a Internet on Mobile phone are more frequent to use it then Women.\n",
    "<br/>Also, a significant higher number of men have Internet enabled on their mobile phones compared to women."
   ]
  },
  {
   "cell_type": "code",
   "execution_count": 97,
   "metadata": {
    "collapsed": true
   },
   "outputs": [],
   "source": [
    "q2 <- data.frame(tbl(my_db3, sql(\"SELECT smart1, age, emplnw\n",
    "                                    FROM pewdata\")))"
   ]
  },
  {
   "cell_type": "code",
   "execution_count": 98,
   "metadata": {
    "collapsed": false,
    "scrolled": true
   },
   "outputs": [
    {
     "data": {
      "text/html": [
       "<table>\n",
       "<thead><tr><th scope=col>smart1</th><th scope=col>age</th><th scope=col>emplnw</th></tr></thead>\n",
       "<tbody>\n",
       "\t<tr><td>1 </td><td>47</td><td>4 </td></tr>\n",
       "\t<tr><td>1 </td><td>63</td><td>3 </td></tr>\n",
       "\t<tr><td>2 </td><td>86</td><td>3 </td></tr>\n",
       "\t<tr><td>1 </td><td>40</td><td>1 </td></tr>\n",
       "\t<tr><td>NA</td><td>65</td><td>3 </td></tr>\n",
       "\t<tr><td>1 </td><td>69</td><td>2 </td></tr>\n",
       "\t<tr><td>2 </td><td>72</td><td>3 </td></tr>\n",
       "\t<tr><td>2 </td><td>70</td><td>3 </td></tr>\n",
       "\t<tr><td>1 </td><td>77</td><td>3 </td></tr>\n",
       "\t<tr><td>8 </td><td>73</td><td>3 </td></tr>\n",
       "\t<tr><td>1 </td><td>81</td><td>3 </td></tr>\n",
       "\t<tr><td>2 </td><td>77</td><td>3 </td></tr>\n",
       "\t<tr><td>1 </td><td>52</td><td>1 </td></tr>\n",
       "\t<tr><td>1 </td><td>74</td><td>3 </td></tr>\n",
       "\t<tr><td>1 </td><td>43</td><td>1 </td></tr>\n",
       "\t<tr><td>1 </td><td>44</td><td>1 </td></tr>\n",
       "\t<tr><td>1 </td><td>68</td><td>3 </td></tr>\n",
       "\t<tr><td>2 </td><td>87</td><td>3 </td></tr>\n",
       "\t<tr><td>2 </td><td>68</td><td>3 </td></tr>\n",
       "\t<tr><td>1 </td><td>58</td><td>1 </td></tr>\n",
       "\t<tr><td>NA</td><td>31</td><td>1 </td></tr>\n",
       "\t<tr><td>2 </td><td>85</td><td>3 </td></tr>\n",
       "\t<tr><td>NA</td><td>93</td><td>3 </td></tr>\n",
       "\t<tr><td>8 </td><td>57</td><td>1 </td></tr>\n",
       "\t<tr><td>2 </td><td>70</td><td>3 </td></tr>\n",
       "\t<tr><td>1 </td><td>36</td><td>4 </td></tr>\n",
       "\t<tr><td>2 </td><td>39</td><td>4 </td></tr>\n",
       "\t<tr><td>2 </td><td>85</td><td>3 </td></tr>\n",
       "\t<tr><td>1 </td><td>76</td><td>3 </td></tr>\n",
       "\t<tr><td>2 </td><td>63</td><td>1 </td></tr>\n",
       "\t<tr><td>...</td><td>...</td><td>...</td></tr>\n",
       "\t<tr><td>8 </td><td>27</td><td>4 </td></tr>\n",
       "\t<tr><td>2 </td><td>66</td><td>3 </td></tr>\n",
       "\t<tr><td>1 </td><td>23</td><td>1 </td></tr>\n",
       "\t<tr><td>2 </td><td>79</td><td>3 </td></tr>\n",
       "\t<tr><td>1 </td><td>29</td><td>4 </td></tr>\n",
       "\t<tr><td>1 </td><td>65</td><td>2 </td></tr>\n",
       "\t<tr><td>1 </td><td>35</td><td>1 </td></tr>\n",
       "\t<tr><td>2 </td><td>26</td><td>2 </td></tr>\n",
       "\t<tr><td>1 </td><td>60</td><td>1 </td></tr>\n",
       "\t<tr><td>1 </td><td>51</td><td>6 </td></tr>\n",
       "\t<tr><td>1 </td><td>27</td><td>4 </td></tr>\n",
       "\t<tr><td>1 </td><td>60</td><td>2 </td></tr>\n",
       "\t<tr><td>1 </td><td>43</td><td>4 </td></tr>\n",
       "\t<tr><td>1 </td><td>19</td><td>2 </td></tr>\n",
       "\t<tr><td>1 </td><td>36</td><td>2 </td></tr>\n",
       "\t<tr><td>1 </td><td>62</td><td>1 </td></tr>\n",
       "\t<tr><td>1 </td><td>59</td><td>1 </td></tr>\n",
       "\t<tr><td>1 </td><td>34</td><td>4 </td></tr>\n",
       "\t<tr><td>1 </td><td>56</td><td>1 </td></tr>\n",
       "\t<tr><td>1 </td><td>63</td><td>1 </td></tr>\n",
       "\t<tr><td>8 </td><td>50</td><td>1 </td></tr>\n",
       "\t<tr><td>1 </td><td>47</td><td>1 </td></tr>\n",
       "\t<tr><td>1 </td><td>72</td><td>3 </td></tr>\n",
       "\t<tr><td>2 </td><td>70</td><td>3 </td></tr>\n",
       "\t<tr><td>1 </td><td>35</td><td>1 </td></tr>\n",
       "\t<tr><td>1 </td><td>39</td><td>4 </td></tr>\n",
       "\t<tr><td>2 </td><td>77</td><td>3 </td></tr>\n",
       "\t<tr><td>1 </td><td>40</td><td>2 </td></tr>\n",
       "\t<tr><td>8 </td><td>54</td><td>1 </td></tr>\n",
       "\t<tr><td>1 </td><td>31</td><td>4 </td></tr>\n",
       "</tbody>\n",
       "</table>\n"
      ],
      "text/latex": [
       "\\begin{tabular}{r|lll}\n",
       " smart1 & age & emplnw\\\\\n",
       "\\hline\n",
       "\t 1  & 47 & 4 \\\\\n",
       "\t 1  & 63 & 3 \\\\\n",
       "\t 2  & 86 & 3 \\\\\n",
       "\t 1  & 40 & 1 \\\\\n",
       "\t NA & 65 & 3 \\\\\n",
       "\t 1  & 69 & 2 \\\\\n",
       "\t 2  & 72 & 3 \\\\\n",
       "\t 2  & 70 & 3 \\\\\n",
       "\t 1  & 77 & 3 \\\\\n",
       "\t 8  & 73 & 3 \\\\\n",
       "\t 1  & 81 & 3 \\\\\n",
       "\t 2  & 77 & 3 \\\\\n",
       "\t 1  & 52 & 1 \\\\\n",
       "\t 1  & 74 & 3 \\\\\n",
       "\t 1  & 43 & 1 \\\\\n",
       "\t 1  & 44 & 1 \\\\\n",
       "\t 1  & 68 & 3 \\\\\n",
       "\t 2  & 87 & 3 \\\\\n",
       "\t 2  & 68 & 3 \\\\\n",
       "\t 1  & 58 & 1 \\\\\n",
       "\t NA & 31 & 1 \\\\\n",
       "\t 2  & 85 & 3 \\\\\n",
       "\t NA & 93 & 3 \\\\\n",
       "\t 8  & 57 & 1 \\\\\n",
       "\t 2  & 70 & 3 \\\\\n",
       "\t 1  & 36 & 4 \\\\\n",
       "\t 2  & 39 & 4 \\\\\n",
       "\t 2  & 85 & 3 \\\\\n",
       "\t 1  & 76 & 3 \\\\\n",
       "\t 2  & 63 & 1 \\\\\n",
       "\t ... & ... & ...\\\\\n",
       "\t 8  & 27 & 4 \\\\\n",
       "\t 2  & 66 & 3 \\\\\n",
       "\t 1  & 23 & 1 \\\\\n",
       "\t 2  & 79 & 3 \\\\\n",
       "\t 1  & 29 & 4 \\\\\n",
       "\t 1  & 65 & 2 \\\\\n",
       "\t 1  & 35 & 1 \\\\\n",
       "\t 2  & 26 & 2 \\\\\n",
       "\t 1  & 60 & 1 \\\\\n",
       "\t 1  & 51 & 6 \\\\\n",
       "\t 1  & 27 & 4 \\\\\n",
       "\t 1  & 60 & 2 \\\\\n",
       "\t 1  & 43 & 4 \\\\\n",
       "\t 1  & 19 & 2 \\\\\n",
       "\t 1  & 36 & 2 \\\\\n",
       "\t 1  & 62 & 1 \\\\\n",
       "\t 1  & 59 & 1 \\\\\n",
       "\t 1  & 34 & 4 \\\\\n",
       "\t 1  & 56 & 1 \\\\\n",
       "\t 1  & 63 & 1 \\\\\n",
       "\t 8  & 50 & 1 \\\\\n",
       "\t 1  & 47 & 1 \\\\\n",
       "\t 1  & 72 & 3 \\\\\n",
       "\t 2  & 70 & 3 \\\\\n",
       "\t 1  & 35 & 1 \\\\\n",
       "\t 1  & 39 & 4 \\\\\n",
       "\t 2  & 77 & 3 \\\\\n",
       "\t 1  & 40 & 2 \\\\\n",
       "\t 8  & 54 & 1 \\\\\n",
       "\t 1  & 31 & 4 \\\\\n",
       "\\end{tabular}\n"
      ],
      "text/markdown": [
       "\n",
       "smart1 | age | emplnw | \n",
       "|---|---|---|---|---|---|---|---|---|---|---|---|---|---|---|---|---|---|---|---|---|---|---|---|---|---|---|---|---|---|---|---|---|---|---|---|---|---|---|---|---|---|---|---|---|---|---|---|---|---|---|---|---|---|---|---|---|---|---|---|---|\n",
       "| 1  | 47 | 4  | \n",
       "| 1  | 63 | 3  | \n",
       "| 2  | 86 | 3  | \n",
       "| 1  | 40 | 1  | \n",
       "| NA | 65 | 3  | \n",
       "| 1  | 69 | 2  | \n",
       "| 2  | 72 | 3  | \n",
       "| 2  | 70 | 3  | \n",
       "| 1  | 77 | 3  | \n",
       "| 8  | 73 | 3  | \n",
       "| 1  | 81 | 3  | \n",
       "| 2  | 77 | 3  | \n",
       "| 1  | 52 | 1  | \n",
       "| 1  | 74 | 3  | \n",
       "| 1  | 43 | 1  | \n",
       "| 1  | 44 | 1  | \n",
       "| 1  | 68 | 3  | \n",
       "| 2  | 87 | 3  | \n",
       "| 2  | 68 | 3  | \n",
       "| 1  | 58 | 1  | \n",
       "| NA | 31 | 1  | \n",
       "| 2  | 85 | 3  | \n",
       "| NA | 93 | 3  | \n",
       "| 8  | 57 | 1  | \n",
       "| 2  | 70 | 3  | \n",
       "| 1  | 36 | 4  | \n",
       "| 2  | 39 | 4  | \n",
       "| 2  | 85 | 3  | \n",
       "| 1  | 76 | 3  | \n",
       "| 2  | 63 | 1  | \n",
       "| ... | ... | ... | \n",
       "| 8  | 27 | 4  | \n",
       "| 2  | 66 | 3  | \n",
       "| 1  | 23 | 1  | \n",
       "| 2  | 79 | 3  | \n",
       "| 1  | 29 | 4  | \n",
       "| 1  | 65 | 2  | \n",
       "| 1  | 35 | 1  | \n",
       "| 2  | 26 | 2  | \n",
       "| 1  | 60 | 1  | \n",
       "| 1  | 51 | 6  | \n",
       "| 1  | 27 | 4  | \n",
       "| 1  | 60 | 2  | \n",
       "| 1  | 43 | 4  | \n",
       "| 1  | 19 | 2  | \n",
       "| 1  | 36 | 2  | \n",
       "| 1  | 62 | 1  | \n",
       "| 1  | 59 | 1  | \n",
       "| 1  | 34 | 4  | \n",
       "| 1  | 56 | 1  | \n",
       "| 1  | 63 | 1  | \n",
       "| 8  | 50 | 1  | \n",
       "| 1  | 47 | 1  | \n",
       "| 1  | 72 | 3  | \n",
       "| 2  | 70 | 3  | \n",
       "| 1  | 35 | 1  | \n",
       "| 1  | 39 | 4  | \n",
       "| 2  | 77 | 3  | \n",
       "| 1  | 40 | 2  | \n",
       "| 8  | 54 | 1  | \n",
       "| 1  | 31 | 4  | \n",
       "\n",
       "\n"
      ],
      "text/plain": [
       "     smart1 age emplnw\n",
       "1    1      47  4     \n",
       "2    1      63  3     \n",
       "3    2      86  3     \n",
       "4    1      40  1     \n",
       "5    NA     65  3     \n",
       "6    1      69  2     \n",
       "7    2      72  3     \n",
       "8    2      70  3     \n",
       "9    1      77  3     \n",
       "10   8      73  3     \n",
       "11   1      81  3     \n",
       "12   2      77  3     \n",
       "13   1      52  1     \n",
       "14   1      74  3     \n",
       "15   1      43  1     \n",
       "16   1      44  1     \n",
       "17   1      68  3     \n",
       "18   2      87  3     \n",
       "19   2      68  3     \n",
       "20   1      58  1     \n",
       "21   NA     31  1     \n",
       "22   2      85  3     \n",
       "23   NA     93  3     \n",
       "24   8      57  1     \n",
       "25   2      70  3     \n",
       "26   1      36  4     \n",
       "27   2      39  4     \n",
       "28   2      85  3     \n",
       "29   1      76  3     \n",
       "30   2      63  1     \n",
       "...  ...    ... ...   \n",
       "1972 8      27  4     \n",
       "1973 2      66  3     \n",
       "1974 1      23  1     \n",
       "1975 2      79  3     \n",
       "1976 1      29  4     \n",
       "1977 1      65  2     \n",
       "1978 1      35  1     \n",
       "1979 2      26  2     \n",
       "1980 1      60  1     \n",
       "1981 1      51  6     \n",
       "1982 1      27  4     \n",
       "1983 1      60  2     \n",
       "1984 1      43  4     \n",
       "1985 1      19  2     \n",
       "1986 1      36  2     \n",
       "1987 1      62  1     \n",
       "1988 1      59  1     \n",
       "1989 1      34  4     \n",
       "1990 1      56  1     \n",
       "1991 1      63  1     \n",
       "1992 8      50  1     \n",
       "1993 1      47  1     \n",
       "1994 1      72  3     \n",
       "1995 2      70  3     \n",
       "1996 1      35  1     \n",
       "1997 1      39  4     \n",
       "1998 2      77  3     \n",
       "1999 1      40  2     \n",
       "2000 8      54  1     \n",
       "2001 1      31  4     "
      ]
     },
     "metadata": {},
     "output_type": "display_data"
    }
   ],
   "source": [
    "q2"
   ]
  },
  {
   "cell_type": "code",
   "execution_count": 99,
   "metadata": {
    "collapsed": false
   },
   "outputs": [
    {
     "data": {},
     "metadata": {},
     "output_type": "display_data"
    },
    {
     "data": {
      "image/png": "[encoded data removed]",
      "text/plain": [
       "plot without title"
      ]
     },
     "metadata": {},
     "output_type": "display_data"
    }
   ],
   "source": [
    "qplot(smart1, age, color=emplnw, data=q2, geom=\"jitter\")"
   ]
  },
  {
   "cell_type": "markdown",
   "metadata": {},
   "source": [
    "The above distirbution shows how many smartphone owners are employed at the time of survey and are spread across which age group."
   ]
  },
  {
   "cell_type": "code",
   "execution_count": null,
   "metadata": {
    "collapsed": true
   },
   "outputs": [],
   "source": []
  }
 ],
 "metadata": {
  "kernelspec": {
   "display_name": "R",
   "language": "R",
   "name": "ir"
  },
  "language_info": {
   "codemirror_mode": "r",
   "file_extension": ".r",
   "mimetype": "text/x-r-source",
   "name": "R",
   "pygments_lexer": "r",
   "version": "3.3.2"
  }
 },
 "nbformat": 4,
 "nbformat_minor": 2
}
