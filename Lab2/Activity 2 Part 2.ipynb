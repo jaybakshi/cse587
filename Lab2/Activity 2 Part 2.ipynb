{
 "cells": [
  {
   "cell_type": "markdown",
   "metadata": {},
   "source": [
    "# JAY BAKSHI : UB ID - 50206954"
   ]
  },
  {
   "cell_type": "markdown",
   "metadata": {},
   "source": [
    "Installing and importing relevant packages and libraries."
   ]
  },
  {
   "cell_type": "code",
   "execution_count": null,
   "metadata": {
    "collapsed": false
   },
   "outputs": [],
   "source": [
    "install.packages('dpylr', repos = 'https://cran.r-project.org')"
   ]
  },
  {
   "cell_type": "code",
   "execution_count": null,
   "metadata": {
    "collapsed": false
   },
   "outputs": [],
   "source": [
    "install.packages('DBI', repos=\"https://cran.r-project.org\")"
   ]
  },
  {
   "cell_type": "code",
   "execution_count": null,
   "metadata": {
    "collapsed": false,
    "scrolled": true
   },
   "outputs": [],
   "source": [
    "install.packages('RSQLite', repos = 'http://cran.r-project.org')"
   ]
  },
  {
   "cell_type": "code",
   "execution_count": null,
   "metadata": {
    "collapsed": false
   },
   "outputs": [],
   "source": [
    "install.packages('sqldf', repos=\"https://cran.r-project.org\")"
   ]
  },
  {
   "cell_type": "code",
   "execution_count": null,
   "metadata": {
    "collapsed": false,
    "scrolled": true
   },
   "outputs": [],
   "source": [
    "library(dplyr)"
   ]
  },
  {
   "cell_type": "code",
   "execution_count": null,
   "metadata": {
    "collapsed": false
   },
   "outputs": [],
   "source": [
    "library(DBI)"
   ]
  },
  {
   "cell_type": "code",
   "execution_count": null,
   "metadata": {
    "collapsed": false
   },
   "outputs": [],
   "source": [
    "library(RSQLite)"
   ]
  },
  {
   "cell_type": "code",
   "execution_count": null,
   "metadata": {
    "collapsed": false
   },
   "outputs": [],
   "source": [
    "library(sqldf)"
   ]
  },
  {
   "cell_type": "markdown",
   "metadata": {},
   "source": [
    "### Downloaded the dataset at https://www.kaggle.com/hugomathien/soccer"
   ]
  },
  {
   "cell_type": "markdown",
   "metadata": {},
   "source": [
    "Accessing the database.sqlite using dplyr methods -"
   ]
  },
  {
   "cell_type": "code",
   "execution_count": null,
   "metadata": {
    "collapsed": false
   },
   "outputs": [],
   "source": [
    "my_db <- src_sqlite(\"my_db.sqlite\", create=T)"
   ]
  },
  {
   "cell_type": "code",
   "execution_count": null,
   "metadata": {
    "collapsed": false
   },
   "outputs": [],
   "source": [
    "class(my_db)"
   ]
  },
  {
   "cell_type": "code",
   "execution_count": null,
   "metadata": {
    "collapsed": false
   },
   "outputs": [],
   "source": [
    "src_tbls(my_db)"
   ]
  },
  {
   "cell_type": "markdown",
   "metadata": {},
   "source": [
    "Saving the Table Player and Team in their respective dataframes to be useful later"
   ]
  },
  {
   "cell_type": "code",
   "execution_count": null,
   "metadata": {
    "collapsed": false
   },
   "outputs": [],
   "source": [
    "playerdf <- read.csv(file=\"player.csv\")"
   ]
  },
  {
   "cell_type": "code",
   "execution_count": null,
   "metadata": {
    "collapsed": false
   },
   "outputs": [],
   "source": [
    "playertbl <- tbl_df(playerdf)"
   ]
  },
  {
   "cell_type": "code",
   "execution_count": null,
   "metadata": {
    "collapsed": false
   },
   "outputs": [],
   "source": [
    "class(playertbl)"
   ]
  },
  {
   "cell_type": "code",
   "execution_count": null,
   "metadata": {
    "collapsed": false
   },
   "outputs": [],
   "source": [
    "p <- copy_to(my_db, playertbl)"
   ]
  },
  {
   "cell_type": "code",
   "execution_count": null,
   "metadata": {
    "collapsed": false
   },
   "outputs": [],
   "source": [
    "dim(playertbl)\n",
    "head(playertbl, 10)"
   ]
  },
  {
   "cell_type": "markdown",
   "metadata": {},
   "source": [
    "<b> Query - Which are the top 10 players by overall rating? </b>\n",
    "<br/>Columns - \n",
    "<br/>playertbl - player_name, player_api_id, player_api_id, overall_rating"
   ]
  },
  {
   "cell_type": "code",
   "execution_count": null,
   "metadata": {
    "collapsed": false
   },
   "outputs": [],
   "source": [
    "q1 <- tbl(my_db, sql(\"SELECT DISTINCT player_api_id, player_name\n",
    "                    FROM playertbl\n",
    "                    ORDER BY overall_rating DESC\n",
    "                    LIMIT 10\"))"
   ]
  },
  {
   "cell_type": "code",
   "execution_count": null,
   "metadata": {
    "collapsed": false
   },
   "outputs": [],
   "source": [
    "q1"
   ]
  },
  {
   "cell_type": "markdown",
   "metadata": {},
   "source": [
    "<b>Query 2 - Which are the top 10 goalkeepers by sum of gk attributes?</b>\n",
    "<br/>Columns -\n",
    "<br/>Player - player_name, player_api_id\n",
    "<br/>Player_Attributes - player_api_id, gk_diving, gk_handling, gk_kicking, gk_positioning, gk_reflexes"
   ]
  },
  {
   "cell_type": "code",
   "execution_count": null,
   "metadata": {
    "collapsed": false
   },
   "outputs": [],
   "source": [
    "q2 <- tbl(my_db, sql(\"SELECT DISTINCT player_name\n",
    "                            FROM playertbl\n",
    "                            ORDER BY gk_all DESC\n",
    "                            LIMIT 10\"))"
   ]
  },
  {
   "cell_type": "code",
   "execution_count": null,
   "metadata": {
    "collapsed": false
   },
   "outputs": [],
   "source": [
    "q2"
   ]
  },
  {
   "cell_type": "code",
   "execution_count": null,
   "metadata": {
    "collapsed": false
   },
   "outputs": [],
   "source": [
    "teamdf <- read.csv(file=\"team.csv\")\n",
    "#class(teamdf)\n",
    "#dim(teamdf)\n",
    "#head(teamdf, 3)"
   ]
  },
  {
   "cell_type": "code",
   "execution_count": null,
   "metadata": {
    "collapsed": false,
    "scrolled": true
   },
   "outputs": [],
   "source": [
    "teamtbl <- tbl_df(teamdf)\n",
    "#class(teamtbl)\n",
    "#dim(teamtbl)\n",
    "#head(teamtbl, 3)"
   ]
  },
  {
   "cell_type": "markdown",
   "metadata": {},
   "source": [
    "<b>Which are the top 10 players by number of appearances (with any team they played with)?</b>\n",
    "The plan is to extract the data about the player_id across the table spread in multiple columns to bring it all together, match it and then group by the same player_id so we can easily get a count of the appearances made by the player.\n",
    "\n",
    "The field league_id has been added here to cater to the next question. Since, this splitting of data does take some time so I combined the effort to reduce unnecessary redundancy."
   ]
  },
  {
   "cell_type": "code",
   "execution_count": null,
   "metadata": {
    "collapsed": true
   },
   "outputs": [],
   "source": [
    "p <- copy_to(my_db, teamtbl)"
   ]
  },
  {
   "cell_type": "code",
   "execution_count": null,
   "metadata": {
    "collapsed": false
   },
   "outputs": [],
   "source": [
    "q3_h1 <- sqldf(\"SELECT home_player_1 AS id, league_id AS lid FROM teamtbl\")\n",
    "q3_h2 <- sqldf(\"SELECT home_player_2 AS id, league_id AS lid FROM teamtbl\")\n",
    "q3_h3 <- sqldf(\"SELECT home_player_3 AS id, league_id AS lid FROM teamtbl\")\n",
    "q3_h4 <- sqldf(\"SELECT home_player_4 AS id, league_id AS lid FROM teamtbl\")\n",
    "q3_h5 <- sqldf(\"SELECT home_player_5 AS id, league_id AS lid FROM teamtbl\")\n",
    "q3_h6 <- sqldf(\"SELECT home_player_6 AS id, league_id AS lid FROM teamtbl\")\n",
    "q3_h7 <- sqldf(\"SELECT home_player_7 AS id, league_id AS lid FROM teamtbl\")\n",
    "q3_h8 <- sqldf(\"SELECT home_player_8 AS id, league_id AS lid FROM teamtbl\")\n",
    "q3_h9 <- sqldf(\"SELECT home_player_9 AS id, league_id AS lid FROM teamtbl\")\n",
    "q3_h10 <- sqldf(\"SELECT home_player_10 AS id, league_id AS lid FROM teamtbl\")\n",
    "q3_h11 <- sqldf(\"SELECT home_player_11 AS id, league_id AS lid FROM teamtbl\")\n",
    "\n",
    "q3_a1 <- sqldf(\"SELECT away_player_1 AS id, league_id AS lid FROM teamtbl\")\n",
    "q3_a2 <- sqldf(\"SELECT away_player_2 AS id, league_id AS lid FROM teamtbl\")\n",
    "q3_a3 <- sqldf(\"SELECT away_player_3 AS id, league_id AS lid FROM teamtbl\")\n",
    "q3_a4 <- sqldf(\"SELECT away_player_4 AS id, league_id AS lid FROM teamtbl\")\n",
    "q3_a5 <- sqldf(\"SELECT away_player_5 AS id, league_id AS lid FROM teamtbl\")\n",
    "q3_a6 <- sqldf(\"SELECT away_player_6 AS id, league_id AS lid FROM teamtbl\")\n",
    "q3_a7 <- sqldf(\"SELECT away_player_7 AS id, league_id AS lid FROM teamtbl\")\n",
    "q3_a8 <- sqldf(\"SELECT away_player_8 AS id, league_id AS lid FROM teamtbl\")\n",
    "q3_a9 <- sqldf(\"SELECT away_player_9 AS id, league_id AS lid FROM teamtbl\")\n",
    "q3_a10 <- sqldf(\"SELECT away_player_10 AS id, league_id AS lid FROM teamtbl\")\n",
    "q3_a11 <- sqldf(\"SELECT away_player_11 AS id, league_id AS lid FROM teamtbl\")"
   ]
  },
  {
   "cell_type": "markdown",
   "metadata": {},
   "source": [
    "Combining all the relevant records."
   ]
  },
  {
   "cell_type": "code",
   "execution_count": null,
   "metadata": {
    "collapsed": false
   },
   "outputs": [],
   "source": [
    "h3_temp <- rbind(\n",
    "q3_h1,\n",
    "q3_h2,\n",
    "q3_h3,\n",
    "q3_h4,\n",
    "q3_h5,\n",
    "q3_h6,\n",
    "q3_h7,\n",
    "q3_h8,\n",
    "q3_h9,\n",
    "q3_h10,\n",
    "q3_h11,\n",
    "q3_a1,\n",
    "q3_a2,\n",
    "q3_a3,\n",
    "q3_a4,\n",
    "q3_a5,\n",
    "q3_a6,\n",
    "q3_a7,\n",
    "q3_a8,\n",
    "q3_a9,\n",
    "q3_a10,\n",
    "q3_a11)"
   ]
  },
  {
   "cell_type": "code",
   "execution_count": null,
   "metadata": {
    "collapsed": false
   },
   "outputs": [],
   "source": [
    "class(h3_temp)\n",
    "head(h3_temp, 3)"
   ]
  },
  {
   "cell_type": "code",
   "execution_count": null,
   "metadata": {
    "collapsed": true
   },
   "outputs": [],
   "source": [
    "q3 <- sqldf(\"SELECT DISTINCT player_name, h3_temp.id, COUNT(*)\n",
    "                FROM h3_temp, playertbl\n",
    "                WHERE playertbl.player_api_id = h3_temp.id\n",
    "                GROUP BY id\")"
   ]
  },
  {
   "cell_type": "code",
   "execution_count": null,
   "metadata": {
    "collapsed": true
   },
   "outputs": [],
   "source": [
    "q3"
   ]
  },
  {
   "cell_type": "markdown",
   "metadata": {},
   "source": [
    "<b>Which are the top 10 players by number of leagues they played in?</b>\n",
    "<br/>Using the league_id with alias lid extracted from the data in the query made above, this was done to reduce the data recall time across the 2 tasks."
   ]
  },
  {
   "cell_type": "code",
   "execution_count": null,
   "metadata": {
    "collapsed": false,
    "scrolled": true
   },
   "outputs": [],
   "source": [
    "q4 <- tbl(my_db, sql(\"SELECT DISTINCT player_name, COUNT(*)\n",
    "                        FROM h3_temp, playertbl\n",
    "                        WHERE playertbl.player_api_id = h3_temp.id\n",
    "                        GROUP BY lid\"))"
   ]
  },
  {
   "cell_type": "code",
   "execution_count": null,
   "metadata": {
    "collapsed": false,
    "scrolled": true
   },
   "outputs": [],
   "source": [
    "q4"
   ]
  },
  {
   "cell_type": "markdown",
   "metadata": {},
   "source": [
    "<b>Which are the top 10 teams by sum of build up play attributes?</b>\n",
    "<br/> I have preadded the columns dealing with the data of buildUpPlay, because we were interested in the total of them and not individual and also they help save a space by reducing relevant number of columns x records."
   ]
  },
  {
   "cell_type": "code",
   "execution_count": null,
   "metadata": {
    "collapsed": false
   },
   "outputs": [],
   "source": [
    "q5 <- tbl(my_db, sql(\"SELECT DISTINCT team_long_name, buildUpPlay\n",
    "                        FROM teamtbl\n",
    "                        ORDER BY buildUpPlay DESC\n",
    "                        LIMIT 10\"))"
   ]
  },
  {
   "cell_type": "code",
   "execution_count": null,
   "metadata": {
    "collapsed": false
   },
   "outputs": [],
   "source": [
    "q5"
   ]
  },
  {
   "cell_type": "markdown",
   "metadata": {},
   "source": [
    "<b>Which are the top 10 teams by sum of chance creation attributes?</b>\n",
    "<br/>Again summed up the columns of chanceCreation so as to avoid getting too many records in the teamtbl and also retain only the data that we are interested in for this assignment - the sum of those values."
   ]
  },
  {
   "cell_type": "code",
   "execution_count": null,
   "metadata": {
    "collapsed": true
   },
   "outputs": [],
   "source": [
    "q6 <- tbl(my_db, sql(\"SELECT DISTINCT team_long_name, chanceCreation\n",
    "                            FROM teamtbl\n",
    "                            ORDER BY chanceCreation DESC\n",
    "                            LIMIT 10\"))"
   ]
  },
  {
   "cell_type": "code",
   "execution_count": null,
   "metadata": {
    "collapsed": false
   },
   "outputs": [],
   "source": [
    "q6"
   ]
  },
  {
   "cell_type": "markdown",
   "metadata": {},
   "source": [
    "<b>Which are the top 10 teams by sum of defense attributes?</b>\n",
    "<br/>Summed up defence values for the reason as above. I practically reduced my team.csv size from the tune of 3+ GB to ~160 MB with such merges and summation across columnar records."
   ]
  },
  {
   "cell_type": "code",
   "execution_count": null,
   "metadata": {
    "collapsed": false
   },
   "outputs": [],
   "source": [
    "q7 <- tbl(my_db, sql(\"SELECT DISTINCT team_long_name, defence\n",
    "                        FROM teamtbl\n",
    "                        ORDER BY defence DESC\n",
    "                        LIMIT 10\"))"
   ]
  },
  {
   "cell_type": "code",
   "execution_count": null,
   "metadata": {
    "collapsed": false
   },
   "outputs": [],
   "source": [
    "q7"
   ]
  },
  {
   "cell_type": "markdown",
   "metadata": {},
   "source": [
    "<b>Which are the top 10 teams by number of scored goals?</b>\n",
    "<br/> Picked up this question out of the 3 options to choose from. The rationale is to have 2 subsets of goals data one for home_team and away_team each, so matching can be done better. Eventually group it by the same team id to arrive at a combined set of goals scored by the team."
   ]
  },
  {
   "cell_type": "code",
   "execution_count": null,
   "metadata": {
    "collapsed": false
   },
   "outputs": [],
   "source": [
    "colnames(teamtbl)"
   ]
  },
  {
   "cell_type": "code",
   "execution_count": null,
   "metadata": {
    "collapsed": false,
    "scrolled": true
   },
   "outputs": [],
   "source": [
    "hgoal <- data.frame(tbl(my_db, sql(\"SELECT DISTINCT home_team_api_id AS id, home_team_goal AS goal, match_api_id AS mid\n",
    "                                    FROM teamtbl\")))"
   ]
  },
  {
   "cell_type": "code",
   "execution_count": null,
   "metadata": {
    "collapsed": true
   },
   "outputs": [],
   "source": [
    "hgoaltbl <- copy_to(my_db, tbl_df(hgoal))"
   ]
  },
  {
   "cell_type": "code",
   "execution_count": null,
   "metadata": {
    "collapsed": false
   },
   "outputs": [],
   "source": [
    "class(hgoal)"
   ]
  },
  {
   "cell_type": "code",
   "execution_count": null,
   "metadata": {
    "collapsed": true
   },
   "outputs": [],
   "source": [
    "agoal <- data.frame(tbl(my_db, sql(\"SELECT DISTINCT away_team_api_id AS id, away_team_goal AS goal, match_api_id AS mid\n",
    "                                    FROM teamtbl\")))"
   ]
  },
  {
   "cell_type": "code",
   "execution_count": null,
   "metadata": {
    "collapsed": false
   },
   "outputs": [],
   "source": [
    "agoaltbl <- copy_to(my_db, tbl_df(agoal))"
   ]
  },
  {
   "cell_type": "code",
   "execution_count": null,
   "metadata": {
    "collapsed": false
   },
   "outputs": [],
   "source": [
    "totgoal <- data.frame(tbl(my_db, sql(\"SELECT DISTINCT hgoal.id AS teamid, (hgoal.goal+agoal.goal) AS teamgoal\n",
    "                                        FROM hgoal, agoal\n",
    "                                        WHERE hgoal.id = agoal.id\n",
    "                                        ORDER BY teamgoal DESC\n",
    "                                        LIMIT 10\")))"
   ]
  },
  {
   "cell_type": "code",
   "execution_count": null,
   "metadata": {
    "collapsed": true
   },
   "outputs": [],
   "source": [
    "totgoal"
   ]
  },
  {
   "cell_type": "code",
   "execution_count": null,
   "metadata": {
    "collapsed": true
   },
   "outputs": [],
   "source": []
  }
 ],
 "metadata": {
  "kernelspec": {
   "display_name": "R",
   "language": "R",
   "name": "ir"
  },
  "language_info": {
   "codemirror_mode": "r",
   "file_extension": ".r",
   "mimetype": "text/x-r-source",
   "name": "R",
   "pygments_lexer": "r",
   "version": "3.3.2"
  }
 },
 "nbformat": 4,
 "nbformat_minor": 2
}
