{
 "cells": [
  {
   "cell_type": "markdown",
   "metadata": {},
   "source": [
    "# JAY BAKSHI : UB ID - 50206954"
   ]
  },
  {
   "cell_type": "markdown",
   "metadata": {},
   "source": [
    "Installing and importing relevant packages and libraries."
   ]
  },
  {
   "cell_type": "code",
   "execution_count": null,
   "metadata": {
    "collapsed": false,
    "scrolled": false
   },
   "outputs": [],
   "source": [
    "install.packages('dpylr', repos = 'https://cran.r-project.org')"
   ]
  },
  {
   "cell_type": "code",
   "execution_count": null,
   "metadata": {
    "collapsed": false
   },
   "outputs": [],
   "source": [
    "install.packages('DBI', repos=\"https://cran.r-project.org\")"
   ]
  },
  {
   "cell_type": "code",
   "execution_count": null,
   "metadata": {
    "collapsed": false,
    "scrolled": true
   },
   "outputs": [],
   "source": [
    "install.packages('RSQLite', repos = 'http://cran.r-project.org')"
   ]
  },
  {
   "cell_type": "code",
   "execution_count": null,
   "metadata": {
    "collapsed": false
   },
   "outputs": [],
   "source": [
    "install.packages('sqldf', repos=\"https://cran.r-project.org\")"
   ]
  },
  {
   "cell_type": "code",
   "execution_count": null,
   "metadata": {
    "collapsed": false,
    "scrolled": false
   },
   "outputs": [],
   "source": [
    "library(dplyr)"
   ]
  },
  {
   "cell_type": "code",
   "execution_count": null,
   "metadata": {
    "collapsed": false
   },
   "outputs": [],
   "source": [
    "library(DBI)"
   ]
  },
  {
   "cell_type": "code",
   "execution_count": null,
   "metadata": {
    "collapsed": false
   },
   "outputs": [],
   "source": [
    "library(RSQLite)"
   ]
  },
  {
   "cell_type": "code",
   "execution_count": null,
   "metadata": {
    "collapsed": false
   },
   "outputs": [],
   "source": [
    "library(sqldf)"
   ]
  },
  {
   "cell_type": "markdown",
   "metadata": {},
   "source": [
    "### Downloaded the dataset at https://www.kaggle.com/hugomathien/soccer"
   ]
  },
  {
   "cell_type": "markdown",
   "metadata": {},
   "source": [
    "Accessing the database.sqlite using DBI methods -"
   ]
  },
  {
   "cell_type": "code",
   "execution_count": null,
   "metadata": {
    "collapsed": false
   },
   "outputs": [],
   "source": [
    "dbconn <- dbConnect(SQLite(), dbname='database.sqlite')"
   ]
  },
  {
   "cell_type": "code",
   "execution_count": null,
   "metadata": {
    "collapsed": true
   },
   "outputs": [],
   "source": [
    "class(dbconn)"
   ]
  },
  {
   "cell_type": "code",
   "execution_count": null,
   "metadata": {
    "collapsed": false
   },
   "outputs": [],
   "source": [
    "dbListTables(dbconn)"
   ]
  },
  {
   "cell_type": "markdown",
   "metadata": {},
   "source": [
    "Accessing the database.sqlite using dplyr methods -"
   ]
  },
  {
   "cell_type": "code",
   "execution_count": null,
   "metadata": {
    "collapsed": false
   },
   "outputs": [],
   "source": [
    "my_db <- src_sqlite(\"database.sqlite\", create=T)"
   ]
  },
  {
   "cell_type": "code",
   "execution_count": null,
   "metadata": {
    "collapsed": false
   },
   "outputs": [],
   "source": [
    "class(my_db)"
   ]
  },
  {
   "cell_type": "code",
   "execution_count": null,
   "metadata": {
    "collapsed": false
   },
   "outputs": [],
   "source": [
    "src_tbls(my_db)"
   ]
  },
  {
   "cell_type": "markdown",
   "metadata": {},
   "source": [
    "<b>Extracting the relevant columns</b>\n",
    "<br/>Match - date, match_api_id, home_team_api_id, away_team_api_id, home_player_1, home_player_2, home_player_3, home_player_4, home_player_5, home_player_6, home_player_7, home_player_8, home_player_9, home_player_10, home_player_11, away_player_1, away_player_2, away_player_3, away_player_4, away_player_5, away_player_6, away_player_7, away_player_8, away_player_9, away_player_10, away_player_11, home_team_goal, away_team_goal, foulcommit, card\n",
    "<br/>Player - player_api_id, player_name\n",
    "<br/>Player_Attributes - player_api_id, date, overall_rating, gk_diving, gk_handling, gk_kicking, gk_positioning, gk_reflexes\n",
    "<br/>Team - team_api_id, team_long_name\n",
    "<br/>Team_Attributes - team_api_id, buildUpPlaySpeed, buildUpPlayDribbling, buildUpPlayPassing, chanceCreationPassing, chanceCreationCrossing, chanceCreationShooting, defencePressure, defenceAggression, defenceTeamWidth"
   ]
  },
  {
   "cell_type": "markdown",
   "metadata": {},
   "source": [
    "<code>playerrel</code> stores all the player and player_attributes relevant columns"
   ]
  },
  {
   "cell_type": "code",
   "execution_count": null,
   "metadata": {
    "collapsed": false
   },
   "outputs": [],
   "source": [
    "playerrel.df <- data.frame(tbl(my_db, sql(\"SELECT DISTINCT Player.player_api_id, player_name, \n",
    "                                            date, overall_rating, \n",
    "                                            (gk_diving + gk_handling + gk_kicking + gk_positioning + gk_reflexes) AS gk_all\n",
    "                                            FROM Player, Player_Attributes\n",
    "                                            WHERE Player.player_api_id = Player_Attributes.player_api_id\")))"
   ]
  },
  {
   "cell_type": "code",
   "execution_count": null,
   "metadata": {
    "collapsed": false
   },
   "outputs": [],
   "source": [
    "head(playerrel.df, 10)"
   ]
  },
  {
   "cell_type": "markdown",
   "metadata": {},
   "source": [
    "Checking up on the dimension and class of the playerrel data frame"
   ]
  },
  {
   "cell_type": "code",
   "execution_count": null,
   "metadata": {
    "collapsed": false
   },
   "outputs": [],
   "source": [
    "class(playerrel.df)\n",
    "dim(playerrel.df)"
   ]
  },
  {
   "cell_type": "code",
   "execution_count": null,
   "metadata": {
    "collapsed": false,
    "scrolled": true
   },
   "outputs": [],
   "source": [
    "tbl(my_db, sql(\"SELECT COUNT(*) \n",
    "                FROM Player, Player_Attributes\n",
    "                WHERE Player.player_api_id = Player_Attributes.player_api_id\"))"
   ]
  },
  {
   "cell_type": "markdown",
   "metadata": {},
   "source": [
    "Writing this to the <strong>player.csv</strong> file and saving it locally."
   ]
  },
  {
   "cell_type": "code",
   "execution_count": null,
   "metadata": {
    "collapsed": false
   },
   "outputs": [],
   "source": [
    "write.csv(playerrel.df, file=\"player.csv\")"
   ]
  },
  {
   "cell_type": "markdown",
   "metadata": {},
   "source": [
    "<code>matchrel</code> will store the relevant columns of match table, this I'll combine with the relevant columns from team and team_Attributes below to form <strong>team.csv</strong>"
   ]
  },
  {
   "cell_type": "code",
   "execution_count": null,
   "metadata": {
    "collapsed": false
   },
   "outputs": [],
   "source": [
    "matchrel <- data.frame(tbl(my_db, sql(\"SELECT DISTINCT match_api_id, home_team_api_id, league_id,\n",
    "                                            away_team_api_id, home_player_1, home_player_2, \n",
    "                                            home_player_3, home_player_4, home_player_5, home_player_6,\n",
    "                                            home_player_7, home_player_8, home_player_9, home_player_10,\n",
    "                                            home_player_11, away_player_1, away_player_2, away_player_3, \n",
    "                                            \n",
    "                                            away_player_4, away_player_5, away_player_6, away_player_7, \n",
    "                                            away_player_8, away_player_9, away_player_10, away_player_11, \n",
    "                                            home_team_goal, away_team_goal\n",
    "                                            \n",
    "                                            FROM Match\")))"
   ]
  },
  {
   "cell_type": "markdown",
   "metadata": {},
   "source": [
    "Testing and making sure of the data in matchrel"
   ]
  },
  {
   "cell_type": "code",
   "execution_count": null,
   "metadata": {
    "collapsed": false
   },
   "outputs": [],
   "source": [
    "head(matchrel, 10)"
   ]
  },
  {
   "cell_type": "code",
   "execution_count": null,
   "metadata": {
    "collapsed": true
   },
   "outputs": [],
   "source": [
    "class(matchrel)\n",
    "dim(matchrel)"
   ]
  },
  {
   "cell_type": "markdown",
   "metadata": {},
   "source": [
    "<code>teamrel</code> is storing all the relevant data and columns from team and team_attributes table."
   ]
  },
  {
   "cell_type": "code",
   "execution_count": null,
   "metadata": {
    "collapsed": false
   },
   "outputs": [],
   "source": [
    "teamrel <- data.frame(tbl(my_db, sql(\"SELECT DISTINCT Team.team_api_id, team_long_name,\n",
    "                                        (buildUpPlaySpeed + buildUpPlayDribbling + buildUpPlayPassing) AS buildUpPlay,\n",
    "                                        (chanceCreationPassing + chanceCreationCrossing + chanceCreationShooting) AS chanceCreation, \n",
    "                                        (defencePressure + defenceAggression + defenceTeamWidth) AS defence\n",
    "                                        FROM Team, Team_Attributes\n",
    "                                        WHERE Team.team_api_id = Team_Attributes.team_api_id\")))"
   ]
  },
  {
   "cell_type": "markdown",
   "metadata": {},
   "source": [
    "Keeping a check on the data in teamrel data frame"
   ]
  },
  {
   "cell_type": "code",
   "execution_count": null,
   "metadata": {
    "collapsed": false
   },
   "outputs": [],
   "source": [
    "head(teamrel, 10)"
   ]
  },
  {
   "cell_type": "code",
   "execution_count": null,
   "metadata": {
    "collapsed": false
   },
   "outputs": [],
   "source": [
    "class(teamrel)\n",
    "dim(teamrel)"
   ]
  },
  {
   "cell_type": "markdown",
   "metadata": {},
   "source": [
    "<code>teammatchrel</code> is going to store the combination of the columns across match, team and team_attributes to later on write this down in <strong>team.csv</strong>"
   ]
  },
  {
   "cell_type": "code",
   "execution_count": null,
   "metadata": {
    "collapsed": false
   },
   "outputs": [],
   "source": [
    "teammatchrel <- sqldf(\"SELECT DISTINCT *\n",
    "                         FROM (SELECT DISTINCT *\n",
    "                             FROM matchrel\n",
    "                             LEFT JOIN teamrel\n",
    "                             ON matchrel.home_team_api_id = teamrel.team_api_id) AS Temp\n",
    "                                            LEFT JOIN teamrel\n",
    "                                            ON Temp.away_team_api_id = teamrel.team_api_id\")"
   ]
  },
  {
   "cell_type": "code",
   "execution_count": null,
   "metadata": {
    "collapsed": false
   },
   "outputs": [],
   "source": [
    "colnames(teammatchrel)"
   ]
  },
  {
   "cell_type": "code",
   "execution_count": null,
   "metadata": {
    "collapsed": false,
    "scrolled": true
   },
   "outputs": [],
   "source": [
    "head(teammatchrel, 10)"
   ]
  },
  {
   "cell_type": "code",
   "execution_count": null,
   "metadata": {
    "collapsed": false,
    "scrolled": true
   },
   "outputs": [],
   "source": [
    "dim(teammatchrel)\n",
    "str(teammatchrel)"
   ]
  },
  {
   "cell_type": "code",
   "execution_count": null,
   "metadata": {
    "collapsed": true
   },
   "outputs": [],
   "source": [
    "write.csv(teammatchrel, file=\"team.csv\")"
   ]
  },
  {
   "cell_type": "markdown",
   "metadata": {
    "collapsed": true
   },
   "source": [
    "With this Lab 2 Activity 2 is finished."
   ]
  }
 ],
 "metadata": {
  "kernelspec": {
   "display_name": "R",
   "language": "R",
   "name": "ir"
  },
  "language_info": {
   "codemirror_mode": "r",
   "file_extension": ".r",
   "mimetype": "text/x-r-source",
   "name": "R",
   "pygments_lexer": "r",
   "version": "3.3.2"
  }
 },
 "nbformat": 4,
 "nbformat_minor": 2
}
